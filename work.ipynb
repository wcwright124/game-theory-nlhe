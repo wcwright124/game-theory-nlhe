{
 "cells": [
  {
   "cell_type": "markdown",
   "metadata": {},
   "source": [
    "The pokereval library can be installed [here](https://sourceforge.net/projects/fpdb/files/fpdb/pypoker-eval-win32/)."
   ]
  },
  {
   "cell_type": "code",
   "execution_count": 1,
   "metadata": {
    "collapsed": false
   },
   "outputs": [
    {
     "name": "stdout",
     "output_type": "stream",
     "text": [
      "Populating the interactive namespace from numpy and matplotlib\n"
     ]
    }
   ],
   "source": [
    "import os\n",
    "import pokereval\n",
    "import numpy as np\n",
    "#import scipy.misc\n",
    "import scipy.special\n",
    "# % indicates an ipython commnand\n",
    "%pylab inline "
   ]
  },
  {
   "cell_type": "code",
   "execution_count": 2,
   "metadata": {
    "collapsed": true
   },
   "outputs": [],
   "source": [
    "pe = pokereval.PokerEval()"
   ]
  },
  {
   "cell_type": "code",
   "execution_count": 3,
   "metadata": {
    "collapsed": true
   },
   "outputs": [],
   "source": [
    "# ? lets you access documentation for functions in jupyter\n",
    "pokereval.PokerEval?"
   ]
  },
  {
   "cell_type": "code",
   "execution_count": 3,
   "metadata": {
    "collapsed": false
   },
   "outputs": [],
   "source": [
    "numCards = 52\n",
    "numRanks = 13\n",
    "numSuits = 4\n",
    "numHands = 1326 # nchoosek(52,2)\n",
    "numVillainHands = 1225 # nchoosek(50,2)\n",
    "\n",
    "suits = ['h', 'd', 'c', 's']\n",
    "ranks = ['A', 'K', 'Q', 'J', 'T', '9', '8', '7', '6', '5', '4', '3', '2']\n",
    "cards = ['2h', '3h', '4h', '5h', '6h', '7h', '8h', '9h', 'Th', 'Jh', 'Qh', 'Kh', 'Ah',\n",
    "         '2d', '3d', '4d', '5d', '6d', '7d', '8d', '9d', 'Td', 'Jd', 'Qd', 'Kd', 'Ad',\n",
    "         '2c', '3c', '4c', '5c', '6c', '7c', '8c', '9c', 'Tc', 'Jc', 'Qc', 'Kc', 'Ac',\n",
    "         '2s', '3s', '4s', '5s', '6s', '7s', '8s', '9s', 'Ts', 'Js', 'Qs', 'Ks', 'As']"
   ]
  },
  {
   "cell_type": "code",
   "execution_count": 4,
   "metadata": {
    "collapsed": true
   },
   "outputs": [],
   "source": [
    "handAsStrings = ['Ah', 'Jd']\n",
    "boardAsStrings = ['8d', '6s', '3h', 'Kd', '__']"
   ]
  },
  {
   "cell_type": "code",
   "execution_count": 5,
   "metadata": {
    "collapsed": false
   },
   "outputs": [],
   "source": [
    "# Convention always work with numerical representation of hands and boards\n",
    "#    Convert to strings at the last minute for human readable output\n",
    "#    we will indicate stringness in the variable name. Thus whenever, we want\n",
    "#    to manually input a hand or board using the text, we'll need to use\n",
    "#    pe.string2card function\n",
    "# Notice that cards run from 0 to 51, while the empty card gets 255.\n",
    "hand = pe.string2card(handAsStrings) # accepts a list of strings and returns list of numbers encoding the cards\n",
    "board = pe.string2card(boardAsStrings)"
   ]
  },
  {
   "cell_type": "code",
   "execution_count": 6,
   "metadata": {
    "collapsed": false
   },
   "outputs": [],
   "source": [
    "# This is a function to check for conflicts between lists of cards\n",
    "#\n",
    "# Input:\n",
    "#    cards1, cards2 - list of cards represented by numbers\n",
    "# Output:\n",
    "#    True if the lists conflict and False otherwise\n",
    "# Side-effects:\n",
    "#    n/a\n",
    "# Note: we don't return true if both are the empty card\n",
    "def conflicts(cards1, cards2):\n",
    "    for card in cards1:\n",
    "        if card in cards2 and card < numCards:\n",
    "            return True\n",
    "    return False"
   ]
  },
  {
   "cell_type": "code",
   "execution_count": 7,
   "metadata": {
    "collapsed": false
   },
   "outputs": [
    {
     "name": "stdout",
     "output_type": "stream",
     "text": [
      "False\n",
      "True\n"
     ]
    }
   ],
   "source": [
    "# Note the conflicts function is __globally__ accesible\n",
    "print(conflicts(hand, board))\n",
    "print(conflicts(pe.string2card(['Ah', '3h']), board))"
   ]
  },
  {
   "cell_type": "code",
   "execution_count": 9,
   "metadata": {
    "collapsed": true
   },
   "outputs": [],
   "source": [
    "pe.poker_eval?"
   ]
  },
  {
   "cell_type": "code",
   "execution_count": 8,
   "metadata": {
    "collapsed": false
   },
   "outputs": [],
   "source": [
    "villainHand = pe.string2card(['As', '4s'])\n",
    "peresult = pe.poker_eval(game='holdem', pockets = [hand, villainHand], board = board)"
   ]
  },
  {
   "cell_type": "code",
   "execution_count": 9,
   "metadata": {
    "collapsed": true
   },
   "outputs": [],
   "source": [
    "# We want to compute an equity using pe.poker_eval and make a function to\n",
    "# take care of the details\n",
    "# Inputs:\n",
    "#    hand - list of cards in numerical format\n",
    "#    villainHand - list of cards in numerical format\n",
    "#    board - list of cards describing the board in numerical format\n",
    "# Ouput: all-in equity of hand vs villainHand on board\n",
    "#        unless any of hand, villainHand, and board conflict\n",
    "#        in which case we return -1\n",
    "def getEquityVsHand(hand, villainHand, board):\n",
    "    if conflicts(hand, villainHand) or conflicts(hand, board) or conflicts(board, villainHand):\n",
    "        return -1\n",
    "    peresult = pe.poker_eval(game='holdem', pockets = [hand, villainHand], board = board)\n",
    "    numWins = peresult['eval'][0]['winhi']\n",
    "    numTies = peresult['eval'][0]['tiehi']\n",
    "    numRunouts = peresult['info'][0]\n",
    "    return (numWins + 0.5 * numTies) / numRunouts"
   ]
  },
  {
   "cell_type": "code",
   "execution_count": 10,
   "metadata": {
    "collapsed": false
   },
   "outputs": [
    {
     "data": {
      "text/plain": [
       "0.13636363636363635"
      ]
     },
     "execution_count": 10,
     "metadata": {},
     "output_type": "execute_result"
    }
   ],
   "source": [
    "hand1 = pe.string2card(['Ah', 'Jd'])\n",
    "hand2 = pe.string2card(['4c', '3s'])\n",
    "getEquityVsHand(hand1, hand2, board)"
   ]
  },
  {
   "cell_type": "code",
   "execution_count": 14,
   "metadata": {
    "collapsed": true
   },
   "outputs": [],
   "source": [
    "# To avoid expensive equity calculations, we will pre-compute all equities for\n",
    "# any board range (including pre-flop board) we're interested in.\n",
    "# Essentially, we'll make a table that contains all hand-vs-hand matchups\n",
    "# and we'll compute the equity of any matchup once. If we need it in the future,\n",
    "# we can just look it up. This greatly improves the speed of our program."
   ]
  },
  {
   "cell_type": "code",
   "execution_count": 11,
   "metadata": {
    "collapsed": true
   },
   "outputs": [],
   "source": [
    "# EquityArray class organizes hand-vs-hand equities for a particular board.\n",
    "class EquityArray:\n",
    "    \n",
    "    # Constructor\n",
    "    # Inputs:\n",
    "    #    b - a list of numbers representing the board\n",
    "    def __init__(self, b):\n",
    "        self.board = b\n",
    "        self.eArray = numpy.zeros((numCards, numCards, numCards, numCards))\n",
    "        if os.path.isfile(self.getFilename()):\n",
    "            self.eArray = np.load(self.getFilename())\n",
    "        else:\n",
    "            self.makeArray() # this is time consuming so we only want to call it once\n",
    "            \n",
    "    def makeArray(self):\n",
    "        # fill in self.eArray\n",
    "        # rewrite with list comprehension\n",
    "        for i in range(numCards):\n",
    "            for j in range(numCards):\n",
    "                for a in range(numCards):\n",
    "                    for b in range(numCards):\n",
    "                        hand = [i, j]\n",
    "                        villainHand = [a, b]\n",
    "                        self.eArray [i][j][a][b] = getEquityVsHand(hand, villainHand, self.board)\n",
    "        # save self.eArray to disk\n",
    "        np.save(self.getFilename(), self.eArray)\n",
    "        \n",
    "    \n",
    "    # Output: filename built from our board\n",
    "    # Ex: if pe.card2string(self.board) == ['Ah', 'Jd', '2c', '__', '__']\n",
    "    # then return 'AhJd2c.npy'\n",
    "    def getFilename(self):\n",
    "        boardStr = ''\n",
    "        boardAsStrings = pe.card2string(self.board)\n",
    "        for i in boardAsStrings:\n",
    "            if i != '__':\n",
    "                boardStr += i\n",
    "        if boardStr == '': # only for preflop board\n",
    "            boardStr = 'preflop'\n",
    "        boardStr += '.ea.npy'\n",
    "        return boardStr"
   ]
  },
  {
   "cell_type": "code",
   "execution_count": 12,
   "metadata": {
    "collapsed": false
   },
   "outputs": [
    {
     "data": {
      "text/plain": [
       "['8d', '6s', '3h', 'Kd', '__']"
      ]
     },
     "execution_count": 12,
     "metadata": {},
     "output_type": "execute_result"
    }
   ],
   "source": [
    "pe.card2string(board)"
   ]
  },
  {
   "cell_type": "code",
   "execution_count": 13,
   "metadata": {
    "collapsed": false
   },
   "outputs": [
    {
     "data": {
      "text/plain": [
       "'8d6s3hKd.ea.npy'"
      ]
     },
     "execution_count": 13,
     "metadata": {},
     "output_type": "execute_result"
    }
   ],
   "source": [
    "myEArray = EquityArray(board)\n",
    "myEArray.getFilename()"
   ]
  },
  {
   "cell_type": "code",
   "execution_count": 14,
   "metadata": {
    "collapsed": true
   },
   "outputs": [],
   "source": [
    "def getEquityVsHandFast(hand, villainHand, ea):\n",
    "    return ea.eArray[hand[0]][hand[1]][villainHand[0]][villainHand[1]]"
   ]
  },
  {
   "cell_type": "code",
   "execution_count": 19,
   "metadata": {
    "collapsed": false
   },
   "outputs": [
    {
     "name": "stdout",
     "output_type": "stream",
     "text": [
      "100000 loops, best of 3: 14.6 µs per loop\n"
     ]
    }
   ],
   "source": [
    "%timeit getEquityVsHand(hand, villainHand, board)"
   ]
  },
  {
   "cell_type": "code",
   "execution_count": 20,
   "metadata": {
    "collapsed": false
   },
   "outputs": [
    {
     "name": "stdout",
     "output_type": "stream",
     "text": [
      "The slowest run took 10.79 times longer than the fastest. This could mean that an intermediate result is being cached.\n",
      "1000000 loops, best of 3: 751 ns per loop\n"
     ]
    }
   ],
   "source": [
    "%timeit getEquityVsHandFast(hand, villainHand, myEArray)"
   ]
  },
  {
   "cell_type": "code",
   "execution_count": 15,
   "metadata": {
    "collapsed": true
   },
   "outputs": [],
   "source": [
    "# Inputs:\n",
    "#    handArray - numpy array of the same sort internal to the range class\n",
    "#    cardslist - a list of cards in numerical format\n",
    "# Outputs: n/a\n",
    "# Side-Effects: modifies handArray to set the frequency of all hands\n",
    "#               that conflict with cards in cardslist to 0\n",
    "def zeroHandsWithConflicts(handArray, cardslist):\n",
    "    for c in cardslist:\n",
    "        # conditional is necessary because handlist may contain\n",
    "        # 255 for '__'\n",
    "        if c < numCards:\n",
    "            handArray[c, :] = 0\n",
    "            handArray[:, c] = 0"
   ]
  },
  {
   "cell_type": "code",
   "execution_count": 16,
   "metadata": {
    "collapsed": false
   },
   "outputs": [],
   "source": [
    "# The Range class will describe a poker hand range \n",
    "# The data: \n",
    "#    - a numpy array of size numCards-by-numCards, r, of numbers between\n",
    "#       0 and 1, each of which describes the fraction of a particular hand\n",
    "#       combination.\n",
    "\n",
    "# Note: there is some redundandcy in our representation.\n",
    "# Ex: (3h, 2h) and (2h, 3h) at [0][1] and [1][0], respectively\n",
    "# For this reason, we only will access entries above the diagonal\n",
    "# i.e. r[i][j] such that j > i.\n",
    "\n",
    "# TBA: figure out a more memory efficient way to represent the range\n",
    "# since we only use entries above the diagonal of the matrix.\n",
    "\n",
    "class Range:\n",
    "    def __init__(self, initFrac = None):\n",
    "        self.r = np.zeros((numCards, numCards))\n",
    "        if initFrac != None:\n",
    "            self.setAllFracs(initFrac)\n",
    "    \n",
    "    # Input: a hand represented by a list of two numbers\n",
    "    # Output: the fraction of the hand contained in the range\n",
    "    # Side-effects: n/a\n",
    "    def getFrac(self, hand):\n",
    "        card1, card2 = hand\n",
    "        if card1 > card2:\n",
    "            card1, card2 = card2, card1\n",
    "        return self.r[card1][card2]\n",
    "    \n",
    "    # Inputs: n/a\n",
    "    # Output: total number of hand combinations contained in the range\n",
    "    # Side-Effects: n/a\n",
    "    def getNumHands(self):\n",
    "        return sum(self.r)\n",
    "    \n",
    "    # Input: cardslist - a list of cards in numerical format\n",
    "    # Output: the number of hand combinations in the hand range that\n",
    "    #         do not conflict with any cards in cardslists\n",
    "    # Side-Effects: n/a\n",
    "    def getNumHandsWithoutConflicts(self, cardslist):\n",
    "        temp = numpy.copy(self.r)\n",
    "        zeroHandsWithConflicts(temp, cardslist) # note this is created outside our range class\n",
    "        return sum(temp)\n",
    "    \n",
    "    # Input: \n",
    "    #    hand - list of numbers describing a hand\n",
    "    #    f - a fraction between 0 and 1\n",
    "    # Output: n/a\n",
    "    # Side-Effects: sets the fraction of hands in the range to f\n",
    "    def setFrac(self, hand, f):\n",
    "        card1, card2 = hand\n",
    "        if card1 > card2:\n",
    "            card1, card2 = card2, card1\n",
    "        self.r[card1][card2] = f\n",
    "        \n",
    "    # Input: num - a frequency between 0 and 1\n",
    "    # Outputs: n/a\n",
    "    # Side-Effects: set the fraction of all hand combos to num\n",
    "    def setAllFracs(self, num):\n",
    "        for i in range(numCards):\n",
    "                for j in range(i+1, numCards):\n",
    "                    self.r[i][j] = num\n",
    "    \n",
    "    \n",
    "    # Input: num - a fraction\n",
    "    # Output: n/a\n",
    "    # Side-effects: scale the fraction of every hand combo by num\n",
    "    # NB: We haven't performed input validation. For instance, it is up to\n",
    "    #     the user of the function to ensure that the scaling number does\n",
    "    #     not result in invalid data, i.e. cause any of the fractions to\n",
    "    #     be greater than 1 or less than 0.\n",
    "    def scaleFracs(self, num):\n",
    "        self.r = self.r * num\n",
    "        \n",
    "    # Input:\n",
    "    #    rangeString - a string containing comma-separated terms of the\n",
    "    #                  form XX, XY, XYs, XYo, XaYb\n",
    "    #    value - a fraction\n",
    "    # Output: n/a\n",
    "    # Side-effects: set hand combos specified by rangeString to value\n",
    "    # NB: We are again assuming the input format is correct\n",
    "    # TBA: input validation\n",
    "    def setRangeString(self, rangeString, value):\n",
    "        handStrs = rangeString.replace(' ', '').split(',')\n",
    "        for hand in handStrs:\n",
    "            if len(hand) == 2:\n",
    "                # pocket pair (6 combos) or 2 distinct ranks (16 combos)\n",
    "                rank1 = hand[0]\n",
    "                rank2 = hand[1]\n",
    "                for i in suits:\n",
    "                    for j in suits:\n",
    "                        if rank1 == rank2 and i == j:\n",
    "                            continue\n",
    "                        self.setFrac(pe.string2card([rank1+i, rank2+j]), value)\n",
    "            elif len(hand) == 3:\n",
    "                rank1 = hand[0]\n",
    "                rank2 = hand[1]\n",
    "                if hand[2] == 's':\n",
    "                    for s in suits:\n",
    "                        self.setFrac(pe.string2card([rank1+s, rank2+s]), value)\n",
    "                elif hand[2] == 'o':\n",
    "                    for i in range(numSuits):\n",
    "                        for j in range(i+1, numSuits):\n",
    "                            self.setFrac(pe.string2card([rank1+suits[i], rank2+suits[j]]), value)\n",
    "                else:\n",
    "                    print('Error. Invalid Input')\n",
    "            elif len(hand) == 4:\n",
    "                card1 = hand[0:2]\n",
    "                card2 = hand[2:4]\n",
    "                self.setFrac(pe.string2card([card1, card2]), value)\n",
    "            else:\n",
    "                # something is wrong\n",
    "                print(\"Error. Invalid Input\")\n",
    "                \n",
    "    # Input:\n",
    "    #    rank1 - a string specifying a rank, ex: '2', 'T', 'A', etc.\n",
    "    #    rank2 - a string specifying a rank\n",
    "    #    suited - a Boolean indicating whether or not the hand is suited\n",
    "    # Ouput: fraction of specified ambiguous hand contained in the range\n",
    "    # Side-Effects: n/a\n",
    "    #\n",
    "    # Ambigiuous hands are things like:\n",
    "    #    AKo - 12 combos\n",
    "    #    AKs - 4 combos\n",
    "    #    33 - 6 combos\n",
    "    # Ex: if we call getAmbigFrac('A', 'K', True), then we're interested\n",
    "    # in AKs and if the range contains 100% Akh, AKs, but 0 AKc, AKd, the\n",
    "    # result should be 0.5 \n",
    "    # Note: if we're interested in pocket pairs we should set suited=False\n",
    "    def getAmbigFrac(self, rank1, rank2, suited):\n",
    "        nHands = 0.0\n",
    "        nFrac = 0.0\n",
    "        \n",
    "        # look at every specific hand combo corresponding to rank1, rank2, and suited\n",
    "        for i in suits:\n",
    "            for j in suits:\n",
    "                card1 = rank1 + i\n",
    "                card2 = rank2 + j\n",
    "                if (suited and i != j) or (not suited and i==j):\n",
    "                    continue\n",
    "                if card1 == card2:\n",
    "                    continue\n",
    "                nHands += 1\n",
    "                nFrac += self.getFrac(pe.string2card([card1, card2]))\n",
    "        \n",
    "        return nFrac / nHands\n",
    "    \n",
    "    # display a pokerstove-style handrange using svgs\n",
    "    # TBD: fix formatting to center text in cell better\n",
    "    def _repr_svg_(self):\n",
    "        result = '<svg xmlns=\"http://www.w3.org/2000/svg\" version = \"1.1\" width =\"260\" height = \"260\">'\n",
    "        for i in range(numRanks):\n",
    "            for j in range(numRanks):\n",
    "                frac = self.getAmbigFrac(ranks[i], ranks[j], i > j)\n",
    "                hexcolor = '#%02x%02x%02x' % (255*(1-frac), 255, 255*(1-frac))\n",
    "                result += '<rect x=\"' + str(i*20) + '\" y=\"' + str(j*20) + '\" width=\"20\" height=\"20\" fill = \"' + hexcolor + '\"></rect>'\n",
    "                #result += '<rect x=\"50%\" y=\"50%\" dominant-baseline=\"middle\" text-anchor=\"middle\" fill=\"black\" font-size=12>' + ranks[i] + ranks[j] + '</text>'\n",
    "                result += '<text x=\"' + str(i*20+2) + '\" y=\"' + str((j+1)*20) + ' fill=\"black\" font-size=12 >' + ranks[i] + ranks[j] + '</text>'\n",
    "        result += '</svg>'\n",
    "        return result\n",
    "    \n",
    "    # Input:\n",
    "    #    villainRange - a Range object\n",
    "    #    board - a list of numbers describing a board\n",
    "    # Output: list of tuples of the form  (hand, equity) where\n",
    "    #         hand is a list of integers itself and quity is the\n",
    "    #         equity of the hand vs villainRange on the board. This\n",
    "    #         output list will be sorted by equity (highest first).\n",
    "    # Side-effects: n/a\n",
    "    def getHandsSortedAndEquities(self, villainRange, board):\n",
    "        ea = EquityArray(board)\n",
    "        result = []\n",
    "        for i in range(numCards):\n",
    "            for j in range(i+1, numCards):\n",
    "                hand = [i, j]\n",
    "                if not conflicts(board, hand):\n",
    "                    result.append((hand, getEquityVsRange(hand, villainRange, ea)))\n",
    "                \n",
    "        result.sort(key= lambda x: x[1], reverse=1)\n",
    "        return result\n",
    "    \n",
    "    # It would be nice to be able to set range to top 68% of hands\n",
    "    # preflop or something like this.\n",
    "    # Input:\n",
    "    #    fraction - a number describing fraction of all hands\n",
    "    #    board - a list of numbers representing a board\n",
    "    # Output: n/a\n",
    "    # Side-effects: sets fraction of (appx.) the top fraction of hands\n",
    "    #    (as ranked by equity vs any-two-cards) on board to 1, and the \n",
    "    #    rest to 0.\n",
    "    def setToTop(self, fraction, board):\n",
    "        rangeAllHands = Range()\n",
    "        rangeAllHands.setAllFracs(1.0) # any-two-cards (ATC) range\n",
    "        handsSorted = self.getHandsSortedAndEquities(rangeAllHands, board)\n",
    "        \n",
    "        numCardsLeft = numCards\n",
    "        for c in board:\n",
    "            if c < numCards:\n",
    "                numCardsLeft -=1\n",
    "        \n",
    "        self.setAllFracs(0)\n",
    "        \n",
    "        for i in range(int(fraction * scipy.special.comb(numCardsLeft, 2))):\n",
    "            self.setFrac(handsSorted[i][0], 1.0)\n",
    "            "
   ]
  },
  {
   "cell_type": "code",
   "execution_count": 17,
   "metadata": {
    "collapsed": true
   },
   "outputs": [],
   "source": [
    "# Input:\n",
    "#    hand - a list of numbers\n",
    "#    r - a Range object\n",
    "#    ea - an EquityArray object\n",
    "# Output:\n",
    "def getEquityVsRange(hand, r, ea):\n",
    "    herocard1, herocard2 = hand\n",
    "    \n",
    "    # Note ea.eArray is a numCards x numCards x numCards x numCards\n",
    "    # shaped array. We need to start by grabbing the slice of the \n",
    "    # ea tensor corresponding to equity against hero's hand\n",
    "    eqs = ea.eArray[herocard1, herocard2, : :]\n",
    "    \n",
    "    # NOTE: we need to avoid including in the calculation hands in r \n",
    "    # that conflict with the board\n",
    "    villRange = np.copy(r.r)\n",
    "    zeroHandsWithConflicts(villRange, hand + ea.board)\n",
    "    \n",
    "    return sum(np.multiply(eqs, villRange) / sum(villRange))"
   ]
  },
  {
   "cell_type": "code",
   "execution_count": 18,
   "metadata": {
    "collapsed": false
   },
   "outputs": [
    {
     "name": "stdout",
     "output_type": "stream",
     "text": [
      "['Ah', 'Jd']\n",
      "['8d', '6s', '3h', 'Kd', '__']\n"
     ]
    },
    {
     "data": {
      "text/plain": [
       "0.45252525252525255"
      ]
     },
     "execution_count": 18,
     "metadata": {},
     "output_type": "execute_result"
    }
   ],
   "source": [
    "print(pe.card2string(hand))\n",
    "print(pe.card2string(board))\n",
    "bob = Range()\n",
    "bob.setAllFracs(1.0)\n",
    "getEquityVsRange(hand, bob, EquityArray(board))"
   ]
  },
  {
   "cell_type": "code",
   "execution_count": 19,
   "metadata": {
    "collapsed": false,
    "scrolled": true
   },
   "outputs": [
    {
     "data": {
      "image/svg+xml": [
       "<svg xmlns=\"http://www.w3.org/2000/svg\" version = \"1.1\" width =\"260\" height = \"260\"><rect x=\"0\" y=\"0\" width=\"20\" height=\"20\" fill = \"#7fff7f\"></rect><text x=\"2\" y=\"20 fill=\"black\" font-size=12 >AA</text><rect x=\"0\" y=\"20\" width=\"20\" height=\"20\" fill = \"#00ff00\"></rect><text x=\"2\" y=\"40 fill=\"black\" font-size=12 >AK</text><rect x=\"0\" y=\"40\" width=\"20\" height=\"20\" fill = \"#00ff00\"></rect><text x=\"2\" y=\"60 fill=\"black\" font-size=12 >AQ</text><rect x=\"0\" y=\"60\" width=\"20\" height=\"20\" fill = \"#00ff00\"></rect><text x=\"2\" y=\"80 fill=\"black\" font-size=12 >AJ</text><rect x=\"0\" y=\"80\" width=\"20\" height=\"20\" fill = \"#00ff00\"></rect><text x=\"2\" y=\"100 fill=\"black\" font-size=12 >AT</text><rect x=\"0\" y=\"100\" width=\"20\" height=\"20\" fill = \"#00ff00\"></rect><text x=\"2\" y=\"120 fill=\"black\" font-size=12 >A9</text><rect x=\"0\" y=\"120\" width=\"20\" height=\"20\" fill = \"#00ff00\"></rect><text x=\"2\" y=\"140 fill=\"black\" font-size=12 >A8</text><rect x=\"0\" y=\"140\" width=\"20\" height=\"20\" fill = \"#00ff00\"></rect><text x=\"2\" y=\"160 fill=\"black\" font-size=12 >A7</text><rect x=\"0\" y=\"160\" width=\"20\" height=\"20\" fill = \"#00ff00\"></rect><text x=\"2\" y=\"180 fill=\"black\" font-size=12 >A6</text><rect x=\"0\" y=\"180\" width=\"20\" height=\"20\" fill = \"#00ff00\"></rect><text x=\"2\" y=\"200 fill=\"black\" font-size=12 >A5</text><rect x=\"0\" y=\"200\" width=\"20\" height=\"20\" fill = \"#00ff00\"></rect><text x=\"2\" y=\"220 fill=\"black\" font-size=12 >A4</text><rect x=\"0\" y=\"220\" width=\"20\" height=\"20\" fill = \"#00ff00\"></rect><text x=\"2\" y=\"240 fill=\"black\" font-size=12 >A3</text><rect x=\"0\" y=\"240\" width=\"20\" height=\"20\" fill = \"#00ff00\"></rect><text x=\"2\" y=\"260 fill=\"black\" font-size=12 >A2</text><rect x=\"20\" y=\"0\" width=\"20\" height=\"20\" fill = \"#00ff00\"></rect><text x=\"22\" y=\"20 fill=\"black\" font-size=12 >KA</text><rect x=\"20\" y=\"20\" width=\"20\" height=\"20\" fill = \"#00ff00\"></rect><text x=\"22\" y=\"40 fill=\"black\" font-size=12 >KK</text><rect x=\"20\" y=\"40\" width=\"20\" height=\"20\" fill = \"#00ff00\"></rect><text x=\"22\" y=\"60 fill=\"black\" font-size=12 >KQ</text><rect x=\"20\" y=\"60\" width=\"20\" height=\"20\" fill = \"#00ff00\"></rect><text x=\"22\" y=\"80 fill=\"black\" font-size=12 >KJ</text><rect x=\"20\" y=\"80\" width=\"20\" height=\"20\" fill = \"#00ff00\"></rect><text x=\"22\" y=\"100 fill=\"black\" font-size=12 >KT</text><rect x=\"20\" y=\"100\" width=\"20\" height=\"20\" fill = \"#00ff00\"></rect><text x=\"22\" y=\"120 fill=\"black\" font-size=12 >K9</text><rect x=\"20\" y=\"120\" width=\"20\" height=\"20\" fill = \"#00ff00\"></rect><text x=\"22\" y=\"140 fill=\"black\" font-size=12 >K8</text><rect x=\"20\" y=\"140\" width=\"20\" height=\"20\" fill = \"#00ff00\"></rect><text x=\"22\" y=\"160 fill=\"black\" font-size=12 >K7</text><rect x=\"20\" y=\"160\" width=\"20\" height=\"20\" fill = \"#00ff00\"></rect><text x=\"22\" y=\"180 fill=\"black\" font-size=12 >K6</text><rect x=\"20\" y=\"180\" width=\"20\" height=\"20\" fill = \"#00ff00\"></rect><text x=\"22\" y=\"200 fill=\"black\" font-size=12 >K5</text><rect x=\"20\" y=\"200\" width=\"20\" height=\"20\" fill = \"#00ff00\"></rect><text x=\"22\" y=\"220 fill=\"black\" font-size=12 >K4</text><rect x=\"20\" y=\"220\" width=\"20\" height=\"20\" fill = \"#00ff00\"></rect><text x=\"22\" y=\"240 fill=\"black\" font-size=12 >K3</text><rect x=\"20\" y=\"240\" width=\"20\" height=\"20\" fill = \"#00ff00\"></rect><text x=\"22\" y=\"260 fill=\"black\" font-size=12 >K2</text><rect x=\"40\" y=\"0\" width=\"20\" height=\"20\" fill = \"#00ff00\"></rect><text x=\"42\" y=\"20 fill=\"black\" font-size=12 >QA</text><rect x=\"40\" y=\"20\" width=\"20\" height=\"20\" fill = \"#00ff00\"></rect><text x=\"42\" y=\"40 fill=\"black\" font-size=12 >QK</text><rect x=\"40\" y=\"40\" width=\"20\" height=\"20\" fill = \"#00ff00\"></rect><text x=\"42\" y=\"60 fill=\"black\" font-size=12 >QQ</text><rect x=\"40\" y=\"60\" width=\"20\" height=\"20\" fill = \"#00ff00\"></rect><text x=\"42\" y=\"80 fill=\"black\" font-size=12 >QJ</text><rect x=\"40\" y=\"80\" width=\"20\" height=\"20\" fill = \"#00ff00\"></rect><text x=\"42\" y=\"100 fill=\"black\" font-size=12 >QT</text><rect x=\"40\" y=\"100\" width=\"20\" height=\"20\" fill = \"#00ff00\"></rect><text x=\"42\" y=\"120 fill=\"black\" font-size=12 >Q9</text><rect x=\"40\" y=\"120\" width=\"20\" height=\"20\" fill = \"#00ff00\"></rect><text x=\"42\" y=\"140 fill=\"black\" font-size=12 >Q8</text><rect x=\"40\" y=\"140\" width=\"20\" height=\"20\" fill = \"#00ff00\"></rect><text x=\"42\" y=\"160 fill=\"black\" font-size=12 >Q7</text><rect x=\"40\" y=\"160\" width=\"20\" height=\"20\" fill = \"#00ff00\"></rect><text x=\"42\" y=\"180 fill=\"black\" font-size=12 >Q6</text><rect x=\"40\" y=\"180\" width=\"20\" height=\"20\" fill = \"#00ff00\"></rect><text x=\"42\" y=\"200 fill=\"black\" font-size=12 >Q5</text><rect x=\"40\" y=\"200\" width=\"20\" height=\"20\" fill = \"#00ff00\"></rect><text x=\"42\" y=\"220 fill=\"black\" font-size=12 >Q4</text><rect x=\"40\" y=\"220\" width=\"20\" height=\"20\" fill = \"#00ff00\"></rect><text x=\"42\" y=\"240 fill=\"black\" font-size=12 >Q3</text><rect x=\"40\" y=\"240\" width=\"20\" height=\"20\" fill = \"#00ff00\"></rect><text x=\"42\" y=\"260 fill=\"black\" font-size=12 >Q2</text><rect x=\"60\" y=\"0\" width=\"20\" height=\"20\" fill = \"#00ff00\"></rect><text x=\"62\" y=\"20 fill=\"black\" font-size=12 >JA</text><rect x=\"60\" y=\"20\" width=\"20\" height=\"20\" fill = \"#00ff00\"></rect><text x=\"62\" y=\"40 fill=\"black\" font-size=12 >JK</text><rect x=\"60\" y=\"40\" width=\"20\" height=\"20\" fill = \"#00ff00\"></rect><text x=\"62\" y=\"60 fill=\"black\" font-size=12 >JQ</text><rect x=\"60\" y=\"60\" width=\"20\" height=\"20\" fill = \"#00ff00\"></rect><text x=\"62\" y=\"80 fill=\"black\" font-size=12 >JJ</text><rect x=\"60\" y=\"80\" width=\"20\" height=\"20\" fill = \"#00ff00\"></rect><text x=\"62\" y=\"100 fill=\"black\" font-size=12 >JT</text><rect x=\"60\" y=\"100\" width=\"20\" height=\"20\" fill = \"#00ff00\"></rect><text x=\"62\" y=\"120 fill=\"black\" font-size=12 >J9</text><rect x=\"60\" y=\"120\" width=\"20\" height=\"20\" fill = \"#00ff00\"></rect><text x=\"62\" y=\"140 fill=\"black\" font-size=12 >J8</text><rect x=\"60\" y=\"140\" width=\"20\" height=\"20\" fill = \"#00ff00\"></rect><text x=\"62\" y=\"160 fill=\"black\" font-size=12 >J7</text><rect x=\"60\" y=\"160\" width=\"20\" height=\"20\" fill = \"#00ff00\"></rect><text x=\"62\" y=\"180 fill=\"black\" font-size=12 >J6</text><rect x=\"60\" y=\"180\" width=\"20\" height=\"20\" fill = \"#00ff00\"></rect><text x=\"62\" y=\"200 fill=\"black\" font-size=12 >J5</text><rect x=\"60\" y=\"200\" width=\"20\" height=\"20\" fill = \"#00ff00\"></rect><text x=\"62\" y=\"220 fill=\"black\" font-size=12 >J4</text><rect x=\"60\" y=\"220\" width=\"20\" height=\"20\" fill = \"#00ff00\"></rect><text x=\"62\" y=\"240 fill=\"black\" font-size=12 >J3</text><rect x=\"60\" y=\"240\" width=\"20\" height=\"20\" fill = \"#00ff00\"></rect><text x=\"62\" y=\"260 fill=\"black\" font-size=12 >J2</text><rect x=\"80\" y=\"0\" width=\"20\" height=\"20\" fill = \"#00ff00\"></rect><text x=\"82\" y=\"20 fill=\"black\" font-size=12 >TA</text><rect x=\"80\" y=\"20\" width=\"20\" height=\"20\" fill = \"#00ff00\"></rect><text x=\"82\" y=\"40 fill=\"black\" font-size=12 >TK</text><rect x=\"80\" y=\"40\" width=\"20\" height=\"20\" fill = \"#00ff00\"></rect><text x=\"82\" y=\"60 fill=\"black\" font-size=12 >TQ</text><rect x=\"80\" y=\"60\" width=\"20\" height=\"20\" fill = \"#00ff00\"></rect><text x=\"82\" y=\"80 fill=\"black\" font-size=12 >TJ</text><rect x=\"80\" y=\"80\" width=\"20\" height=\"20\" fill = \"#00ff00\"></rect><text x=\"82\" y=\"100 fill=\"black\" font-size=12 >TT</text><rect x=\"80\" y=\"100\" width=\"20\" height=\"20\" fill = \"#00ff00\"></rect><text x=\"82\" y=\"120 fill=\"black\" font-size=12 >T9</text><rect x=\"80\" y=\"120\" width=\"20\" height=\"20\" fill = \"#00ff00\"></rect><text x=\"82\" y=\"140 fill=\"black\" font-size=12 >T8</text><rect x=\"80\" y=\"140\" width=\"20\" height=\"20\" fill = \"#00ff00\"></rect><text x=\"82\" y=\"160 fill=\"black\" font-size=12 >T7</text><rect x=\"80\" y=\"160\" width=\"20\" height=\"20\" fill = \"#00ff00\"></rect><text x=\"82\" y=\"180 fill=\"black\" font-size=12 >T6</text><rect x=\"80\" y=\"180\" width=\"20\" height=\"20\" fill = \"#00ff00\"></rect><text x=\"82\" y=\"200 fill=\"black\" font-size=12 >T5</text><rect x=\"80\" y=\"200\" width=\"20\" height=\"20\" fill = \"#00ff00\"></rect><text x=\"82\" y=\"220 fill=\"black\" font-size=12 >T4</text><rect x=\"80\" y=\"220\" width=\"20\" height=\"20\" fill = \"#00ff00\"></rect><text x=\"82\" y=\"240 fill=\"black\" font-size=12 >T3</text><rect x=\"80\" y=\"240\" width=\"20\" height=\"20\" fill = \"#00ff00\"></rect><text x=\"82\" y=\"260 fill=\"black\" font-size=12 >T2</text><rect x=\"100\" y=\"0\" width=\"20\" height=\"20\" fill = \"#00ff00\"></rect><text x=\"102\" y=\"20 fill=\"black\" font-size=12 >9A</text><rect x=\"100\" y=\"20\" width=\"20\" height=\"20\" fill = \"#00ff00\"></rect><text x=\"102\" y=\"40 fill=\"black\" font-size=12 >9K</text><rect x=\"100\" y=\"40\" width=\"20\" height=\"20\" fill = \"#00ff00\"></rect><text x=\"102\" y=\"60 fill=\"black\" font-size=12 >9Q</text><rect x=\"100\" y=\"60\" width=\"20\" height=\"20\" fill = \"#00ff00\"></rect><text x=\"102\" y=\"80 fill=\"black\" font-size=12 >9J</text><rect x=\"100\" y=\"80\" width=\"20\" height=\"20\" fill = \"#00ff00\"></rect><text x=\"102\" y=\"100 fill=\"black\" font-size=12 >9T</text><rect x=\"100\" y=\"100\" width=\"20\" height=\"20\" fill = \"#00ff00\"></rect><text x=\"102\" y=\"120 fill=\"black\" font-size=12 >99</text><rect x=\"100\" y=\"120\" width=\"20\" height=\"20\" fill = \"#00ff00\"></rect><text x=\"102\" y=\"140 fill=\"black\" font-size=12 >98</text><rect x=\"100\" y=\"140\" width=\"20\" height=\"20\" fill = \"#00ff00\"></rect><text x=\"102\" y=\"160 fill=\"black\" font-size=12 >97</text><rect x=\"100\" y=\"160\" width=\"20\" height=\"20\" fill = \"#00ff00\"></rect><text x=\"102\" y=\"180 fill=\"black\" font-size=12 >96</text><rect x=\"100\" y=\"180\" width=\"20\" height=\"20\" fill = \"#00ff00\"></rect><text x=\"102\" y=\"200 fill=\"black\" font-size=12 >95</text><rect x=\"100\" y=\"200\" width=\"20\" height=\"20\" fill = \"#00ff00\"></rect><text x=\"102\" y=\"220 fill=\"black\" font-size=12 >94</text><rect x=\"100\" y=\"220\" width=\"20\" height=\"20\" fill = \"#00ff00\"></rect><text x=\"102\" y=\"240 fill=\"black\" font-size=12 >93</text><rect x=\"100\" y=\"240\" width=\"20\" height=\"20\" fill = \"#00ff00\"></rect><text x=\"102\" y=\"260 fill=\"black\" font-size=12 >92</text><rect x=\"120\" y=\"0\" width=\"20\" height=\"20\" fill = \"#00ff00\"></rect><text x=\"122\" y=\"20 fill=\"black\" font-size=12 >8A</text><rect x=\"120\" y=\"20\" width=\"20\" height=\"20\" fill = \"#00ff00\"></rect><text x=\"122\" y=\"40 fill=\"black\" font-size=12 >8K</text><rect x=\"120\" y=\"40\" width=\"20\" height=\"20\" fill = \"#00ff00\"></rect><text x=\"122\" y=\"60 fill=\"black\" font-size=12 >8Q</text><rect x=\"120\" y=\"60\" width=\"20\" height=\"20\" fill = \"#00ff00\"></rect><text x=\"122\" y=\"80 fill=\"black\" font-size=12 >8J</text><rect x=\"120\" y=\"80\" width=\"20\" height=\"20\" fill = \"#00ff00\"></rect><text x=\"122\" y=\"100 fill=\"black\" font-size=12 >8T</text><rect x=\"120\" y=\"100\" width=\"20\" height=\"20\" fill = \"#00ff00\"></rect><text x=\"122\" y=\"120 fill=\"black\" font-size=12 >89</text><rect x=\"120\" y=\"120\" width=\"20\" height=\"20\" fill = \"#00ff00\"></rect><text x=\"122\" y=\"140 fill=\"black\" font-size=12 >88</text><rect x=\"120\" y=\"140\" width=\"20\" height=\"20\" fill = \"#00ff00\"></rect><text x=\"122\" y=\"160 fill=\"black\" font-size=12 >87</text><rect x=\"120\" y=\"160\" width=\"20\" height=\"20\" fill = \"#00ff00\"></rect><text x=\"122\" y=\"180 fill=\"black\" font-size=12 >86</text><rect x=\"120\" y=\"180\" width=\"20\" height=\"20\" fill = \"#00ff00\"></rect><text x=\"122\" y=\"200 fill=\"black\" font-size=12 >85</text><rect x=\"120\" y=\"200\" width=\"20\" height=\"20\" fill = \"#00ff00\"></rect><text x=\"122\" y=\"220 fill=\"black\" font-size=12 >84</text><rect x=\"120\" y=\"220\" width=\"20\" height=\"20\" fill = \"#00ff00\"></rect><text x=\"122\" y=\"240 fill=\"black\" font-size=12 >83</text><rect x=\"120\" y=\"240\" width=\"20\" height=\"20\" fill = \"#00ff00\"></rect><text x=\"122\" y=\"260 fill=\"black\" font-size=12 >82</text><rect x=\"140\" y=\"0\" width=\"20\" height=\"20\" fill = \"#00ff00\"></rect><text x=\"142\" y=\"20 fill=\"black\" font-size=12 >7A</text><rect x=\"140\" y=\"20\" width=\"20\" height=\"20\" fill = \"#00ff00\"></rect><text x=\"142\" y=\"40 fill=\"black\" font-size=12 >7K</text><rect x=\"140\" y=\"40\" width=\"20\" height=\"20\" fill = \"#00ff00\"></rect><text x=\"142\" y=\"60 fill=\"black\" font-size=12 >7Q</text><rect x=\"140\" y=\"60\" width=\"20\" height=\"20\" fill = \"#00ff00\"></rect><text x=\"142\" y=\"80 fill=\"black\" font-size=12 >7J</text><rect x=\"140\" y=\"80\" width=\"20\" height=\"20\" fill = \"#00ff00\"></rect><text x=\"142\" y=\"100 fill=\"black\" font-size=12 >7T</text><rect x=\"140\" y=\"100\" width=\"20\" height=\"20\" fill = \"#00ff00\"></rect><text x=\"142\" y=\"120 fill=\"black\" font-size=12 >79</text><rect x=\"140\" y=\"120\" width=\"20\" height=\"20\" fill = \"#00ff00\"></rect><text x=\"142\" y=\"140 fill=\"black\" font-size=12 >78</text><rect x=\"140\" y=\"140\" width=\"20\" height=\"20\" fill = \"#00ff00\"></rect><text x=\"142\" y=\"160 fill=\"black\" font-size=12 >77</text><rect x=\"140\" y=\"160\" width=\"20\" height=\"20\" fill = \"#00ff00\"></rect><text x=\"142\" y=\"180 fill=\"black\" font-size=12 >76</text><rect x=\"140\" y=\"180\" width=\"20\" height=\"20\" fill = \"#00ff00\"></rect><text x=\"142\" y=\"200 fill=\"black\" font-size=12 >75</text><rect x=\"140\" y=\"200\" width=\"20\" height=\"20\" fill = \"#00ff00\"></rect><text x=\"142\" y=\"220 fill=\"black\" font-size=12 >74</text><rect x=\"140\" y=\"220\" width=\"20\" height=\"20\" fill = \"#00ff00\"></rect><text x=\"142\" y=\"240 fill=\"black\" font-size=12 >73</text><rect x=\"140\" y=\"240\" width=\"20\" height=\"20\" fill = \"#00ff00\"></rect><text x=\"142\" y=\"260 fill=\"black\" font-size=12 >72</text><rect x=\"160\" y=\"0\" width=\"20\" height=\"20\" fill = \"#00ff00\"></rect><text x=\"162\" y=\"20 fill=\"black\" font-size=12 >6A</text><rect x=\"160\" y=\"20\" width=\"20\" height=\"20\" fill = \"#00ff00\"></rect><text x=\"162\" y=\"40 fill=\"black\" font-size=12 >6K</text><rect x=\"160\" y=\"40\" width=\"20\" height=\"20\" fill = \"#00ff00\"></rect><text x=\"162\" y=\"60 fill=\"black\" font-size=12 >6Q</text><rect x=\"160\" y=\"60\" width=\"20\" height=\"20\" fill = \"#00ff00\"></rect><text x=\"162\" y=\"80 fill=\"black\" font-size=12 >6J</text><rect x=\"160\" y=\"80\" width=\"20\" height=\"20\" fill = \"#00ff00\"></rect><text x=\"162\" y=\"100 fill=\"black\" font-size=12 >6T</text><rect x=\"160\" y=\"100\" width=\"20\" height=\"20\" fill = \"#00ff00\"></rect><text x=\"162\" y=\"120 fill=\"black\" font-size=12 >69</text><rect x=\"160\" y=\"120\" width=\"20\" height=\"20\" fill = \"#00ff00\"></rect><text x=\"162\" y=\"140 fill=\"black\" font-size=12 >68</text><rect x=\"160\" y=\"140\" width=\"20\" height=\"20\" fill = \"#00ff00\"></rect><text x=\"162\" y=\"160 fill=\"black\" font-size=12 >67</text><rect x=\"160\" y=\"160\" width=\"20\" height=\"20\" fill = \"#00ff00\"></rect><text x=\"162\" y=\"180 fill=\"black\" font-size=12 >66</text><rect x=\"160\" y=\"180\" width=\"20\" height=\"20\" fill = \"#00ff00\"></rect><text x=\"162\" y=\"200 fill=\"black\" font-size=12 >65</text><rect x=\"160\" y=\"200\" width=\"20\" height=\"20\" fill = \"#00ff00\"></rect><text x=\"162\" y=\"220 fill=\"black\" font-size=12 >64</text><rect x=\"160\" y=\"220\" width=\"20\" height=\"20\" fill = \"#00ff00\"></rect><text x=\"162\" y=\"240 fill=\"black\" font-size=12 >63</text><rect x=\"160\" y=\"240\" width=\"20\" height=\"20\" fill = \"#00ff00\"></rect><text x=\"162\" y=\"260 fill=\"black\" font-size=12 >62</text><rect x=\"180\" y=\"0\" width=\"20\" height=\"20\" fill = \"#00ff00\"></rect><text x=\"182\" y=\"20 fill=\"black\" font-size=12 >5A</text><rect x=\"180\" y=\"20\" width=\"20\" height=\"20\" fill = \"#00ff00\"></rect><text x=\"182\" y=\"40 fill=\"black\" font-size=12 >5K</text><rect x=\"180\" y=\"40\" width=\"20\" height=\"20\" fill = \"#00ff00\"></rect><text x=\"182\" y=\"60 fill=\"black\" font-size=12 >5Q</text><rect x=\"180\" y=\"60\" width=\"20\" height=\"20\" fill = \"#00ff00\"></rect><text x=\"182\" y=\"80 fill=\"black\" font-size=12 >5J</text><rect x=\"180\" y=\"80\" width=\"20\" height=\"20\" fill = \"#00ff00\"></rect><text x=\"182\" y=\"100 fill=\"black\" font-size=12 >5T</text><rect x=\"180\" y=\"100\" width=\"20\" height=\"20\" fill = \"#00ff00\"></rect><text x=\"182\" y=\"120 fill=\"black\" font-size=12 >59</text><rect x=\"180\" y=\"120\" width=\"20\" height=\"20\" fill = \"#00ff00\"></rect><text x=\"182\" y=\"140 fill=\"black\" font-size=12 >58</text><rect x=\"180\" y=\"140\" width=\"20\" height=\"20\" fill = \"#00ff00\"></rect><text x=\"182\" y=\"160 fill=\"black\" font-size=12 >57</text><rect x=\"180\" y=\"160\" width=\"20\" height=\"20\" fill = \"#00ff00\"></rect><text x=\"182\" y=\"180 fill=\"black\" font-size=12 >56</text><rect x=\"180\" y=\"180\" width=\"20\" height=\"20\" fill = \"#00ff00\"></rect><text x=\"182\" y=\"200 fill=\"black\" font-size=12 >55</text><rect x=\"180\" y=\"200\" width=\"20\" height=\"20\" fill = \"#00ff00\"></rect><text x=\"182\" y=\"220 fill=\"black\" font-size=12 >54</text><rect x=\"180\" y=\"220\" width=\"20\" height=\"20\" fill = \"#00ff00\"></rect><text x=\"182\" y=\"240 fill=\"black\" font-size=12 >53</text><rect x=\"180\" y=\"240\" width=\"20\" height=\"20\" fill = \"#00ff00\"></rect><text x=\"182\" y=\"260 fill=\"black\" font-size=12 >52</text><rect x=\"200\" y=\"0\" width=\"20\" height=\"20\" fill = \"#00ff00\"></rect><text x=\"202\" y=\"20 fill=\"black\" font-size=12 >4A</text><rect x=\"200\" y=\"20\" width=\"20\" height=\"20\" fill = \"#00ff00\"></rect><text x=\"202\" y=\"40 fill=\"black\" font-size=12 >4K</text><rect x=\"200\" y=\"40\" width=\"20\" height=\"20\" fill = \"#00ff00\"></rect><text x=\"202\" y=\"60 fill=\"black\" font-size=12 >4Q</text><rect x=\"200\" y=\"60\" width=\"20\" height=\"20\" fill = \"#00ff00\"></rect><text x=\"202\" y=\"80 fill=\"black\" font-size=12 >4J</text><rect x=\"200\" y=\"80\" width=\"20\" height=\"20\" fill = \"#00ff00\"></rect><text x=\"202\" y=\"100 fill=\"black\" font-size=12 >4T</text><rect x=\"200\" y=\"100\" width=\"20\" height=\"20\" fill = \"#00ff00\"></rect><text x=\"202\" y=\"120 fill=\"black\" font-size=12 >49</text><rect x=\"200\" y=\"120\" width=\"20\" height=\"20\" fill = \"#00ff00\"></rect><text x=\"202\" y=\"140 fill=\"black\" font-size=12 >48</text><rect x=\"200\" y=\"140\" width=\"20\" height=\"20\" fill = \"#00ff00\"></rect><text x=\"202\" y=\"160 fill=\"black\" font-size=12 >47</text><rect x=\"200\" y=\"160\" width=\"20\" height=\"20\" fill = \"#00ff00\"></rect><text x=\"202\" y=\"180 fill=\"black\" font-size=12 >46</text><rect x=\"200\" y=\"180\" width=\"20\" height=\"20\" fill = \"#00ff00\"></rect><text x=\"202\" y=\"200 fill=\"black\" font-size=12 >45</text><rect x=\"200\" y=\"200\" width=\"20\" height=\"20\" fill = \"#00ff00\"></rect><text x=\"202\" y=\"220 fill=\"black\" font-size=12 >44</text><rect x=\"200\" y=\"220\" width=\"20\" height=\"20\" fill = \"#00ff00\"></rect><text x=\"202\" y=\"240 fill=\"black\" font-size=12 >43</text><rect x=\"200\" y=\"240\" width=\"20\" height=\"20\" fill = \"#00ff00\"></rect><text x=\"202\" y=\"260 fill=\"black\" font-size=12 >42</text><rect x=\"220\" y=\"0\" width=\"20\" height=\"20\" fill = \"#00ff00\"></rect><text x=\"222\" y=\"20 fill=\"black\" font-size=12 >3A</text><rect x=\"220\" y=\"20\" width=\"20\" height=\"20\" fill = \"#00ff00\"></rect><text x=\"222\" y=\"40 fill=\"black\" font-size=12 >3K</text><rect x=\"220\" y=\"40\" width=\"20\" height=\"20\" fill = \"#00ff00\"></rect><text x=\"222\" y=\"60 fill=\"black\" font-size=12 >3Q</text><rect x=\"220\" y=\"60\" width=\"20\" height=\"20\" fill = \"#00ff00\"></rect><text x=\"222\" y=\"80 fill=\"black\" font-size=12 >3J</text><rect x=\"220\" y=\"80\" width=\"20\" height=\"20\" fill = \"#00ff00\"></rect><text x=\"222\" y=\"100 fill=\"black\" font-size=12 >3T</text><rect x=\"220\" y=\"100\" width=\"20\" height=\"20\" fill = \"#00ff00\"></rect><text x=\"222\" y=\"120 fill=\"black\" font-size=12 >39</text><rect x=\"220\" y=\"120\" width=\"20\" height=\"20\" fill = \"#00ff00\"></rect><text x=\"222\" y=\"140 fill=\"black\" font-size=12 >38</text><rect x=\"220\" y=\"140\" width=\"20\" height=\"20\" fill = \"#00ff00\"></rect><text x=\"222\" y=\"160 fill=\"black\" font-size=12 >37</text><rect x=\"220\" y=\"160\" width=\"20\" height=\"20\" fill = \"#00ff00\"></rect><text x=\"222\" y=\"180 fill=\"black\" font-size=12 >36</text><rect x=\"220\" y=\"180\" width=\"20\" height=\"20\" fill = \"#00ff00\"></rect><text x=\"222\" y=\"200 fill=\"black\" font-size=12 >35</text><rect x=\"220\" y=\"200\" width=\"20\" height=\"20\" fill = \"#00ff00\"></rect><text x=\"222\" y=\"220 fill=\"black\" font-size=12 >34</text><rect x=\"220\" y=\"220\" width=\"20\" height=\"20\" fill = \"#00ff00\"></rect><text x=\"222\" y=\"240 fill=\"black\" font-size=12 >33</text><rect x=\"220\" y=\"240\" width=\"20\" height=\"20\" fill = \"#00ff00\"></rect><text x=\"222\" y=\"260 fill=\"black\" font-size=12 >32</text><rect x=\"240\" y=\"0\" width=\"20\" height=\"20\" fill = \"#00ff00\"></rect><text x=\"242\" y=\"20 fill=\"black\" font-size=12 >2A</text><rect x=\"240\" y=\"20\" width=\"20\" height=\"20\" fill = \"#00ff00\"></rect><text x=\"242\" y=\"40 fill=\"black\" font-size=12 >2K</text><rect x=\"240\" y=\"40\" width=\"20\" height=\"20\" fill = \"#00ff00\"></rect><text x=\"242\" y=\"60 fill=\"black\" font-size=12 >2Q</text><rect x=\"240\" y=\"60\" width=\"20\" height=\"20\" fill = \"#00ff00\"></rect><text x=\"242\" y=\"80 fill=\"black\" font-size=12 >2J</text><rect x=\"240\" y=\"80\" width=\"20\" height=\"20\" fill = \"#00ff00\"></rect><text x=\"242\" y=\"100 fill=\"black\" font-size=12 >2T</text><rect x=\"240\" y=\"100\" width=\"20\" height=\"20\" fill = \"#00ff00\"></rect><text x=\"242\" y=\"120 fill=\"black\" font-size=12 >29</text><rect x=\"240\" y=\"120\" width=\"20\" height=\"20\" fill = \"#00ff00\"></rect><text x=\"242\" y=\"140 fill=\"black\" font-size=12 >28</text><rect x=\"240\" y=\"140\" width=\"20\" height=\"20\" fill = \"#00ff00\"></rect><text x=\"242\" y=\"160 fill=\"black\" font-size=12 >27</text><rect x=\"240\" y=\"160\" width=\"20\" height=\"20\" fill = \"#00ff00\"></rect><text x=\"242\" y=\"180 fill=\"black\" font-size=12 >26</text><rect x=\"240\" y=\"180\" width=\"20\" height=\"20\" fill = \"#00ff00\"></rect><text x=\"242\" y=\"200 fill=\"black\" font-size=12 >25</text><rect x=\"240\" y=\"200\" width=\"20\" height=\"20\" fill = \"#00ff00\"></rect><text x=\"242\" y=\"220 fill=\"black\" font-size=12 >24</text><rect x=\"240\" y=\"220\" width=\"20\" height=\"20\" fill = \"#00ff00\"></rect><text x=\"242\" y=\"240 fill=\"black\" font-size=12 >23</text><rect x=\"240\" y=\"240\" width=\"20\" height=\"20\" fill = \"#00ff00\"></rect><text x=\"242\" y=\"260 fill=\"black\" font-size=12 >22</text></svg>"
      ],
      "text/plain": [
       "<__main__.Range instance at 0x0BFB9EE0>"
      ]
     },
     "metadata": {},
     "output_type": "display_data"
    }
   ],
   "source": [
    "bob = Range()\n",
    "bob.setAllFracs(1)\n",
    "bob.setFrac(pe.string2card(['As', 'Ac']), 0.0)\n",
    "bob.setFrac(pe.string2card(['As', 'Ad']), 0.0)\n",
    "bob.setFrac(pe.string2card(['As', 'Ah']), 0.0)\n",
    "display(bob)"
   ]
  },
  {
   "cell_type": "code",
   "execution_count": 20,
   "metadata": {
    "collapsed": false
   },
   "outputs": [
    {
     "name": "stdout",
     "output_type": "stream",
     "text": [
      "['8d', '6s', '3h', 'Kd', '__']\n"
     ]
    },
    {
     "data": {
      "image/svg+xml": [
       "<svg xmlns=\"http://www.w3.org/2000/svg\" version = \"1.1\" width =\"260\" height = \"260\"><rect x=\"0\" y=\"0\" width=\"20\" height=\"20\" fill = \"#00ff00\"></rect><text x=\"2\" y=\"20 fill=\"black\" font-size=12 >AA</text><rect x=\"0\" y=\"20\" width=\"20\" height=\"20\" fill = \"#3fff3f\"></rect><text x=\"2\" y=\"40 fill=\"black\" font-size=12 >AK</text><rect x=\"0\" y=\"40\" width=\"20\" height=\"20\" fill = \"#ffffff\"></rect><text x=\"2\" y=\"60 fill=\"black\" font-size=12 >AQ</text><rect x=\"0\" y=\"60\" width=\"20\" height=\"20\" fill = \"#ffffff\"></rect><text x=\"2\" y=\"80 fill=\"black\" font-size=12 >AJ</text><rect x=\"0\" y=\"80\" width=\"20\" height=\"20\" fill = \"#ffffff\"></rect><text x=\"2\" y=\"100 fill=\"black\" font-size=12 >AT</text><rect x=\"0\" y=\"100\" width=\"20\" height=\"20\" fill = \"#ffffff\"></rect><text x=\"2\" y=\"120 fill=\"black\" font-size=12 >A9</text><rect x=\"0\" y=\"120\" width=\"20\" height=\"20\" fill = \"#3fff3f\"></rect><text x=\"2\" y=\"140 fill=\"black\" font-size=12 >A8</text><rect x=\"0\" y=\"140\" width=\"20\" height=\"20\" fill = \"#ffffff\"></rect><text x=\"2\" y=\"160 fill=\"black\" font-size=12 >A7</text><rect x=\"0\" y=\"160\" width=\"20\" height=\"20\" fill = \"#ffffff\"></rect><text x=\"2\" y=\"180 fill=\"black\" font-size=12 >A6</text><rect x=\"0\" y=\"180\" width=\"20\" height=\"20\" fill = \"#ffffff\"></rect><text x=\"2\" y=\"200 fill=\"black\" font-size=12 >A5</text><rect x=\"0\" y=\"200\" width=\"20\" height=\"20\" fill = \"#ffffff\"></rect><text x=\"2\" y=\"220 fill=\"black\" font-size=12 >A4</text><rect x=\"0\" y=\"220\" width=\"20\" height=\"20\" fill = \"#ffffff\"></rect><text x=\"2\" y=\"240 fill=\"black\" font-size=12 >A3</text><rect x=\"0\" y=\"240\" width=\"20\" height=\"20\" fill = \"#ffffff\"></rect><text x=\"2\" y=\"260 fill=\"black\" font-size=12 >A2</text><rect x=\"20\" y=\"0\" width=\"20\" height=\"20\" fill = \"#3fff3f\"></rect><text x=\"22\" y=\"20 fill=\"black\" font-size=12 >KA</text><rect x=\"20\" y=\"20\" width=\"20\" height=\"20\" fill = \"#7fff7f\"></rect><text x=\"22\" y=\"40 fill=\"black\" font-size=12 >KK</text><rect x=\"20\" y=\"40\" width=\"20\" height=\"20\" fill = \"#3fff3f\"></rect><text x=\"22\" y=\"60 fill=\"black\" font-size=12 >KQ</text><rect x=\"20\" y=\"60\" width=\"20\" height=\"20\" fill = \"#3fff3f\"></rect><text x=\"22\" y=\"80 fill=\"black\" font-size=12 >KJ</text><rect x=\"20\" y=\"80\" width=\"20\" height=\"20\" fill = \"#3fff3f\"></rect><text x=\"22\" y=\"100 fill=\"black\" font-size=12 >KT</text><rect x=\"20\" y=\"100\" width=\"20\" height=\"20\" fill = \"#3fff3f\"></rect><text x=\"22\" y=\"120 fill=\"black\" font-size=12 >K9</text><rect x=\"20\" y=\"120\" width=\"20\" height=\"20\" fill = \"#7fff7f\"></rect><text x=\"22\" y=\"140 fill=\"black\" font-size=12 >K8</text><rect x=\"20\" y=\"140\" width=\"20\" height=\"20\" fill = \"#3fff3f\"></rect><text x=\"22\" y=\"160 fill=\"black\" font-size=12 >K7</text><rect x=\"20\" y=\"160\" width=\"20\" height=\"20\" fill = \"#6aff6a\"></rect><text x=\"22\" y=\"180 fill=\"black\" font-size=12 >K6</text><rect x=\"20\" y=\"180\" width=\"20\" height=\"20\" fill = \"#3fff3f\"></rect><text x=\"22\" y=\"200 fill=\"black\" font-size=12 >K5</text><rect x=\"20\" y=\"200\" width=\"20\" height=\"20\" fill = \"#3fff3f\"></rect><text x=\"22\" y=\"220 fill=\"black\" font-size=12 >K4</text><rect x=\"20\" y=\"220\" width=\"20\" height=\"20\" fill = \"#6aff6a\"></rect><text x=\"22\" y=\"240 fill=\"black\" font-size=12 >K3</text><rect x=\"20\" y=\"240\" width=\"20\" height=\"20\" fill = \"#3fff3f\"></rect><text x=\"22\" y=\"260 fill=\"black\" font-size=12 >K2</text><rect x=\"40\" y=\"0\" width=\"20\" height=\"20\" fill = \"#ffffff\"></rect><text x=\"42\" y=\"20 fill=\"black\" font-size=12 >QA</text><rect x=\"40\" y=\"20\" width=\"20\" height=\"20\" fill = \"#3fff3f\"></rect><text x=\"42\" y=\"40 fill=\"black\" font-size=12 >QK</text><rect x=\"40\" y=\"40\" width=\"20\" height=\"20\" fill = \"#00ff00\"></rect><text x=\"42\" y=\"60 fill=\"black\" font-size=12 >QQ</text><rect x=\"40\" y=\"60\" width=\"20\" height=\"20\" fill = \"#ffffff\"></rect><text x=\"42\" y=\"80 fill=\"black\" font-size=12 >QJ</text><rect x=\"40\" y=\"80\" width=\"20\" height=\"20\" fill = \"#ffffff\"></rect><text x=\"42\" y=\"100 fill=\"black\" font-size=12 >QT</text><rect x=\"40\" y=\"100\" width=\"20\" height=\"20\" fill = \"#ffffff\"></rect><text x=\"42\" y=\"120 fill=\"black\" font-size=12 >Q9</text><rect x=\"40\" y=\"120\" width=\"20\" height=\"20\" fill = \"#6aff6a\"></rect><text x=\"42\" y=\"140 fill=\"black\" font-size=12 >Q8</text><rect x=\"40\" y=\"140\" width=\"20\" height=\"20\" fill = \"#ffffff\"></rect><text x=\"42\" y=\"160 fill=\"black\" font-size=12 >Q7</text><rect x=\"40\" y=\"160\" width=\"20\" height=\"20\" fill = \"#ffffff\"></rect><text x=\"42\" y=\"180 fill=\"black\" font-size=12 >Q6</text><rect x=\"40\" y=\"180\" width=\"20\" height=\"20\" fill = \"#ffffff\"></rect><text x=\"42\" y=\"200 fill=\"black\" font-size=12 >Q5</text><rect x=\"40\" y=\"200\" width=\"20\" height=\"20\" fill = \"#ffffff\"></rect><text x=\"42\" y=\"220 fill=\"black\" font-size=12 >Q4</text><rect x=\"40\" y=\"220\" width=\"20\" height=\"20\" fill = \"#ffffff\"></rect><text x=\"42\" y=\"240 fill=\"black\" font-size=12 >Q3</text><rect x=\"40\" y=\"240\" width=\"20\" height=\"20\" fill = \"#ffffff\"></rect><text x=\"42\" y=\"260 fill=\"black\" font-size=12 >Q2</text><rect x=\"60\" y=\"0\" width=\"20\" height=\"20\" fill = \"#ffffff\"></rect><text x=\"62\" y=\"20 fill=\"black\" font-size=12 >JA</text><rect x=\"60\" y=\"20\" width=\"20\" height=\"20\" fill = \"#3fff3f\"></rect><text x=\"62\" y=\"40 fill=\"black\" font-size=12 >JK</text><rect x=\"60\" y=\"40\" width=\"20\" height=\"20\" fill = \"#ffffff\"></rect><text x=\"62\" y=\"60 fill=\"black\" font-size=12 >JQ</text><rect x=\"60\" y=\"60\" width=\"20\" height=\"20\" fill = \"#00ff00\"></rect><text x=\"62\" y=\"80 fill=\"black\" font-size=12 >JJ</text><rect x=\"60\" y=\"80\" width=\"20\" height=\"20\" fill = \"#ffffff\"></rect><text x=\"62\" y=\"100 fill=\"black\" font-size=12 >JT</text><rect x=\"60\" y=\"100\" width=\"20\" height=\"20\" fill = \"#ffffff\"></rect><text x=\"62\" y=\"120 fill=\"black\" font-size=12 >J9</text><rect x=\"60\" y=\"120\" width=\"20\" height=\"20\" fill = \"#ffffff\"></rect><text x=\"62\" y=\"140 fill=\"black\" font-size=12 >J8</text><rect x=\"60\" y=\"140\" width=\"20\" height=\"20\" fill = \"#ffffff\"></rect><text x=\"62\" y=\"160 fill=\"black\" font-size=12 >J7</text><rect x=\"60\" y=\"160\" width=\"20\" height=\"20\" fill = \"#ffffff\"></rect><text x=\"62\" y=\"180 fill=\"black\" font-size=12 >J6</text><rect x=\"60\" y=\"180\" width=\"20\" height=\"20\" fill = \"#ffffff\"></rect><text x=\"62\" y=\"200 fill=\"black\" font-size=12 >J5</text><rect x=\"60\" y=\"200\" width=\"20\" height=\"20\" fill = \"#ffffff\"></rect><text x=\"62\" y=\"220 fill=\"black\" font-size=12 >J4</text><rect x=\"60\" y=\"220\" width=\"20\" height=\"20\" fill = \"#ffffff\"></rect><text x=\"62\" y=\"240 fill=\"black\" font-size=12 >J3</text><rect x=\"60\" y=\"240\" width=\"20\" height=\"20\" fill = \"#ffffff\"></rect><text x=\"62\" y=\"260 fill=\"black\" font-size=12 >J2</text><rect x=\"80\" y=\"0\" width=\"20\" height=\"20\" fill = \"#ffffff\"></rect><text x=\"82\" y=\"20 fill=\"black\" font-size=12 >TA</text><rect x=\"80\" y=\"20\" width=\"20\" height=\"20\" fill = \"#3fff3f\"></rect><text x=\"82\" y=\"40 fill=\"black\" font-size=12 >TK</text><rect x=\"80\" y=\"40\" width=\"20\" height=\"20\" fill = \"#ffffff\"></rect><text x=\"82\" y=\"60 fill=\"black\" font-size=12 >TQ</text><rect x=\"80\" y=\"60\" width=\"20\" height=\"20\" fill = \"#ffffff\"></rect><text x=\"82\" y=\"80 fill=\"black\" font-size=12 >TJ</text><rect x=\"80\" y=\"80\" width=\"20\" height=\"20\" fill = \"#00ff00\"></rect><text x=\"82\" y=\"100 fill=\"black\" font-size=12 >TT</text><rect x=\"80\" y=\"100\" width=\"20\" height=\"20\" fill = \"#ffffff\"></rect><text x=\"82\" y=\"120 fill=\"black\" font-size=12 >T9</text><rect x=\"80\" y=\"120\" width=\"20\" height=\"20\" fill = \"#ffffff\"></rect><text x=\"82\" y=\"140 fill=\"black\" font-size=12 >T8</text><rect x=\"80\" y=\"140\" width=\"20\" height=\"20\" fill = \"#ffffff\"></rect><text x=\"82\" y=\"160 fill=\"black\" font-size=12 >T7</text><rect x=\"80\" y=\"160\" width=\"20\" height=\"20\" fill = \"#ffffff\"></rect><text x=\"82\" y=\"180 fill=\"black\" font-size=12 >T6</text><rect x=\"80\" y=\"180\" width=\"20\" height=\"20\" fill = \"#ffffff\"></rect><text x=\"82\" y=\"200 fill=\"black\" font-size=12 >T5</text><rect x=\"80\" y=\"200\" width=\"20\" height=\"20\" fill = \"#ffffff\"></rect><text x=\"82\" y=\"220 fill=\"black\" font-size=12 >T4</text><rect x=\"80\" y=\"220\" width=\"20\" height=\"20\" fill = \"#ffffff\"></rect><text x=\"82\" y=\"240 fill=\"black\" font-size=12 >T3</text><rect x=\"80\" y=\"240\" width=\"20\" height=\"20\" fill = \"#ffffff\"></rect><text x=\"82\" y=\"260 fill=\"black\" font-size=12 >T2</text><rect x=\"100\" y=\"0\" width=\"20\" height=\"20\" fill = \"#ffffff\"></rect><text x=\"102\" y=\"20 fill=\"black\" font-size=12 >9A</text><rect x=\"100\" y=\"20\" width=\"20\" height=\"20\" fill = \"#3fff3f\"></rect><text x=\"102\" y=\"40 fill=\"black\" font-size=12 >9K</text><rect x=\"100\" y=\"40\" width=\"20\" height=\"20\" fill = \"#ffffff\"></rect><text x=\"102\" y=\"60 fill=\"black\" font-size=12 >9Q</text><rect x=\"100\" y=\"60\" width=\"20\" height=\"20\" fill = \"#ffffff\"></rect><text x=\"102\" y=\"80 fill=\"black\" font-size=12 >9J</text><rect x=\"100\" y=\"80\" width=\"20\" height=\"20\" fill = \"#ffffff\"></rect><text x=\"102\" y=\"100 fill=\"black\" font-size=12 >9T</text><rect x=\"100\" y=\"100\" width=\"20\" height=\"20\" fill = \"#00ff00\"></rect><text x=\"102\" y=\"120 fill=\"black\" font-size=12 >99</text><rect x=\"100\" y=\"120\" width=\"20\" height=\"20\" fill = \"#ffffff\"></rect><text x=\"102\" y=\"140 fill=\"black\" font-size=12 >98</text><rect x=\"100\" y=\"140\" width=\"20\" height=\"20\" fill = \"#ffffff\"></rect><text x=\"102\" y=\"160 fill=\"black\" font-size=12 >97</text><rect x=\"100\" y=\"160\" width=\"20\" height=\"20\" fill = \"#ffffff\"></rect><text x=\"102\" y=\"180 fill=\"black\" font-size=12 >96</text><rect x=\"100\" y=\"180\" width=\"20\" height=\"20\" fill = \"#ffffff\"></rect><text x=\"102\" y=\"200 fill=\"black\" font-size=12 >95</text><rect x=\"100\" y=\"200\" width=\"20\" height=\"20\" fill = \"#ffffff\"></rect><text x=\"102\" y=\"220 fill=\"black\" font-size=12 >94</text><rect x=\"100\" y=\"220\" width=\"20\" height=\"20\" fill = \"#ffffff\"></rect><text x=\"102\" y=\"240 fill=\"black\" font-size=12 >93</text><rect x=\"100\" y=\"240\" width=\"20\" height=\"20\" fill = \"#ffffff\"></rect><text x=\"102\" y=\"260 fill=\"black\" font-size=12 >92</text><rect x=\"120\" y=\"0\" width=\"20\" height=\"20\" fill = \"#3fff3f\"></rect><text x=\"122\" y=\"20 fill=\"black\" font-size=12 >8A</text><rect x=\"120\" y=\"20\" width=\"20\" height=\"20\" fill = \"#3fff3f\"></rect><text x=\"122\" y=\"40 fill=\"black\" font-size=12 >8K</text><rect x=\"120\" y=\"40\" width=\"20\" height=\"20\" fill = \"#bfffbf\"></rect><text x=\"122\" y=\"60 fill=\"black\" font-size=12 >8Q</text><rect x=\"120\" y=\"60\" width=\"20\" height=\"20\" fill = \"#ffffff\"></rect><text x=\"122\" y=\"80 fill=\"black\" font-size=12 >8J</text><rect x=\"120\" y=\"80\" width=\"20\" height=\"20\" fill = \"#ffffff\"></rect><text x=\"122\" y=\"100 fill=\"black\" font-size=12 >8T</text><rect x=\"120\" y=\"100\" width=\"20\" height=\"20\" fill = \"#ffffff\"></rect><text x=\"122\" y=\"120 fill=\"black\" font-size=12 >89</text><rect x=\"120\" y=\"120\" width=\"20\" height=\"20\" fill = \"#7fff7f\"></rect><text x=\"122\" y=\"140 fill=\"black\" font-size=12 >88</text><rect x=\"120\" y=\"140\" width=\"20\" height=\"20\" fill = \"#ffffff\"></rect><text x=\"122\" y=\"160 fill=\"black\" font-size=12 >87</text><rect x=\"120\" y=\"160\" width=\"20\" height=\"20\" fill = \"#6aff6a\"></rect><text x=\"122\" y=\"180 fill=\"black\" font-size=12 >86</text><rect x=\"120\" y=\"180\" width=\"20\" height=\"20\" fill = \"#ffffff\"></rect><text x=\"122\" y=\"200 fill=\"black\" font-size=12 >85</text><rect x=\"120\" y=\"200\" width=\"20\" height=\"20\" fill = \"#ffffff\"></rect><text x=\"122\" y=\"220 fill=\"black\" font-size=12 >84</text><rect x=\"120\" y=\"220\" width=\"20\" height=\"20\" fill = \"#6aff6a\"></rect><text x=\"122\" y=\"240 fill=\"black\" font-size=12 >83</text><rect x=\"120\" y=\"240\" width=\"20\" height=\"20\" fill = \"#ffffff\"></rect><text x=\"122\" y=\"260 fill=\"black\" font-size=12 >82</text><rect x=\"140\" y=\"0\" width=\"20\" height=\"20\" fill = \"#ffffff\"></rect><text x=\"142\" y=\"20 fill=\"black\" font-size=12 >7A</text><rect x=\"140\" y=\"20\" width=\"20\" height=\"20\" fill = \"#3fff3f\"></rect><text x=\"142\" y=\"40 fill=\"black\" font-size=12 >7K</text><rect x=\"140\" y=\"40\" width=\"20\" height=\"20\" fill = \"#ffffff\"></rect><text x=\"142\" y=\"60 fill=\"black\" font-size=12 >7Q</text><rect x=\"140\" y=\"60\" width=\"20\" height=\"20\" fill = \"#ffffff\"></rect><text x=\"142\" y=\"80 fill=\"black\" font-size=12 >7J</text><rect x=\"140\" y=\"80\" width=\"20\" height=\"20\" fill = \"#ffffff\"></rect><text x=\"142\" y=\"100 fill=\"black\" font-size=12 >7T</text><rect x=\"140\" y=\"100\" width=\"20\" height=\"20\" fill = \"#ffffff\"></rect><text x=\"142\" y=\"120 fill=\"black\" font-size=12 >79</text><rect x=\"140\" y=\"120\" width=\"20\" height=\"20\" fill = \"#ffffff\"></rect><text x=\"142\" y=\"140 fill=\"black\" font-size=12 >78</text><rect x=\"140\" y=\"140\" width=\"20\" height=\"20\" fill = \"#ffffff\"></rect><text x=\"142\" y=\"160 fill=\"black\" font-size=12 >77</text><rect x=\"140\" y=\"160\" width=\"20\" height=\"20\" fill = \"#ffffff\"></rect><text x=\"142\" y=\"180 fill=\"black\" font-size=12 >76</text><rect x=\"140\" y=\"180\" width=\"20\" height=\"20\" fill = \"#ffffff\"></rect><text x=\"142\" y=\"200 fill=\"black\" font-size=12 >75</text><rect x=\"140\" y=\"200\" width=\"20\" height=\"20\" fill = \"#ffffff\"></rect><text x=\"142\" y=\"220 fill=\"black\" font-size=12 >74</text><rect x=\"140\" y=\"220\" width=\"20\" height=\"20\" fill = \"#ffffff\"></rect><text x=\"142\" y=\"240 fill=\"black\" font-size=12 >73</text><rect x=\"140\" y=\"240\" width=\"20\" height=\"20\" fill = \"#ffffff\"></rect><text x=\"142\" y=\"260 fill=\"black\" font-size=12 >72</text><rect x=\"160\" y=\"0\" width=\"20\" height=\"20\" fill = \"#bfffbf\"></rect><text x=\"162\" y=\"20 fill=\"black\" font-size=12 >6A</text><rect x=\"160\" y=\"20\" width=\"20\" height=\"20\" fill = \"#7fff7f\"></rect><text x=\"162\" y=\"40 fill=\"black\" font-size=12 >6K</text><rect x=\"160\" y=\"40\" width=\"20\" height=\"20\" fill = \"#ffffff\"></rect><text x=\"162\" y=\"60 fill=\"black\" font-size=12 >6Q</text><rect x=\"160\" y=\"60\" width=\"20\" height=\"20\" fill = \"#ffffff\"></rect><text x=\"162\" y=\"80 fill=\"black\" font-size=12 >6J</text><rect x=\"160\" y=\"80\" width=\"20\" height=\"20\" fill = \"#ffffff\"></rect><text x=\"162\" y=\"100 fill=\"black\" font-size=12 >6T</text><rect x=\"160\" y=\"100\" width=\"20\" height=\"20\" fill = \"#ffffff\"></rect><text x=\"162\" y=\"120 fill=\"black\" font-size=12 >69</text><rect x=\"160\" y=\"120\" width=\"20\" height=\"20\" fill = \"#7fff7f\"></rect><text x=\"162\" y=\"140 fill=\"black\" font-size=12 >68</text><rect x=\"160\" y=\"140\" width=\"20\" height=\"20\" fill = \"#ffffff\"></rect><text x=\"162\" y=\"160 fill=\"black\" font-size=12 >67</text><rect x=\"160\" y=\"160\" width=\"20\" height=\"20\" fill = \"#7fff7f\"></rect><text x=\"162\" y=\"180 fill=\"black\" font-size=12 >66</text><rect x=\"160\" y=\"180\" width=\"20\" height=\"20\" fill = \"#ffffff\"></rect><text x=\"162\" y=\"200 fill=\"black\" font-size=12 >65</text><rect x=\"160\" y=\"200\" width=\"20\" height=\"20\" fill = \"#ffffff\"></rect><text x=\"162\" y=\"220 fill=\"black\" font-size=12 >64</text><rect x=\"160\" y=\"220\" width=\"20\" height=\"20\" fill = \"#6aff6a\"></rect><text x=\"162\" y=\"240 fill=\"black\" font-size=12 >63</text><rect x=\"160\" y=\"240\" width=\"20\" height=\"20\" fill = \"#ffffff\"></rect><text x=\"162\" y=\"260 fill=\"black\" font-size=12 >62</text><rect x=\"180\" y=\"0\" width=\"20\" height=\"20\" fill = \"#ffffff\"></rect><text x=\"182\" y=\"20 fill=\"black\" font-size=12 >5A</text><rect x=\"180\" y=\"20\" width=\"20\" height=\"20\" fill = \"#3fff3f\"></rect><text x=\"182\" y=\"40 fill=\"black\" font-size=12 >5K</text><rect x=\"180\" y=\"40\" width=\"20\" height=\"20\" fill = \"#ffffff\"></rect><text x=\"182\" y=\"60 fill=\"black\" font-size=12 >5Q</text><rect x=\"180\" y=\"60\" width=\"20\" height=\"20\" fill = \"#ffffff\"></rect><text x=\"182\" y=\"80 fill=\"black\" font-size=12 >5J</text><rect x=\"180\" y=\"80\" width=\"20\" height=\"20\" fill = \"#ffffff\"></rect><text x=\"182\" y=\"100 fill=\"black\" font-size=12 >5T</text><rect x=\"180\" y=\"100\" width=\"20\" height=\"20\" fill = \"#ffffff\"></rect><text x=\"182\" y=\"120 fill=\"black\" font-size=12 >59</text><rect x=\"180\" y=\"120\" width=\"20\" height=\"20\" fill = \"#ffffff\"></rect><text x=\"182\" y=\"140 fill=\"black\" font-size=12 >58</text><rect x=\"180\" y=\"140\" width=\"20\" height=\"20\" fill = \"#ffffff\"></rect><text x=\"182\" y=\"160 fill=\"black\" font-size=12 >57</text><rect x=\"180\" y=\"160\" width=\"20\" height=\"20\" fill = \"#ffffff\"></rect><text x=\"182\" y=\"180 fill=\"black\" font-size=12 >56</text><rect x=\"180\" y=\"180\" width=\"20\" height=\"20\" fill = \"#ffffff\"></rect><text x=\"182\" y=\"200 fill=\"black\" font-size=12 >55</text><rect x=\"180\" y=\"200\" width=\"20\" height=\"20\" fill = \"#ffffff\"></rect><text x=\"182\" y=\"220 fill=\"black\" font-size=12 >54</text><rect x=\"180\" y=\"220\" width=\"20\" height=\"20\" fill = \"#ffffff\"></rect><text x=\"182\" y=\"240 fill=\"black\" font-size=12 >53</text><rect x=\"180\" y=\"240\" width=\"20\" height=\"20\" fill = \"#ffffff\"></rect><text x=\"182\" y=\"260 fill=\"black\" font-size=12 >52</text><rect x=\"200\" y=\"0\" width=\"20\" height=\"20\" fill = \"#ffffff\"></rect><text x=\"202\" y=\"20 fill=\"black\" font-size=12 >4A</text><rect x=\"200\" y=\"20\" width=\"20\" height=\"20\" fill = \"#3fff3f\"></rect><text x=\"202\" y=\"40 fill=\"black\" font-size=12 >4K</text><rect x=\"200\" y=\"40\" width=\"20\" height=\"20\" fill = \"#ffffff\"></rect><text x=\"202\" y=\"60 fill=\"black\" font-size=12 >4Q</text><rect x=\"200\" y=\"60\" width=\"20\" height=\"20\" fill = \"#ffffff\"></rect><text x=\"202\" y=\"80 fill=\"black\" font-size=12 >4J</text><rect x=\"200\" y=\"80\" width=\"20\" height=\"20\" fill = \"#ffffff\"></rect><text x=\"202\" y=\"100 fill=\"black\" font-size=12 >4T</text><rect x=\"200\" y=\"100\" width=\"20\" height=\"20\" fill = \"#ffffff\"></rect><text x=\"202\" y=\"120 fill=\"black\" font-size=12 >49</text><rect x=\"200\" y=\"120\" width=\"20\" height=\"20\" fill = \"#ffffff\"></rect><text x=\"202\" y=\"140 fill=\"black\" font-size=12 >48</text><rect x=\"200\" y=\"140\" width=\"20\" height=\"20\" fill = \"#ffffff\"></rect><text x=\"202\" y=\"160 fill=\"black\" font-size=12 >47</text><rect x=\"200\" y=\"160\" width=\"20\" height=\"20\" fill = \"#ffffff\"></rect><text x=\"202\" y=\"180 fill=\"black\" font-size=12 >46</text><rect x=\"200\" y=\"180\" width=\"20\" height=\"20\" fill = \"#ffffff\"></rect><text x=\"202\" y=\"200 fill=\"black\" font-size=12 >45</text><rect x=\"200\" y=\"200\" width=\"20\" height=\"20\" fill = \"#ffffff\"></rect><text x=\"202\" y=\"220 fill=\"black\" font-size=12 >44</text><rect x=\"200\" y=\"220\" width=\"20\" height=\"20\" fill = \"#ffffff\"></rect><text x=\"202\" y=\"240 fill=\"black\" font-size=12 >43</text><rect x=\"200\" y=\"240\" width=\"20\" height=\"20\" fill = \"#ffffff\"></rect><text x=\"202\" y=\"260 fill=\"black\" font-size=12 >42</text><rect x=\"220\" y=\"0\" width=\"20\" height=\"20\" fill = \"#ffffff\"></rect><text x=\"222\" y=\"20 fill=\"black\" font-size=12 >3A</text><rect x=\"220\" y=\"20\" width=\"20\" height=\"20\" fill = \"#7fff7f\"></rect><text x=\"222\" y=\"40 fill=\"black\" font-size=12 >3K</text><rect x=\"220\" y=\"40\" width=\"20\" height=\"20\" fill = \"#ffffff\"></rect><text x=\"222\" y=\"60 fill=\"black\" font-size=12 >3Q</text><rect x=\"220\" y=\"60\" width=\"20\" height=\"20\" fill = \"#ffffff\"></rect><text x=\"222\" y=\"80 fill=\"black\" font-size=12 >3J</text><rect x=\"220\" y=\"80\" width=\"20\" height=\"20\" fill = \"#ffffff\"></rect><text x=\"222\" y=\"100 fill=\"black\" font-size=12 >3T</text><rect x=\"220\" y=\"100\" width=\"20\" height=\"20\" fill = \"#ffffff\"></rect><text x=\"222\" y=\"120 fill=\"black\" font-size=12 >39</text><rect x=\"220\" y=\"120\" width=\"20\" height=\"20\" fill = \"#7fff7f\"></rect><text x=\"222\" y=\"140 fill=\"black\" font-size=12 >38</text><rect x=\"220\" y=\"140\" width=\"20\" height=\"20\" fill = \"#ffffff\"></rect><text x=\"222\" y=\"160 fill=\"black\" font-size=12 >37</text><rect x=\"220\" y=\"160\" width=\"20\" height=\"20\" fill = \"#7fff7f\"></rect><text x=\"222\" y=\"180 fill=\"black\" font-size=12 >36</text><rect x=\"220\" y=\"180\" width=\"20\" height=\"20\" fill = \"#ffffff\"></rect><text x=\"222\" y=\"200 fill=\"black\" font-size=12 >35</text><rect x=\"220\" y=\"200\" width=\"20\" height=\"20\" fill = \"#ffffff\"></rect><text x=\"222\" y=\"220 fill=\"black\" font-size=12 >34</text><rect x=\"220\" y=\"220\" width=\"20\" height=\"20\" fill = \"#7fff7f\"></rect><text x=\"222\" y=\"240 fill=\"black\" font-size=12 >33</text><rect x=\"220\" y=\"240\" width=\"20\" height=\"20\" fill = \"#ffffff\"></rect><text x=\"222\" y=\"260 fill=\"black\" font-size=12 >32</text><rect x=\"240\" y=\"0\" width=\"20\" height=\"20\" fill = \"#ffffff\"></rect><text x=\"242\" y=\"20 fill=\"black\" font-size=12 >2A</text><rect x=\"240\" y=\"20\" width=\"20\" height=\"20\" fill = \"#3fff3f\"></rect><text x=\"242\" y=\"40 fill=\"black\" font-size=12 >2K</text><rect x=\"240\" y=\"40\" width=\"20\" height=\"20\" fill = \"#ffffff\"></rect><text x=\"242\" y=\"60 fill=\"black\" font-size=12 >2Q</text><rect x=\"240\" y=\"60\" width=\"20\" height=\"20\" fill = \"#ffffff\"></rect><text x=\"242\" y=\"80 fill=\"black\" font-size=12 >2J</text><rect x=\"240\" y=\"80\" width=\"20\" height=\"20\" fill = \"#ffffff\"></rect><text x=\"242\" y=\"100 fill=\"black\" font-size=12 >2T</text><rect x=\"240\" y=\"100\" width=\"20\" height=\"20\" fill = \"#ffffff\"></rect><text x=\"242\" y=\"120 fill=\"black\" font-size=12 >29</text><rect x=\"240\" y=\"120\" width=\"20\" height=\"20\" fill = \"#ffffff\"></rect><text x=\"242\" y=\"140 fill=\"black\" font-size=12 >28</text><rect x=\"240\" y=\"140\" width=\"20\" height=\"20\" fill = \"#ffffff\"></rect><text x=\"242\" y=\"160 fill=\"black\" font-size=12 >27</text><rect x=\"240\" y=\"160\" width=\"20\" height=\"20\" fill = \"#ffffff\"></rect><text x=\"242\" y=\"180 fill=\"black\" font-size=12 >26</text><rect x=\"240\" y=\"180\" width=\"20\" height=\"20\" fill = \"#ffffff\"></rect><text x=\"242\" y=\"200 fill=\"black\" font-size=12 >25</text><rect x=\"240\" y=\"200\" width=\"20\" height=\"20\" fill = \"#ffffff\"></rect><text x=\"242\" y=\"220 fill=\"black\" font-size=12 >24</text><rect x=\"240\" y=\"220\" width=\"20\" height=\"20\" fill = \"#ffffff\"></rect><text x=\"242\" y=\"240 fill=\"black\" font-size=12 >23</text><rect x=\"240\" y=\"240\" width=\"20\" height=\"20\" fill = \"#ffffff\"></rect><text x=\"242\" y=\"260 fill=\"black\" font-size=12 >22</text></svg>"
      ],
      "text/plain": [
       "<__main__.Range instance at 0x0BED4AD0>"
      ]
     },
     "metadata": {},
     "output_type": "display_data"
    }
   ],
   "source": [
    "print(pe.card2string(board))\n",
    "bob = Range()\n",
    "bob.setToTop(0.2, board)\n",
    "display(bob)"
   ]
  },
  {
   "cell_type": "code",
   "execution_count": 21,
   "metadata": {
    "collapsed": false
   },
   "outputs": [
    {
     "data": {
      "image/svg+xml": [
       "<svg xmlns=\"http://www.w3.org/2000/svg\" version = \"1.1\" width =\"260\" height = \"260\"><rect x=\"0\" y=\"0\" width=\"20\" height=\"20\" fill = \"#ffffff\"></rect><text x=\"2\" y=\"20 fill=\"black\" font-size=12 >AA</text><rect x=\"0\" y=\"20\" width=\"20\" height=\"20\" fill = \"#00ff00\"></rect><text x=\"2\" y=\"40 fill=\"black\" font-size=12 >AK</text><rect x=\"0\" y=\"40\" width=\"20\" height=\"20\" fill = \"#ffffff\"></rect><text x=\"2\" y=\"60 fill=\"black\" font-size=12 >AQ</text><rect x=\"0\" y=\"60\" width=\"20\" height=\"20\" fill = \"#ffffff\"></rect><text x=\"2\" y=\"80 fill=\"black\" font-size=12 >AJ</text><rect x=\"0\" y=\"80\" width=\"20\" height=\"20\" fill = \"#ffffff\"></rect><text x=\"2\" y=\"100 fill=\"black\" font-size=12 >AT</text><rect x=\"0\" y=\"100\" width=\"20\" height=\"20\" fill = \"#ffffff\"></rect><text x=\"2\" y=\"120 fill=\"black\" font-size=12 >A9</text><rect x=\"0\" y=\"120\" width=\"20\" height=\"20\" fill = \"#ffffff\"></rect><text x=\"2\" y=\"140 fill=\"black\" font-size=12 >A8</text><rect x=\"0\" y=\"140\" width=\"20\" height=\"20\" fill = \"#ffffff\"></rect><text x=\"2\" y=\"160 fill=\"black\" font-size=12 >A7</text><rect x=\"0\" y=\"160\" width=\"20\" height=\"20\" fill = \"#ffffff\"></rect><text x=\"2\" y=\"180 fill=\"black\" font-size=12 >A6</text><rect x=\"0\" y=\"180\" width=\"20\" height=\"20\" fill = \"#ffffff\"></rect><text x=\"2\" y=\"200 fill=\"black\" font-size=12 >A5</text><rect x=\"0\" y=\"200\" width=\"20\" height=\"20\" fill = \"#ffffff\"></rect><text x=\"2\" y=\"220 fill=\"black\" font-size=12 >A4</text><rect x=\"0\" y=\"220\" width=\"20\" height=\"20\" fill = \"#ffffff\"></rect><text x=\"2\" y=\"240 fill=\"black\" font-size=12 >A3</text><rect x=\"0\" y=\"240\" width=\"20\" height=\"20\" fill = \"#ffffff\"></rect><text x=\"2\" y=\"260 fill=\"black\" font-size=12 >A2</text><rect x=\"20\" y=\"0\" width=\"20\" height=\"20\" fill = \"#00ff00\"></rect><text x=\"22\" y=\"20 fill=\"black\" font-size=12 >KA</text><rect x=\"20\" y=\"20\" width=\"20\" height=\"20\" fill = \"#ffffff\"></rect><text x=\"22\" y=\"40 fill=\"black\" font-size=12 >KK</text><rect x=\"20\" y=\"40\" width=\"20\" height=\"20\" fill = \"#ffffff\"></rect><text x=\"22\" y=\"60 fill=\"black\" font-size=12 >KQ</text><rect x=\"20\" y=\"60\" width=\"20\" height=\"20\" fill = \"#ffffff\"></rect><text x=\"22\" y=\"80 fill=\"black\" font-size=12 >KJ</text><rect x=\"20\" y=\"80\" width=\"20\" height=\"20\" fill = \"#ffffff\"></rect><text x=\"22\" y=\"100 fill=\"black\" font-size=12 >KT</text><rect x=\"20\" y=\"100\" width=\"20\" height=\"20\" fill = \"#ffffff\"></rect><text x=\"22\" y=\"120 fill=\"black\" font-size=12 >K9</text><rect x=\"20\" y=\"120\" width=\"20\" height=\"20\" fill = \"#ffffff\"></rect><text x=\"22\" y=\"140 fill=\"black\" font-size=12 >K8</text><rect x=\"20\" y=\"140\" width=\"20\" height=\"20\" fill = \"#ffffff\"></rect><text x=\"22\" y=\"160 fill=\"black\" font-size=12 >K7</text><rect x=\"20\" y=\"160\" width=\"20\" height=\"20\" fill = \"#ffffff\"></rect><text x=\"22\" y=\"180 fill=\"black\" font-size=12 >K6</text><rect x=\"20\" y=\"180\" width=\"20\" height=\"20\" fill = \"#ffffff\"></rect><text x=\"22\" y=\"200 fill=\"black\" font-size=12 >K5</text><rect x=\"20\" y=\"200\" width=\"20\" height=\"20\" fill = \"#ffffff\"></rect><text x=\"22\" y=\"220 fill=\"black\" font-size=12 >K4</text><rect x=\"20\" y=\"220\" width=\"20\" height=\"20\" fill = \"#ffffff\"></rect><text x=\"22\" y=\"240 fill=\"black\" font-size=12 >K3</text><rect x=\"20\" y=\"240\" width=\"20\" height=\"20\" fill = \"#ffffff\"></rect><text x=\"22\" y=\"260 fill=\"black\" font-size=12 >K2</text><rect x=\"40\" y=\"0\" width=\"20\" height=\"20\" fill = \"#ffffff\"></rect><text x=\"42\" y=\"20 fill=\"black\" font-size=12 >QA</text><rect x=\"40\" y=\"20\" width=\"20\" height=\"20\" fill = \"#ffffff\"></rect><text x=\"42\" y=\"40 fill=\"black\" font-size=12 >QK</text><rect x=\"40\" y=\"40\" width=\"20\" height=\"20\" fill = \"#ffffff\"></rect><text x=\"42\" y=\"60 fill=\"black\" font-size=12 >QQ</text><rect x=\"40\" y=\"60\" width=\"20\" height=\"20\" fill = \"#ffffff\"></rect><text x=\"42\" y=\"80 fill=\"black\" font-size=12 >QJ</text><rect x=\"40\" y=\"80\" width=\"20\" height=\"20\" fill = \"#ffffff\"></rect><text x=\"42\" y=\"100 fill=\"black\" font-size=12 >QT</text><rect x=\"40\" y=\"100\" width=\"20\" height=\"20\" fill = \"#ffffff\"></rect><text x=\"42\" y=\"120 fill=\"black\" font-size=12 >Q9</text><rect x=\"40\" y=\"120\" width=\"20\" height=\"20\" fill = \"#ffffff\"></rect><text x=\"42\" y=\"140 fill=\"black\" font-size=12 >Q8</text><rect x=\"40\" y=\"140\" width=\"20\" height=\"20\" fill = \"#ffffff\"></rect><text x=\"42\" y=\"160 fill=\"black\" font-size=12 >Q7</text><rect x=\"40\" y=\"160\" width=\"20\" height=\"20\" fill = \"#ffffff\"></rect><text x=\"42\" y=\"180 fill=\"black\" font-size=12 >Q6</text><rect x=\"40\" y=\"180\" width=\"20\" height=\"20\" fill = \"#ffffff\"></rect><text x=\"42\" y=\"200 fill=\"black\" font-size=12 >Q5</text><rect x=\"40\" y=\"200\" width=\"20\" height=\"20\" fill = \"#ffffff\"></rect><text x=\"42\" y=\"220 fill=\"black\" font-size=12 >Q4</text><rect x=\"40\" y=\"220\" width=\"20\" height=\"20\" fill = \"#ffffff\"></rect><text x=\"42\" y=\"240 fill=\"black\" font-size=12 >Q3</text><rect x=\"40\" y=\"240\" width=\"20\" height=\"20\" fill = \"#ffffff\"></rect><text x=\"42\" y=\"260 fill=\"black\" font-size=12 >Q2</text><rect x=\"60\" y=\"0\" width=\"20\" height=\"20\" fill = \"#ffffff\"></rect><text x=\"62\" y=\"20 fill=\"black\" font-size=12 >JA</text><rect x=\"60\" y=\"20\" width=\"20\" height=\"20\" fill = \"#ffffff\"></rect><text x=\"62\" y=\"40 fill=\"black\" font-size=12 >JK</text><rect x=\"60\" y=\"40\" width=\"20\" height=\"20\" fill = \"#00ff00\"></rect><text x=\"62\" y=\"60 fill=\"black\" font-size=12 >JQ</text><rect x=\"60\" y=\"60\" width=\"20\" height=\"20\" fill = \"#ffffff\"></rect><text x=\"62\" y=\"80 fill=\"black\" font-size=12 >JJ</text><rect x=\"60\" y=\"80\" width=\"20\" height=\"20\" fill = \"#ffffff\"></rect><text x=\"62\" y=\"100 fill=\"black\" font-size=12 >JT</text><rect x=\"60\" y=\"100\" width=\"20\" height=\"20\" fill = \"#ffffff\"></rect><text x=\"62\" y=\"120 fill=\"black\" font-size=12 >J9</text><rect x=\"60\" y=\"120\" width=\"20\" height=\"20\" fill = \"#ffffff\"></rect><text x=\"62\" y=\"140 fill=\"black\" font-size=12 >J8</text><rect x=\"60\" y=\"140\" width=\"20\" height=\"20\" fill = \"#ffffff\"></rect><text x=\"62\" y=\"160 fill=\"black\" font-size=12 >J7</text><rect x=\"60\" y=\"160\" width=\"20\" height=\"20\" fill = \"#ffffff\"></rect><text x=\"62\" y=\"180 fill=\"black\" font-size=12 >J6</text><rect x=\"60\" y=\"180\" width=\"20\" height=\"20\" fill = \"#ffffff\"></rect><text x=\"62\" y=\"200 fill=\"black\" font-size=12 >J5</text><rect x=\"60\" y=\"200\" width=\"20\" height=\"20\" fill = \"#ffffff\"></rect><text x=\"62\" y=\"220 fill=\"black\" font-size=12 >J4</text><rect x=\"60\" y=\"220\" width=\"20\" height=\"20\" fill = \"#ffffff\"></rect><text x=\"62\" y=\"240 fill=\"black\" font-size=12 >J3</text><rect x=\"60\" y=\"240\" width=\"20\" height=\"20\" fill = \"#ffffff\"></rect><text x=\"62\" y=\"260 fill=\"black\" font-size=12 >J2</text><rect x=\"80\" y=\"0\" width=\"20\" height=\"20\" fill = \"#ffffff\"></rect><text x=\"82\" y=\"20 fill=\"black\" font-size=12 >TA</text><rect x=\"80\" y=\"20\" width=\"20\" height=\"20\" fill = \"#ffffff\"></rect><text x=\"82\" y=\"40 fill=\"black\" font-size=12 >TK</text><rect x=\"80\" y=\"40\" width=\"20\" height=\"20\" fill = \"#ffffff\"></rect><text x=\"82\" y=\"60 fill=\"black\" font-size=12 >TQ</text><rect x=\"80\" y=\"60\" width=\"20\" height=\"20\" fill = \"#ffffff\"></rect><text x=\"82\" y=\"80 fill=\"black\" font-size=12 >TJ</text><rect x=\"80\" y=\"80\" width=\"20\" height=\"20\" fill = \"#ffffff\"></rect><text x=\"82\" y=\"100 fill=\"black\" font-size=12 >TT</text><rect x=\"80\" y=\"100\" width=\"20\" height=\"20\" fill = \"#ffffff\"></rect><text x=\"82\" y=\"120 fill=\"black\" font-size=12 >T9</text><rect x=\"80\" y=\"120\" width=\"20\" height=\"20\" fill = \"#ffffff\"></rect><text x=\"82\" y=\"140 fill=\"black\" font-size=12 >T8</text><rect x=\"80\" y=\"140\" width=\"20\" height=\"20\" fill = \"#ffffff\"></rect><text x=\"82\" y=\"160 fill=\"black\" font-size=12 >T7</text><rect x=\"80\" y=\"160\" width=\"20\" height=\"20\" fill = \"#ffffff\"></rect><text x=\"82\" y=\"180 fill=\"black\" font-size=12 >T6</text><rect x=\"80\" y=\"180\" width=\"20\" height=\"20\" fill = \"#ffffff\"></rect><text x=\"82\" y=\"200 fill=\"black\" font-size=12 >T5</text><rect x=\"80\" y=\"200\" width=\"20\" height=\"20\" fill = \"#ffffff\"></rect><text x=\"82\" y=\"220 fill=\"black\" font-size=12 >T4</text><rect x=\"80\" y=\"220\" width=\"20\" height=\"20\" fill = \"#ffffff\"></rect><text x=\"82\" y=\"240 fill=\"black\" font-size=12 >T3</text><rect x=\"80\" y=\"240\" width=\"20\" height=\"20\" fill = \"#ffffff\"></rect><text x=\"82\" y=\"260 fill=\"black\" font-size=12 >T2</text><rect x=\"100\" y=\"0\" width=\"20\" height=\"20\" fill = \"#ffffff\"></rect><text x=\"102\" y=\"20 fill=\"black\" font-size=12 >9A</text><rect x=\"100\" y=\"20\" width=\"20\" height=\"20\" fill = \"#ffffff\"></rect><text x=\"102\" y=\"40 fill=\"black\" font-size=12 >9K</text><rect x=\"100\" y=\"40\" width=\"20\" height=\"20\" fill = \"#ffffff\"></rect><text x=\"102\" y=\"60 fill=\"black\" font-size=12 >9Q</text><rect x=\"100\" y=\"60\" width=\"20\" height=\"20\" fill = \"#ffffff\"></rect><text x=\"102\" y=\"80 fill=\"black\" font-size=12 >9J</text><rect x=\"100\" y=\"80\" width=\"20\" height=\"20\" fill = \"#ffffff\"></rect><text x=\"102\" y=\"100 fill=\"black\" font-size=12 >9T</text><rect x=\"100\" y=\"100\" width=\"20\" height=\"20\" fill = \"#ffffff\"></rect><text x=\"102\" y=\"120 fill=\"black\" font-size=12 >99</text><rect x=\"100\" y=\"120\" width=\"20\" height=\"20\" fill = \"#ffffff\"></rect><text x=\"102\" y=\"140 fill=\"black\" font-size=12 >98</text><rect x=\"100\" y=\"140\" width=\"20\" height=\"20\" fill = \"#ffffff\"></rect><text x=\"102\" y=\"160 fill=\"black\" font-size=12 >97</text><rect x=\"100\" y=\"160\" width=\"20\" height=\"20\" fill = \"#ffffff\"></rect><text x=\"102\" y=\"180 fill=\"black\" font-size=12 >96</text><rect x=\"100\" y=\"180\" width=\"20\" height=\"20\" fill = \"#ffffff\"></rect><text x=\"102\" y=\"200 fill=\"black\" font-size=12 >95</text><rect x=\"100\" y=\"200\" width=\"20\" height=\"20\" fill = \"#ffffff\"></rect><text x=\"102\" y=\"220 fill=\"black\" font-size=12 >94</text><rect x=\"100\" y=\"220\" width=\"20\" height=\"20\" fill = \"#ffffff\"></rect><text x=\"102\" y=\"240 fill=\"black\" font-size=12 >93</text><rect x=\"100\" y=\"240\" width=\"20\" height=\"20\" fill = \"#ffffff\"></rect><text x=\"102\" y=\"260 fill=\"black\" font-size=12 >92</text><rect x=\"120\" y=\"0\" width=\"20\" height=\"20\" fill = \"#ffffff\"></rect><text x=\"122\" y=\"20 fill=\"black\" font-size=12 >8A</text><rect x=\"120\" y=\"20\" width=\"20\" height=\"20\" fill = \"#ffffff\"></rect><text x=\"122\" y=\"40 fill=\"black\" font-size=12 >8K</text><rect x=\"120\" y=\"40\" width=\"20\" height=\"20\" fill = \"#ffffff\"></rect><text x=\"122\" y=\"60 fill=\"black\" font-size=12 >8Q</text><rect x=\"120\" y=\"60\" width=\"20\" height=\"20\" fill = \"#ffffff\"></rect><text x=\"122\" y=\"80 fill=\"black\" font-size=12 >8J</text><rect x=\"120\" y=\"80\" width=\"20\" height=\"20\" fill = \"#ffffff\"></rect><text x=\"122\" y=\"100 fill=\"black\" font-size=12 >8T</text><rect x=\"120\" y=\"100\" width=\"20\" height=\"20\" fill = \"#ffffff\"></rect><text x=\"122\" y=\"120 fill=\"black\" font-size=12 >89</text><rect x=\"120\" y=\"120\" width=\"20\" height=\"20\" fill = \"#ffffff\"></rect><text x=\"122\" y=\"140 fill=\"black\" font-size=12 >88</text><rect x=\"120\" y=\"140\" width=\"20\" height=\"20\" fill = \"#ffffff\"></rect><text x=\"122\" y=\"160 fill=\"black\" font-size=12 >87</text><rect x=\"120\" y=\"160\" width=\"20\" height=\"20\" fill = \"#ffffff\"></rect><text x=\"122\" y=\"180 fill=\"black\" font-size=12 >86</text><rect x=\"120\" y=\"180\" width=\"20\" height=\"20\" fill = \"#ffffff\"></rect><text x=\"122\" y=\"200 fill=\"black\" font-size=12 >85</text><rect x=\"120\" y=\"200\" width=\"20\" height=\"20\" fill = \"#ffffff\"></rect><text x=\"122\" y=\"220 fill=\"black\" font-size=12 >84</text><rect x=\"120\" y=\"220\" width=\"20\" height=\"20\" fill = \"#ffffff\"></rect><text x=\"122\" y=\"240 fill=\"black\" font-size=12 >83</text><rect x=\"120\" y=\"240\" width=\"20\" height=\"20\" fill = \"#ffffff\"></rect><text x=\"122\" y=\"260 fill=\"black\" font-size=12 >82</text><rect x=\"140\" y=\"0\" width=\"20\" height=\"20\" fill = \"#ffffff\"></rect><text x=\"142\" y=\"20 fill=\"black\" font-size=12 >7A</text><rect x=\"140\" y=\"20\" width=\"20\" height=\"20\" fill = \"#ffffff\"></rect><text x=\"142\" y=\"40 fill=\"black\" font-size=12 >7K</text><rect x=\"140\" y=\"40\" width=\"20\" height=\"20\" fill = \"#ffffff\"></rect><text x=\"142\" y=\"60 fill=\"black\" font-size=12 >7Q</text><rect x=\"140\" y=\"60\" width=\"20\" height=\"20\" fill = \"#ffffff\"></rect><text x=\"142\" y=\"80 fill=\"black\" font-size=12 >7J</text><rect x=\"140\" y=\"80\" width=\"20\" height=\"20\" fill = \"#ffffff\"></rect><text x=\"142\" y=\"100 fill=\"black\" font-size=12 >7T</text><rect x=\"140\" y=\"100\" width=\"20\" height=\"20\" fill = \"#ffffff\"></rect><text x=\"142\" y=\"120 fill=\"black\" font-size=12 >79</text><rect x=\"140\" y=\"120\" width=\"20\" height=\"20\" fill = \"#ffffff\"></rect><text x=\"142\" y=\"140 fill=\"black\" font-size=12 >78</text><rect x=\"140\" y=\"140\" width=\"20\" height=\"20\" fill = \"#ffffff\"></rect><text x=\"142\" y=\"160 fill=\"black\" font-size=12 >77</text><rect x=\"140\" y=\"160\" width=\"20\" height=\"20\" fill = \"#ffffff\"></rect><text x=\"142\" y=\"180 fill=\"black\" font-size=12 >76</text><rect x=\"140\" y=\"180\" width=\"20\" height=\"20\" fill = \"#ffffff\"></rect><text x=\"142\" y=\"200 fill=\"black\" font-size=12 >75</text><rect x=\"140\" y=\"200\" width=\"20\" height=\"20\" fill = \"#ffffff\"></rect><text x=\"142\" y=\"220 fill=\"black\" font-size=12 >74</text><rect x=\"140\" y=\"220\" width=\"20\" height=\"20\" fill = \"#ffffff\"></rect><text x=\"142\" y=\"240 fill=\"black\" font-size=12 >73</text><rect x=\"140\" y=\"240\" width=\"20\" height=\"20\" fill = \"#ffffff\"></rect><text x=\"142\" y=\"260 fill=\"black\" font-size=12 >72</text><rect x=\"160\" y=\"0\" width=\"20\" height=\"20\" fill = \"#ffffff\"></rect><text x=\"162\" y=\"20 fill=\"black\" font-size=12 >6A</text><rect x=\"160\" y=\"20\" width=\"20\" height=\"20\" fill = \"#ffffff\"></rect><text x=\"162\" y=\"40 fill=\"black\" font-size=12 >6K</text><rect x=\"160\" y=\"40\" width=\"20\" height=\"20\" fill = \"#ffffff\"></rect><text x=\"162\" y=\"60 fill=\"black\" font-size=12 >6Q</text><rect x=\"160\" y=\"60\" width=\"20\" height=\"20\" fill = \"#ffffff\"></rect><text x=\"162\" y=\"80 fill=\"black\" font-size=12 >6J</text><rect x=\"160\" y=\"80\" width=\"20\" height=\"20\" fill = \"#ffffff\"></rect><text x=\"162\" y=\"100 fill=\"black\" font-size=12 >6T</text><rect x=\"160\" y=\"100\" width=\"20\" height=\"20\" fill = \"#ffffff\"></rect><text x=\"162\" y=\"120 fill=\"black\" font-size=12 >69</text><rect x=\"160\" y=\"120\" width=\"20\" height=\"20\" fill = \"#ffffff\"></rect><text x=\"162\" y=\"140 fill=\"black\" font-size=12 >68</text><rect x=\"160\" y=\"140\" width=\"20\" height=\"20\" fill = \"#ffffff\"></rect><text x=\"162\" y=\"160 fill=\"black\" font-size=12 >67</text><rect x=\"160\" y=\"160\" width=\"20\" height=\"20\" fill = \"#ffffff\"></rect><text x=\"162\" y=\"180 fill=\"black\" font-size=12 >66</text><rect x=\"160\" y=\"180\" width=\"20\" height=\"20\" fill = \"#ffffff\"></rect><text x=\"162\" y=\"200 fill=\"black\" font-size=12 >65</text><rect x=\"160\" y=\"200\" width=\"20\" height=\"20\" fill = \"#ffffff\"></rect><text x=\"162\" y=\"220 fill=\"black\" font-size=12 >64</text><rect x=\"160\" y=\"220\" width=\"20\" height=\"20\" fill = \"#ffffff\"></rect><text x=\"162\" y=\"240 fill=\"black\" font-size=12 >63</text><rect x=\"160\" y=\"240\" width=\"20\" height=\"20\" fill = \"#ffffff\"></rect><text x=\"162\" y=\"260 fill=\"black\" font-size=12 >62</text><rect x=\"180\" y=\"0\" width=\"20\" height=\"20\" fill = \"#ffffff\"></rect><text x=\"182\" y=\"20 fill=\"black\" font-size=12 >5A</text><rect x=\"180\" y=\"20\" width=\"20\" height=\"20\" fill = \"#ffffff\"></rect><text x=\"182\" y=\"40 fill=\"black\" font-size=12 >5K</text><rect x=\"180\" y=\"40\" width=\"20\" height=\"20\" fill = \"#ffffff\"></rect><text x=\"182\" y=\"60 fill=\"black\" font-size=12 >5Q</text><rect x=\"180\" y=\"60\" width=\"20\" height=\"20\" fill = \"#ffffff\"></rect><text x=\"182\" y=\"80 fill=\"black\" font-size=12 >5J</text><rect x=\"180\" y=\"80\" width=\"20\" height=\"20\" fill = \"#ffffff\"></rect><text x=\"182\" y=\"100 fill=\"black\" font-size=12 >5T</text><rect x=\"180\" y=\"100\" width=\"20\" height=\"20\" fill = \"#ffffff\"></rect><text x=\"182\" y=\"120 fill=\"black\" font-size=12 >59</text><rect x=\"180\" y=\"120\" width=\"20\" height=\"20\" fill = \"#ffffff\"></rect><text x=\"182\" y=\"140 fill=\"black\" font-size=12 >58</text><rect x=\"180\" y=\"140\" width=\"20\" height=\"20\" fill = \"#ffffff\"></rect><text x=\"182\" y=\"160 fill=\"black\" font-size=12 >57</text><rect x=\"180\" y=\"160\" width=\"20\" height=\"20\" fill = \"#ffffff\"></rect><text x=\"182\" y=\"180 fill=\"black\" font-size=12 >56</text><rect x=\"180\" y=\"180\" width=\"20\" height=\"20\" fill = \"#ffffff\"></rect><text x=\"182\" y=\"200 fill=\"black\" font-size=12 >55</text><rect x=\"180\" y=\"200\" width=\"20\" height=\"20\" fill = \"#ffffff\"></rect><text x=\"182\" y=\"220 fill=\"black\" font-size=12 >54</text><rect x=\"180\" y=\"220\" width=\"20\" height=\"20\" fill = \"#ffffff\"></rect><text x=\"182\" y=\"240 fill=\"black\" font-size=12 >53</text><rect x=\"180\" y=\"240\" width=\"20\" height=\"20\" fill = \"#ffffff\"></rect><text x=\"182\" y=\"260 fill=\"black\" font-size=12 >52</text><rect x=\"200\" y=\"0\" width=\"20\" height=\"20\" fill = \"#ffffff\"></rect><text x=\"202\" y=\"20 fill=\"black\" font-size=12 >4A</text><rect x=\"200\" y=\"20\" width=\"20\" height=\"20\" fill = \"#ffffff\"></rect><text x=\"202\" y=\"40 fill=\"black\" font-size=12 >4K</text><rect x=\"200\" y=\"40\" width=\"20\" height=\"20\" fill = \"#ffffff\"></rect><text x=\"202\" y=\"60 fill=\"black\" font-size=12 >4Q</text><rect x=\"200\" y=\"60\" width=\"20\" height=\"20\" fill = \"#ffffff\"></rect><text x=\"202\" y=\"80 fill=\"black\" font-size=12 >4J</text><rect x=\"200\" y=\"80\" width=\"20\" height=\"20\" fill = \"#ffffff\"></rect><text x=\"202\" y=\"100 fill=\"black\" font-size=12 >4T</text><rect x=\"200\" y=\"100\" width=\"20\" height=\"20\" fill = \"#ffffff\"></rect><text x=\"202\" y=\"120 fill=\"black\" font-size=12 >49</text><rect x=\"200\" y=\"120\" width=\"20\" height=\"20\" fill = \"#ffffff\"></rect><text x=\"202\" y=\"140 fill=\"black\" font-size=12 >48</text><rect x=\"200\" y=\"140\" width=\"20\" height=\"20\" fill = \"#ffffff\"></rect><text x=\"202\" y=\"160 fill=\"black\" font-size=12 >47</text><rect x=\"200\" y=\"160\" width=\"20\" height=\"20\" fill = \"#ffffff\"></rect><text x=\"202\" y=\"180 fill=\"black\" font-size=12 >46</text><rect x=\"200\" y=\"180\" width=\"20\" height=\"20\" fill = \"#ffffff\"></rect><text x=\"202\" y=\"200 fill=\"black\" font-size=12 >45</text><rect x=\"200\" y=\"200\" width=\"20\" height=\"20\" fill = \"#00ff00\"></rect><text x=\"202\" y=\"220 fill=\"black\" font-size=12 >44</text><rect x=\"200\" y=\"220\" width=\"20\" height=\"20\" fill = \"#ffffff\"></rect><text x=\"202\" y=\"240 fill=\"black\" font-size=12 >43</text><rect x=\"200\" y=\"240\" width=\"20\" height=\"20\" fill = \"#ffffff\"></rect><text x=\"202\" y=\"260 fill=\"black\" font-size=12 >42</text><rect x=\"220\" y=\"0\" width=\"20\" height=\"20\" fill = \"#ffffff\"></rect><text x=\"222\" y=\"20 fill=\"black\" font-size=12 >3A</text><rect x=\"220\" y=\"20\" width=\"20\" height=\"20\" fill = \"#ffffff\"></rect><text x=\"222\" y=\"40 fill=\"black\" font-size=12 >3K</text><rect x=\"220\" y=\"40\" width=\"20\" height=\"20\" fill = \"#ffffff\"></rect><text x=\"222\" y=\"60 fill=\"black\" font-size=12 >3Q</text><rect x=\"220\" y=\"60\" width=\"20\" height=\"20\" fill = \"#ffffff\"></rect><text x=\"222\" y=\"80 fill=\"black\" font-size=12 >3J</text><rect x=\"220\" y=\"80\" width=\"20\" height=\"20\" fill = \"#ffffff\"></rect><text x=\"222\" y=\"100 fill=\"black\" font-size=12 >3T</text><rect x=\"220\" y=\"100\" width=\"20\" height=\"20\" fill = \"#ffffff\"></rect><text x=\"222\" y=\"120 fill=\"black\" font-size=12 >39</text><rect x=\"220\" y=\"120\" width=\"20\" height=\"20\" fill = \"#ffffff\"></rect><text x=\"222\" y=\"140 fill=\"black\" font-size=12 >38</text><rect x=\"220\" y=\"140\" width=\"20\" height=\"20\" fill = \"#ffffff\"></rect><text x=\"222\" y=\"160 fill=\"black\" font-size=12 >37</text><rect x=\"220\" y=\"160\" width=\"20\" height=\"20\" fill = \"#ffffff\"></rect><text x=\"222\" y=\"180 fill=\"black\" font-size=12 >36</text><rect x=\"220\" y=\"180\" width=\"20\" height=\"20\" fill = \"#ffffff\"></rect><text x=\"222\" y=\"200 fill=\"black\" font-size=12 >35</text><rect x=\"220\" y=\"200\" width=\"20\" height=\"20\" fill = \"#ffffff\"></rect><text x=\"222\" y=\"220 fill=\"black\" font-size=12 >34</text><rect x=\"220\" y=\"220\" width=\"20\" height=\"20\" fill = \"#ffffff\"></rect><text x=\"222\" y=\"240 fill=\"black\" font-size=12 >33</text><rect x=\"220\" y=\"240\" width=\"20\" height=\"20\" fill = \"#ffffff\"></rect><text x=\"222\" y=\"260 fill=\"black\" font-size=12 >32</text><rect x=\"240\" y=\"0\" width=\"20\" height=\"20\" fill = \"#ffffff\"></rect><text x=\"242\" y=\"20 fill=\"black\" font-size=12 >2A</text><rect x=\"240\" y=\"20\" width=\"20\" height=\"20\" fill = \"#ffffff\"></rect><text x=\"242\" y=\"40 fill=\"black\" font-size=12 >2K</text><rect x=\"240\" y=\"40\" width=\"20\" height=\"20\" fill = \"#ffffff\"></rect><text x=\"242\" y=\"60 fill=\"black\" font-size=12 >2Q</text><rect x=\"240\" y=\"60\" width=\"20\" height=\"20\" fill = \"#ffffff\"></rect><text x=\"242\" y=\"80 fill=\"black\" font-size=12 >2J</text><rect x=\"240\" y=\"80\" width=\"20\" height=\"20\" fill = \"#ffffff\"></rect><text x=\"242\" y=\"100 fill=\"black\" font-size=12 >2T</text><rect x=\"240\" y=\"100\" width=\"20\" height=\"20\" fill = \"#ffffff\"></rect><text x=\"242\" y=\"120 fill=\"black\" font-size=12 >29</text><rect x=\"240\" y=\"120\" width=\"20\" height=\"20\" fill = \"#ffffff\"></rect><text x=\"242\" y=\"140 fill=\"black\" font-size=12 >28</text><rect x=\"240\" y=\"140\" width=\"20\" height=\"20\" fill = \"#ffffff\"></rect><text x=\"242\" y=\"160 fill=\"black\" font-size=12 >27</text><rect x=\"240\" y=\"160\" width=\"20\" height=\"20\" fill = \"#ffffff\"></rect><text x=\"242\" y=\"180 fill=\"black\" font-size=12 >26</text><rect x=\"240\" y=\"180\" width=\"20\" height=\"20\" fill = \"#ffffff\"></rect><text x=\"242\" y=\"200 fill=\"black\" font-size=12 >25</text><rect x=\"240\" y=\"200\" width=\"20\" height=\"20\" fill = \"#ffffff\"></rect><text x=\"242\" y=\"220 fill=\"black\" font-size=12 >24</text><rect x=\"240\" y=\"220\" width=\"20\" height=\"20\" fill = \"#ffffff\"></rect><text x=\"242\" y=\"240 fill=\"black\" font-size=12 >23</text><rect x=\"240\" y=\"240\" width=\"20\" height=\"20\" fill = \"#ffffff\"></rect><text x=\"242\" y=\"260 fill=\"black\" font-size=12 >22</text></svg>"
      ],
      "text/plain": [
       "<__main__.Range instance at 0x0BFE56C0>"
      ]
     },
     "metadata": {},
     "output_type": "display_data"
    }
   ],
   "source": [
    "# Testing setRangeString\n",
    "bob = Range()\n",
    "bob.setRangeString(\"AK,44,QJs\", 1.0)\n",
    "display(bob)"
   ]
  },
  {
   "cell_type": "code",
   "execution_count": 22,
   "metadata": {
    "collapsed": false
   },
   "outputs": [],
   "source": [
    "# Plotting Equity distributions\n",
    "# The function below plots the equity distribution of r1 vs r2 on the board\n",
    "\n",
    "# Input:\n",
    "#    r1 - a Range object\n",
    "#    r2 - a Range object\n",
    "#    board - a list of cards in numerical format\n",
    "def plotEqDistn(r1, r2, board):\n",
    "    xs = []\n",
    "    ys = []\n",
    "    \n",
    "    handCount = 0.0\n",
    "    for hand in r1.getHandsSortedAndEquities(r2, board):\n",
    "        # plot the hand at (handCount, equity) and (handCount + r1.getFrac(hand[0]), equity)\n",
    "        xs.append(handCount)\n",
    "        handCount += r1.getFrac(hand[0])\n",
    "        xs.append(handCount)\n",
    "        ys.append(hand[1])\n",
    "        ys.append(hand[1])\n",
    "    \n",
    "    plot(xs, ys)"
   ]
  },
  {
   "cell_type": "code",
   "execution_count": 23,
   "metadata": {
    "collapsed": false
   },
   "outputs": [
    {
     "data": {
      "image/png": "[encoded data removed]",
      "text/plain": [
       "<matplotlib.figure.Figure at 0xbcf0210>"
      ]
     },
     "metadata": {},
     "output_type": "display_data"
    }
   ],
   "source": [
    "# preflop equity distribution of ATC vs ATC\n",
    "pfBoard = pe.string2card(['__', '__', '__', '__', '__']) # preflop board\n",
    "#pfEArray = EquityArray(pfBoard)\n",
    "ATC = Range(1.0)\n",
    "plotEqDistn(ATC, ATC, pfBoard)"
   ]
  },
  {
   "cell_type": "markdown",
   "metadata": {},
   "source": [
    "When the equity distributions of the players are similar, the equity distribution is approximately a straight line."
   ]
  },
  {
   "cell_type": "code",
   "execution_count": 24,
   "metadata": {
    "collapsed": false
   },
   "outputs": [
    {
     "data": {
      "image/png": "[encoded data removed]",
      "text/plain": [
       "<matplotlib.figure.Figure at 0xc28eeb0>"
      ]
     },
     "metadata": {},
     "output_type": "display_data"
    }
   ],
   "source": [
    "# Equity distribution on river\n",
    "board = pe.string2card(['8d', '6s', '3h', 'Kd', 'Jd'])\n",
    "range1 = Range(1.0)\n",
    "range2 = Range(1.0)\n",
    "plotEqDistn(range1, range2, board)"
   ]
  },
  {
   "cell_type": "markdown",
   "metadata": {},
   "source": [
    "Range 1 with a significant advantage over Range 2. In this situation, even the worse hands in Range 1 have significant equity over Range 2."
   ]
  },
  {
   "cell_type": "code",
   "execution_count": 25,
   "metadata": {
    "collapsed": false
   },
   "outputs": [
    {
     "data": {
      "image/png": "[encoded data removed]",
      "text/plain": [
       "<matplotlib.figure.Figure at 0xc29cb90>"
      ]
     },
     "metadata": {},
     "output_type": "display_data"
    }
   ],
   "source": [
    "board = pe.string2card(['8d', '6s', '3h', 'Kd', 'Jd'])\n",
    "range1 = Range(1.0)\n",
    "range1.setToTop(0.2, board)\n",
    "range2 = Range(1.0)\n",
    "range2.setToTop(0.8, board)\n",
    "plotEqDistn(range1, range2, board)"
   ]
  },
  {
   "cell_type": "markdown",
   "metadata": {},
   "source": [
    "If we swap range 1 and range 2 we see the reflection across the diagonal."
   ]
  },
  {
   "cell_type": "code",
   "execution_count": 26,
   "metadata": {
    "collapsed": false
   },
   "outputs": [
    {
     "data": {
      "image/png": "[encoded data removed]",
      "text/plain": [
       "<matplotlib.figure.Figure at 0xc3d6690>"
      ]
     },
     "metadata": {},
     "output_type": "display_data"
    }
   ],
   "source": [
    "board = pe.string2card(['8d', '6s', '3h', 'Kd', 'Jd'])\n",
    "range1 = Range(1.0)\n",
    "range1.setToTop(0.2, board)\n",
    "range2 = Range(1.0)\n",
    "range2.setToTop(0.8, board)\n",
    "plotEqDistn(range2, range1, board)"
   ]
  },
  {
   "cell_type": "markdown",
   "metadata": {},
   "source": [
    "<h3> Solving the Shove-Fold Game </h3>\n",
    "This is a simple game that is often analyzed for end of tournamnet situations. In this situation, the small blind (SB) can either shove or fold. The SB's strategy is defined by his jamming range and the BB's strategy is defined by his calling range. We will use the fictitious play algorithm to solve this simplified game."
   ]
  },
  {
   "cell_type": "code",
   "execution_count": 27,
   "metadata": {
    "collapsed": true
   },
   "outputs": [],
   "source": [
    "# Input:\n",
    "#    r1 - a Range object\n",
    "#    r2 - a Range ojbect\n",
    "#    n - a positive integer\n",
    "# Output: n/a\n",
    "# Side-effect:\n",
    "#    Modifies r1 to incorporate some amount (depending on n) of r2.\n",
    "#    In particular, the output of every hand in r1 at the end of the function\n",
    "#    will be given by:\n",
    "#    (original amount) * (fraction depending on n) + (new amount) * (1 - fraction)\n",
    "#    where the fraction becomes closer to 1 the higher n is.\n",
    "def updateRange(r1, r2, n):\n",
    "    fraction = 1 - 1 / (n + 2.0)\n",
    "    for i in range(numCards):\n",
    "        for j in range(i+1, numCards):\n",
    "            hand = [i, j]\n",
    "            r1.setFrac(hand, (r1.getFrac(hand)) * fraction + (r2.getFrac(hand)) * (1-fraction))\n",
    "            "
   ]
  },
  {
   "cell_type": "code",
   "execution_count": 28,
   "metadata": {
    "collapsed": true
   },
   "outputs": [],
   "source": [
    "# Input: n/a\n",
    "# Output: n/a\n",
    "# Side-effects: display SB shoving range and BB calling range\n",
    "def doShoveFoldGame():\n",
    "    \n",
    "    nIter = 200 # number of iterations for fictious play\n",
    "    S = 10 # stack size in BB\n",
    "    ea = EquityArray(pe.string2card(['__', '__', '__', '__', '__']))\n",
    "    \n",
    "    # guess initial ranges\n",
    "    sbJamRange = Range()\n",
    "    sbJamRange.setAllFracs(0.5) # not a good guess, this is deliberate\n",
    "    bbCallRange = Range()\n",
    "    bbCallRange.setAllFracs(0.5)\n",
    "    \n",
    "    for n in range(nIter):\n",
    "        #display(sbJamRange)\n",
    "        #display(bbCallRange)\n",
    "        \n",
    "        # solve for SB maximally exploitative strategy\n",
    "        bestSBJamRange = Range()\n",
    "        for i in range(numCards):\n",
    "            for j in range(i+1, numCards):\n",
    "                hand = [i, j]\n",
    "                \n",
    "                # The expected value of jamming is given by\n",
    "                # (chance BB folds) * (S+1) + (chance BB calls) * equity * 2 * S\n",
    "                # but we need to be careful to account for card removal effects\n",
    "                \n",
    "                bb_call_freq = bbCallRange.getNumHandsWithoutConflicts(hand) / numVillainHands\n",
    "                equity = getEquityVsRange(hand, bbCallRange, ea)\n",
    "                evJam = (1 - bb_call_freq) * (S+1) + (bb_call_freq) * equity * 2 * S\n",
    "                evFold = S - 0.5\n",
    "                if (evJam > evFold):\n",
    "                    bestSBJamRange.setFrac(hand, 1)\n",
    "                else:\n",
    "                    bestSBJamRange.setFrac(hand, 0)\n",
    "        \n",
    "        # update SB strategy\n",
    "        updateRange(sbJamRange, bestSBJamRange, n)\n",
    "        \n",
    "        # solve for BB maximally exploitative strategy\n",
    "        bestBBCallRange = Range()\n",
    "        for i in range(numCards):\n",
    "            for j in range(i+1, numCards):\n",
    "                hand = [i, j]\n",
    "                equity = getEquityVsRange(hand, sbJamRange, ea)\n",
    "                evCall = 2 * S * equity\n",
    "                evFold = S - 1\n",
    "                if (evCall > evFold):\n",
    "                    bestBBCallRange.setFrac(hand, 1)\n",
    "                else:\n",
    "                    bestBBCallRange.setFrac(hand, 0)\n",
    "                    \n",
    "        # update BB strat\n",
    "        updateRange(bbCallRange, bestBBCallRange, n)\n",
    "        \n",
    "\n",
    "        \n",
    "        \n",
    "    display(sbJamRange)\n",
    "    display(bbCallRange)"
   ]
  },
  {
   "cell_type": "code",
   "execution_count": 29,
   "metadata": {
    "collapsed": false
   },
   "outputs": [
    {
     "data": {
      "image/svg+xml": [
       "<svg xmlns=\"http://www.w3.org/2000/svg\" version = \"1.1\" width =\"260\" height = \"260\"><rect x=\"0\" y=\"0\" width=\"20\" height=\"20\" fill = \"#00ff00\"></rect><text x=\"2\" y=\"20 fill=\"black\" font-size=12 >AA</text><rect x=\"0\" y=\"20\" width=\"20\" height=\"20\" fill = \"#00ff00\"></rect><text x=\"2\" y=\"40 fill=\"black\" font-size=12 >AK</text><rect x=\"0\" y=\"40\" width=\"20\" height=\"20\" fill = \"#00ff00\"></rect><text x=\"2\" y=\"60 fill=\"black\" font-size=12 >AQ</text><rect x=\"0\" y=\"60\" width=\"20\" height=\"20\" fill = \"#00ff00\"></rect><text x=\"2\" y=\"80 fill=\"black\" font-size=12 >AJ</text><rect x=\"0\" y=\"80\" width=\"20\" height=\"20\" fill = \"#00ff00\"></rect><text x=\"2\" y=\"100 fill=\"black\" font-size=12 >AT</text><rect x=\"0\" y=\"100\" width=\"20\" height=\"20\" fill = \"#00ff00\"></rect><text x=\"2\" y=\"120 fill=\"black\" font-size=12 >A9</text><rect x=\"0\" y=\"120\" width=\"20\" height=\"20\" fill = \"#00ff00\"></rect><text x=\"2\" y=\"140 fill=\"black\" font-size=12 >A8</text><rect x=\"0\" y=\"140\" width=\"20\" height=\"20\" fill = \"#00ff00\"></rect><text x=\"2\" y=\"160 fill=\"black\" font-size=12 >A7</text><rect x=\"0\" y=\"160\" width=\"20\" height=\"20\" fill = \"#00ff00\"></rect><text x=\"2\" y=\"180 fill=\"black\" font-size=12 >A6</text><rect x=\"0\" y=\"180\" width=\"20\" height=\"20\" fill = \"#00ff00\"></rect><text x=\"2\" y=\"200 fill=\"black\" font-size=12 >A5</text><rect x=\"0\" y=\"200\" width=\"20\" height=\"20\" fill = \"#00ff00\"></rect><text x=\"2\" y=\"220 fill=\"black\" font-size=12 >A4</text><rect x=\"0\" y=\"220\" width=\"20\" height=\"20\" fill = \"#00ff00\"></rect><text x=\"2\" y=\"240 fill=\"black\" font-size=12 >A3</text><rect x=\"0\" y=\"240\" width=\"20\" height=\"20\" fill = \"#00ff00\"></rect><text x=\"2\" y=\"260 fill=\"black\" font-size=12 >A2</text><rect x=\"20\" y=\"0\" width=\"20\" height=\"20\" fill = \"#00ff00\"></rect><text x=\"22\" y=\"20 fill=\"black\" font-size=12 >KA</text><rect x=\"20\" y=\"20\" width=\"20\" height=\"20\" fill = \"#00ff00\"></rect><text x=\"22\" y=\"40 fill=\"black\" font-size=12 >KK</text><rect x=\"20\" y=\"40\" width=\"20\" height=\"20\" fill = \"#00ff00\"></rect><text x=\"22\" y=\"60 fill=\"black\" font-size=12 >KQ</text><rect x=\"20\" y=\"60\" width=\"20\" height=\"20\" fill = \"#00ff00\"></rect><text x=\"22\" y=\"80 fill=\"black\" font-size=12 >KJ</text><rect x=\"20\" y=\"80\" width=\"20\" height=\"20\" fill = \"#00ff00\"></rect><text x=\"22\" y=\"100 fill=\"black\" font-size=12 >KT</text><rect x=\"20\" y=\"100\" width=\"20\" height=\"20\" fill = \"#00ff00\"></rect><text x=\"22\" y=\"120 fill=\"black\" font-size=12 >K9</text><rect x=\"20\" y=\"120\" width=\"20\" height=\"20\" fill = \"#00ff00\"></rect><text x=\"22\" y=\"140 fill=\"black\" font-size=12 >K8</text><rect x=\"20\" y=\"140\" width=\"20\" height=\"20\" fill = \"#00ff00\"></rect><text x=\"22\" y=\"160 fill=\"black\" font-size=12 >K7</text><rect x=\"20\" y=\"160\" width=\"20\" height=\"20\" fill = \"#00ff00\"></rect><text x=\"22\" y=\"180 fill=\"black\" font-size=12 >K6</text><rect x=\"20\" y=\"180\" width=\"20\" height=\"20\" fill = \"#00ff00\"></rect><text x=\"22\" y=\"200 fill=\"black\" font-size=12 >K5</text><rect x=\"20\" y=\"200\" width=\"20\" height=\"20\" fill = \"#00ff00\"></rect><text x=\"22\" y=\"220 fill=\"black\" font-size=12 >K4</text><rect x=\"20\" y=\"220\" width=\"20\" height=\"20\" fill = \"#00ff00\"></rect><text x=\"22\" y=\"240 fill=\"black\" font-size=12 >K3</text><rect x=\"20\" y=\"240\" width=\"20\" height=\"20\" fill = \"#00ff00\"></rect><text x=\"22\" y=\"260 fill=\"black\" font-size=12 >K2</text><rect x=\"40\" y=\"0\" width=\"20\" height=\"20\" fill = \"#00ff00\"></rect><text x=\"42\" y=\"20 fill=\"black\" font-size=12 >QA</text><rect x=\"40\" y=\"20\" width=\"20\" height=\"20\" fill = \"#00ff00\"></rect><text x=\"42\" y=\"40 fill=\"black\" font-size=12 >QK</text><rect x=\"40\" y=\"40\" width=\"20\" height=\"20\" fill = \"#00ff00\"></rect><text x=\"42\" y=\"60 fill=\"black\" font-size=12 >QQ</text><rect x=\"40\" y=\"60\" width=\"20\" height=\"20\" fill = \"#00ff00\"></rect><text x=\"42\" y=\"80 fill=\"black\" font-size=12 >QJ</text><rect x=\"40\" y=\"80\" width=\"20\" height=\"20\" fill = \"#00ff00\"></rect><text x=\"42\" y=\"100 fill=\"black\" font-size=12 >QT</text><rect x=\"40\" y=\"100\" width=\"20\" height=\"20\" fill = \"#00ff00\"></rect><text x=\"42\" y=\"120 fill=\"black\" font-size=12 >Q9</text><rect x=\"40\" y=\"120\" width=\"20\" height=\"20\" fill = \"#00ff00\"></rect><text x=\"42\" y=\"140 fill=\"black\" font-size=12 >Q8</text><rect x=\"40\" y=\"140\" width=\"20\" height=\"20\" fill = \"#00ff00\"></rect><text x=\"42\" y=\"160 fill=\"black\" font-size=12 >Q7</text><rect x=\"40\" y=\"160\" width=\"20\" height=\"20\" fill = \"#74ff74\"></rect><text x=\"42\" y=\"180 fill=\"black\" font-size=12 >Q6</text><rect x=\"40\" y=\"180\" width=\"20\" height=\"20\" fill = \"#f8fff8\"></rect><text x=\"42\" y=\"200 fill=\"black\" font-size=12 >Q5</text><rect x=\"40\" y=\"200\" width=\"20\" height=\"20\" fill = \"#f9fff9\"></rect><text x=\"42\" y=\"220 fill=\"black\" font-size=12 >Q4</text><rect x=\"40\" y=\"220\" width=\"20\" height=\"20\" fill = \"#fafffa\"></rect><text x=\"42\" y=\"240 fill=\"black\" font-size=12 >Q3</text><rect x=\"40\" y=\"240\" width=\"20\" height=\"20\" fill = \"#fbfffb\"></rect><text x=\"42\" y=\"260 fill=\"black\" font-size=12 >Q2</text><rect x=\"60\" y=\"0\" width=\"20\" height=\"20\" fill = \"#00ff00\"></rect><text x=\"62\" y=\"20 fill=\"black\" font-size=12 >JA</text><rect x=\"60\" y=\"20\" width=\"20\" height=\"20\" fill = \"#00ff00\"></rect><text x=\"62\" y=\"40 fill=\"black\" font-size=12 >JK</text><rect x=\"60\" y=\"40\" width=\"20\" height=\"20\" fill = \"#00ff00\"></rect><text x=\"62\" y=\"60 fill=\"black\" font-size=12 >JQ</text><rect x=\"60\" y=\"60\" width=\"20\" height=\"20\" fill = \"#00ff00\"></rect><text x=\"62\" y=\"80 fill=\"black\" font-size=12 >JJ</text><rect x=\"60\" y=\"80\" width=\"20\" height=\"20\" fill = \"#00ff00\"></rect><text x=\"62\" y=\"100 fill=\"black\" font-size=12 >JT</text><rect x=\"60\" y=\"100\" width=\"20\" height=\"20\" fill = \"#00ff00\"></rect><text x=\"62\" y=\"120 fill=\"black\" font-size=12 >J9</text><rect x=\"60\" y=\"120\" width=\"20\" height=\"20\" fill = \"#00ff00\"></rect><text x=\"62\" y=\"140 fill=\"black\" font-size=12 >J8</text><rect x=\"60\" y=\"140\" width=\"20\" height=\"20\" fill = \"#fafffa\"></rect><text x=\"62\" y=\"160 fill=\"black\" font-size=12 >J7</text><rect x=\"60\" y=\"160\" width=\"20\" height=\"20\" fill = \"#fbfffb\"></rect><text x=\"62\" y=\"180 fill=\"black\" font-size=12 >J6</text><rect x=\"60\" y=\"180\" width=\"20\" height=\"20\" fill = \"#fbfffb\"></rect><text x=\"62\" y=\"200 fill=\"black\" font-size=12 >J5</text><rect x=\"60\" y=\"200\" width=\"20\" height=\"20\" fill = \"#fdfffd\"></rect><text x=\"62\" y=\"220 fill=\"black\" font-size=12 >J4</text><rect x=\"60\" y=\"220\" width=\"20\" height=\"20\" fill = \"#fdfffd\"></rect><text x=\"62\" y=\"240 fill=\"black\" font-size=12 >J3</text><rect x=\"60\" y=\"240\" width=\"20\" height=\"20\" fill = \"#fdfffd\"></rect><text x=\"62\" y=\"260 fill=\"black\" font-size=12 >J2</text><rect x=\"80\" y=\"0\" width=\"20\" height=\"20\" fill = \"#00ff00\"></rect><text x=\"82\" y=\"20 fill=\"black\" font-size=12 >TA</text><rect x=\"80\" y=\"20\" width=\"20\" height=\"20\" fill = \"#00ff00\"></rect><text x=\"82\" y=\"40 fill=\"black\" font-size=12 >TK</text><rect x=\"80\" y=\"40\" width=\"20\" height=\"20\" fill = \"#00ff00\"></rect><text x=\"82\" y=\"60 fill=\"black\" font-size=12 >TQ</text><rect x=\"80\" y=\"60\" width=\"20\" height=\"20\" fill = \"#00ff00\"></rect><text x=\"82\" y=\"80 fill=\"black\" font-size=12 >TJ</text><rect x=\"80\" y=\"80\" width=\"20\" height=\"20\" fill = \"#00ff00\"></rect><text x=\"82\" y=\"100 fill=\"black\" font-size=12 >TT</text><rect x=\"80\" y=\"100\" width=\"20\" height=\"20\" fill = \"#00ff00\"></rect><text x=\"82\" y=\"120 fill=\"black\" font-size=12 >T9</text><rect x=\"80\" y=\"120\" width=\"20\" height=\"20\" fill = \"#00ff00\"></rect><text x=\"82\" y=\"140 fill=\"black\" font-size=12 >T8</text><rect x=\"80\" y=\"140\" width=\"20\" height=\"20\" fill = \"#fbfffb\"></rect><text x=\"82\" y=\"160 fill=\"black\" font-size=12 >T7</text><rect x=\"80\" y=\"160\" width=\"20\" height=\"20\" fill = \"#fdfffd\"></rect><text x=\"82\" y=\"180 fill=\"black\" font-size=12 >T6</text><rect x=\"80\" y=\"180\" width=\"20\" height=\"20\" fill = \"#fdfffd\"></rect><text x=\"82\" y=\"200 fill=\"black\" font-size=12 >T5</text><rect x=\"80\" y=\"200\" width=\"20\" height=\"20\" fill = \"#fdfffd\"></rect><text x=\"82\" y=\"220 fill=\"black\" font-size=12 >T4</text><rect x=\"80\" y=\"220\" width=\"20\" height=\"20\" fill = \"#fdfffd\"></rect><text x=\"82\" y=\"240 fill=\"black\" font-size=12 >T3</text><rect x=\"80\" y=\"240\" width=\"20\" height=\"20\" fill = \"#fdfffd\"></rect><text x=\"82\" y=\"260 fill=\"black\" font-size=12 >T2</text><rect x=\"100\" y=\"0\" width=\"20\" height=\"20\" fill = \"#00ff00\"></rect><text x=\"102\" y=\"20 fill=\"black\" font-size=12 >9A</text><rect x=\"100\" y=\"20\" width=\"20\" height=\"20\" fill = \"#00ff00\"></rect><text x=\"102\" y=\"40 fill=\"black\" font-size=12 >9K</text><rect x=\"100\" y=\"40\" width=\"20\" height=\"20\" fill = \"#00ff00\"></rect><text x=\"102\" y=\"60 fill=\"black\" font-size=12 >9Q</text><rect x=\"100\" y=\"60\" width=\"20\" height=\"20\" fill = \"#00ff00\"></rect><text x=\"102\" y=\"80 fill=\"black\" font-size=12 >9J</text><rect x=\"100\" y=\"80\" width=\"20\" height=\"20\" fill = \"#00ff00\"></rect><text x=\"102\" y=\"100 fill=\"black\" font-size=12 >9T</text><rect x=\"100\" y=\"100\" width=\"20\" height=\"20\" fill = \"#00ff00\"></rect><text x=\"102\" y=\"120 fill=\"black\" font-size=12 >99</text><rect x=\"100\" y=\"120\" width=\"20\" height=\"20\" fill = \"#09ff09\"></rect><text x=\"102\" y=\"140 fill=\"black\" font-size=12 >98</text><rect x=\"100\" y=\"140\" width=\"20\" height=\"20\" fill = \"#27ff27\"></rect><text x=\"102\" y=\"160 fill=\"black\" font-size=12 >97</text><rect x=\"100\" y=\"160\" width=\"20\" height=\"20\" fill = \"#fdfffd\"></rect><text x=\"102\" y=\"180 fill=\"black\" font-size=12 >96</text><rect x=\"100\" y=\"180\" width=\"20\" height=\"20\" fill = \"#fdfffd\"></rect><text x=\"102\" y=\"200 fill=\"black\" font-size=12 >95</text><rect x=\"100\" y=\"200\" width=\"20\" height=\"20\" fill = \"#fdfffd\"></rect><text x=\"102\" y=\"220 fill=\"black\" font-size=12 >94</text><rect x=\"100\" y=\"220\" width=\"20\" height=\"20\" fill = \"#fdfffd\"></rect><text x=\"102\" y=\"240 fill=\"black\" font-size=12 >93</text><rect x=\"100\" y=\"240\" width=\"20\" height=\"20\" fill = \"#fefffe\"></rect><text x=\"102\" y=\"260 fill=\"black\" font-size=12 >92</text><rect x=\"120\" y=\"0\" width=\"20\" height=\"20\" fill = \"#00ff00\"></rect><text x=\"122\" y=\"20 fill=\"black\" font-size=12 >8A</text><rect x=\"120\" y=\"20\" width=\"20\" height=\"20\" fill = \"#00ff00\"></rect><text x=\"122\" y=\"40 fill=\"black\" font-size=12 >8K</text><rect x=\"120\" y=\"40\" width=\"20\" height=\"20\" fill = \"#00ff00\"></rect><text x=\"122\" y=\"60 fill=\"black\" font-size=12 >8Q</text><rect x=\"120\" y=\"60\" width=\"20\" height=\"20\" fill = \"#00ff00\"></rect><text x=\"122\" y=\"80 fill=\"black\" font-size=12 >8J</text><rect x=\"120\" y=\"80\" width=\"20\" height=\"20\" fill = \"#00ff00\"></rect><text x=\"122\" y=\"100 fill=\"black\" font-size=12 >8T</text><rect x=\"120\" y=\"100\" width=\"20\" height=\"20\" fill = \"#00ff00\"></rect><text x=\"122\" y=\"120 fill=\"black\" font-size=12 >89</text><rect x=\"120\" y=\"120\" width=\"20\" height=\"20\" fill = \"#00ff00\"></rect><text x=\"122\" y=\"140 fill=\"black\" font-size=12 >88</text><rect x=\"120\" y=\"140\" width=\"20\" height=\"20\" fill = \"#1aff1a\"></rect><text x=\"122\" y=\"160 fill=\"black\" font-size=12 >87</text><rect x=\"120\" y=\"160\" width=\"20\" height=\"20\" fill = \"#fdfffd\"></rect><text x=\"122\" y=\"180 fill=\"black\" font-size=12 >86</text><rect x=\"120\" y=\"180\" width=\"20\" height=\"20\" fill = \"#fdfffd\"></rect><text x=\"122\" y=\"200 fill=\"black\" font-size=12 >85</text><rect x=\"120\" y=\"200\" width=\"20\" height=\"20\" fill = \"#fefffe\"></rect><text x=\"122\" y=\"220 fill=\"black\" font-size=12 >84</text><rect x=\"120\" y=\"220\" width=\"20\" height=\"20\" fill = \"#fefffe\"></rect><text x=\"122\" y=\"240 fill=\"black\" font-size=12 >83</text><rect x=\"120\" y=\"240\" width=\"20\" height=\"20\" fill = \"#fefffe\"></rect><text x=\"122\" y=\"260 fill=\"black\" font-size=12 >82</text><rect x=\"140\" y=\"0\" width=\"20\" height=\"20\" fill = \"#00ff00\"></rect><text x=\"142\" y=\"20 fill=\"black\" font-size=12 >7A</text><rect x=\"140\" y=\"20\" width=\"20\" height=\"20\" fill = \"#00ff00\"></rect><text x=\"142\" y=\"40 fill=\"black\" font-size=12 >7K</text><rect x=\"140\" y=\"40\" width=\"20\" height=\"20\" fill = \"#00ff00\"></rect><text x=\"142\" y=\"60 fill=\"black\" font-size=12 >7Q</text><rect x=\"140\" y=\"60\" width=\"20\" height=\"20\" fill = \"#00ff00\"></rect><text x=\"142\" y=\"80 fill=\"black\" font-size=12 >7J</text><rect x=\"140\" y=\"80\" width=\"20\" height=\"20\" fill = \"#00ff00\"></rect><text x=\"142\" y=\"100 fill=\"black\" font-size=12 >7T</text><rect x=\"140\" y=\"100\" width=\"20\" height=\"20\" fill = \"#00ff00\"></rect><text x=\"142\" y=\"120 fill=\"black\" font-size=12 >79</text><rect x=\"140\" y=\"120\" width=\"20\" height=\"20\" fill = \"#00ff00\"></rect><text x=\"142\" y=\"140 fill=\"black\" font-size=12 >78</text><rect x=\"140\" y=\"140\" width=\"20\" height=\"20\" fill = \"#00ff00\"></rect><text x=\"142\" y=\"160 fill=\"black\" font-size=12 >77</text><rect x=\"140\" y=\"160\" width=\"20\" height=\"20\" fill = \"#2fff2f\"></rect><text x=\"142\" y=\"180 fill=\"black\" font-size=12 >76</text><rect x=\"140\" y=\"180\" width=\"20\" height=\"20\" fill = \"#fdfffd\"></rect><text x=\"142\" y=\"200 fill=\"black\" font-size=12 >75</text><rect x=\"140\" y=\"200\" width=\"20\" height=\"20\" fill = \"#fefffe\"></rect><text x=\"142\" y=\"220 fill=\"black\" font-size=12 >74</text><rect x=\"140\" y=\"220\" width=\"20\" height=\"20\" fill = \"#fefffe\"></rect><text x=\"142\" y=\"240 fill=\"black\" font-size=12 >73</text><rect x=\"140\" y=\"240\" width=\"20\" height=\"20\" fill = \"#fefffe\"></rect><text x=\"142\" y=\"260 fill=\"black\" font-size=12 >72</text><rect x=\"160\" y=\"0\" width=\"20\" height=\"20\" fill = \"#00ff00\"></rect><text x=\"162\" y=\"20 fill=\"black\" font-size=12 >6A</text><rect x=\"160\" y=\"20\" width=\"20\" height=\"20\" fill = \"#00ff00\"></rect><text x=\"162\" y=\"40 fill=\"black\" font-size=12 >6K</text><rect x=\"160\" y=\"40\" width=\"20\" height=\"20\" fill = \"#00ff00\"></rect><text x=\"162\" y=\"60 fill=\"black\" font-size=12 >6Q</text><rect x=\"160\" y=\"60\" width=\"20\" height=\"20\" fill = \"#00ff00\"></rect><text x=\"162\" y=\"80 fill=\"black\" font-size=12 >6J</text><rect x=\"160\" y=\"80\" width=\"20\" height=\"20\" fill = \"#00ff00\"></rect><text x=\"162\" y=\"100 fill=\"black\" font-size=12 >6T</text><rect x=\"160\" y=\"100\" width=\"20\" height=\"20\" fill = \"#00ff00\"></rect><text x=\"162\" y=\"120 fill=\"black\" font-size=12 >69</text><rect x=\"160\" y=\"120\" width=\"20\" height=\"20\" fill = \"#00ff00\"></rect><text x=\"162\" y=\"140 fill=\"black\" font-size=12 >68</text><rect x=\"160\" y=\"140\" width=\"20\" height=\"20\" fill = \"#00ff00\"></rect><text x=\"162\" y=\"160 fill=\"black\" font-size=12 >67</text><rect x=\"160\" y=\"160\" width=\"20\" height=\"20\" fill = \"#00ff00\"></rect><text x=\"162\" y=\"180 fill=\"black\" font-size=12 >66</text><rect x=\"160\" y=\"180\" width=\"20\" height=\"20\" fill = \"#fefffe\"></rect><text x=\"162\" y=\"200 fill=\"black\" font-size=12 >65</text><rect x=\"160\" y=\"200\" width=\"20\" height=\"20\" fill = \"#fefffe\"></rect><text x=\"162\" y=\"220 fill=\"black\" font-size=12 >64</text><rect x=\"160\" y=\"220\" width=\"20\" height=\"20\" fill = \"#fefffe\"></rect><text x=\"162\" y=\"240 fill=\"black\" font-size=12 >63</text><rect x=\"160\" y=\"240\" width=\"20\" height=\"20\" fill = \"#fefffe\"></rect><text x=\"162\" y=\"260 fill=\"black\" font-size=12 >62</text><rect x=\"180\" y=\"0\" width=\"20\" height=\"20\" fill = \"#00ff00\"></rect><text x=\"182\" y=\"20 fill=\"black\" font-size=12 >5A</text><rect x=\"180\" y=\"20\" width=\"20\" height=\"20\" fill = \"#00ff00\"></rect><text x=\"182\" y=\"40 fill=\"black\" font-size=12 >5K</text><rect x=\"180\" y=\"40\" width=\"20\" height=\"20\" fill = \"#00ff00\"></rect><text x=\"182\" y=\"60 fill=\"black\" font-size=12 >5Q</text><rect x=\"180\" y=\"60\" width=\"20\" height=\"20\" fill = \"#00ff00\"></rect><text x=\"182\" y=\"80 fill=\"black\" font-size=12 >5J</text><rect x=\"180\" y=\"80\" width=\"20\" height=\"20\" fill = \"#1fff1f\"></rect><text x=\"182\" y=\"100 fill=\"black\" font-size=12 >5T</text><rect x=\"180\" y=\"100\" width=\"20\" height=\"20\" fill = \"#17ff17\"></rect><text x=\"182\" y=\"120 fill=\"black\" font-size=12 >59</text><rect x=\"180\" y=\"120\" width=\"20\" height=\"20\" fill = \"#11ff11\"></rect><text x=\"182\" y=\"140 fill=\"black\" font-size=12 >58</text><rect x=\"180\" y=\"140\" width=\"20\" height=\"20\" fill = \"#0cff0c\"></rect><text x=\"182\" y=\"160 fill=\"black\" font-size=12 >57</text><rect x=\"180\" y=\"160\" width=\"20\" height=\"20\" fill = \"#08ff08\"></rect><text x=\"182\" y=\"180 fill=\"black\" font-size=12 >56</text><rect x=\"180\" y=\"180\" width=\"20\" height=\"20\" fill = \"#00ff00\"></rect><text x=\"182\" y=\"200 fill=\"black\" font-size=12 >55</text><rect x=\"180\" y=\"200\" width=\"20\" height=\"20\" fill = \"#fefffe\"></rect><text x=\"182\" y=\"220 fill=\"black\" font-size=12 >54</text><rect x=\"180\" y=\"220\" width=\"20\" height=\"20\" fill = \"#fefffe\"></rect><text x=\"182\" y=\"240 fill=\"black\" font-size=12 >53</text><rect x=\"180\" y=\"240\" width=\"20\" height=\"20\" fill = \"#fefffe\"></rect><text x=\"182\" y=\"260 fill=\"black\" font-size=12 >52</text><rect x=\"200\" y=\"0\" width=\"20\" height=\"20\" fill = \"#00ff00\"></rect><text x=\"202\" y=\"20 fill=\"black\" font-size=12 >4A</text><rect x=\"200\" y=\"20\" width=\"20\" height=\"20\" fill = \"#00ff00\"></rect><text x=\"202\" y=\"40 fill=\"black\" font-size=12 >4K</text><rect x=\"200\" y=\"40\" width=\"20\" height=\"20\" fill = \"#00ff00\"></rect><text x=\"202\" y=\"60 fill=\"black\" font-size=12 >4Q</text><rect x=\"200\" y=\"60\" width=\"20\" height=\"20\" fill = \"#0dff0d\"></rect><text x=\"202\" y=\"80 fill=\"black\" font-size=12 >4J</text><rect x=\"200\" y=\"80\" width=\"20\" height=\"20\" fill = \"#29ff29\"></rect><text x=\"202\" y=\"100 fill=\"black\" font-size=12 >4T</text><rect x=\"200\" y=\"100\" width=\"20\" height=\"20\" fill = \"#fdfffd\"></rect><text x=\"202\" y=\"120 fill=\"black\" font-size=12 >49</text><rect x=\"200\" y=\"120\" width=\"20\" height=\"20\" fill = \"#68ff68\"></rect><text x=\"202\" y=\"140 fill=\"black\" font-size=12 >48</text><rect x=\"200\" y=\"140\" width=\"20\" height=\"20\" fill = \"#24ff24\"></rect><text x=\"202\" y=\"160 fill=\"black\" font-size=12 >47</text><rect x=\"200\" y=\"160\" width=\"20\" height=\"20\" fill = \"#17ff17\"></rect><text x=\"202\" y=\"180 fill=\"black\" font-size=12 >46</text><rect x=\"200\" y=\"180\" width=\"20\" height=\"20\" fill = \"#0eff0e\"></rect><text x=\"202\" y=\"200 fill=\"black\" font-size=12 >45</text><rect x=\"200\" y=\"200\" width=\"20\" height=\"20\" fill = \"#00ff00\"></rect><text x=\"202\" y=\"220 fill=\"black\" font-size=12 >44</text><rect x=\"200\" y=\"220\" width=\"20\" height=\"20\" fill = \"#fefffe\"></rect><text x=\"202\" y=\"240 fill=\"black\" font-size=12 >43</text><rect x=\"200\" y=\"240\" width=\"20\" height=\"20\" fill = \"#fefffe\"></rect><text x=\"202\" y=\"260 fill=\"black\" font-size=12 >42</text><rect x=\"220\" y=\"0\" width=\"20\" height=\"20\" fill = \"#00ff00\"></rect><text x=\"222\" y=\"20 fill=\"black\" font-size=12 >3A</text><rect x=\"220\" y=\"20\" width=\"20\" height=\"20\" fill = \"#00ff00\"></rect><text x=\"222\" y=\"40 fill=\"black\" font-size=12 >3K</text><rect x=\"220\" y=\"40\" width=\"20\" height=\"20\" fill = \"#00ff00\"></rect><text x=\"222\" y=\"60 fill=\"black\" font-size=12 >3Q</text><rect x=\"220\" y=\"60\" width=\"20\" height=\"20\" fill = \"#20ff20\"></rect><text x=\"222\" y=\"80 fill=\"black\" font-size=12 >3J</text><rect x=\"220\" y=\"80\" width=\"20\" height=\"20\" fill = \"#fdfffd\"></rect><text x=\"222\" y=\"100 fill=\"black\" font-size=12 >3T</text><rect x=\"220\" y=\"100\" width=\"20\" height=\"20\" fill = \"#fdfffd\"></rect><text x=\"222\" y=\"120 fill=\"black\" font-size=12 >39</text><rect x=\"220\" y=\"120\" width=\"20\" height=\"20\" fill = \"#fdfffd\"></rect><text x=\"222\" y=\"140 fill=\"black\" font-size=12 >38</text><rect x=\"220\" y=\"140\" width=\"20\" height=\"20\" fill = \"#fdfffd\"></rect><text x=\"222\" y=\"160 fill=\"black\" font-size=12 >37</text><rect x=\"220\" y=\"160\" width=\"20\" height=\"20\" fill = \"#fefffe\"></rect><text x=\"222\" y=\"180 fill=\"black\" font-size=12 >36</text><rect x=\"220\" y=\"180\" width=\"20\" height=\"20\" fill = \"#29ff29\"></rect><text x=\"222\" y=\"200 fill=\"black\" font-size=12 >35</text><rect x=\"220\" y=\"200\" width=\"20\" height=\"20\" fill = \"#fefffe\"></rect><text x=\"222\" y=\"220 fill=\"black\" font-size=12 >34</text><rect x=\"220\" y=\"220\" width=\"20\" height=\"20\" fill = \"#00ff00\"></rect><text x=\"222\" y=\"240 fill=\"black\" font-size=12 >33</text><rect x=\"220\" y=\"240\" width=\"20\" height=\"20\" fill = \"#fefffe\"></rect><text x=\"222\" y=\"260 fill=\"black\" font-size=12 >32</text><rect x=\"240\" y=\"0\" width=\"20\" height=\"20\" fill = \"#00ff00\"></rect><text x=\"242\" y=\"20 fill=\"black\" font-size=12 >2A</text><rect x=\"240\" y=\"20\" width=\"20\" height=\"20\" fill = \"#00ff00\"></rect><text x=\"242\" y=\"40 fill=\"black\" font-size=12 >2K</text><rect x=\"240\" y=\"40\" width=\"20\" height=\"20\" fill = \"#00ff00\"></rect><text x=\"242\" y=\"60 fill=\"black\" font-size=12 >2Q</text><rect x=\"240\" y=\"60\" width=\"20\" height=\"20\" fill = \"#fbfffb\"></rect><text x=\"242\" y=\"80 fill=\"black\" font-size=12 >2J</text><rect x=\"240\" y=\"80\" width=\"20\" height=\"20\" fill = \"#fdfffd\"></rect><text x=\"242\" y=\"100 fill=\"black\" font-size=12 >2T</text><rect x=\"240\" y=\"100\" width=\"20\" height=\"20\" fill = \"#fdfffd\"></rect><text x=\"242\" y=\"120 fill=\"black\" font-size=12 >29</text><rect x=\"240\" y=\"120\" width=\"20\" height=\"20\" fill = \"#fdfffd\"></rect><text x=\"242\" y=\"140 fill=\"black\" font-size=12 >28</text><rect x=\"240\" y=\"140\" width=\"20\" height=\"20\" fill = \"#fefffe\"></rect><text x=\"242\" y=\"160 fill=\"black\" font-size=12 >27</text><rect x=\"240\" y=\"160\" width=\"20\" height=\"20\" fill = \"#fefffe\"></rect><text x=\"242\" y=\"180 fill=\"black\" font-size=12 >26</text><rect x=\"240\" y=\"180\" width=\"20\" height=\"20\" fill = \"#fefffe\"></rect><text x=\"242\" y=\"200 fill=\"black\" font-size=12 >25</text><rect x=\"240\" y=\"200\" width=\"20\" height=\"20\" fill = \"#fefffe\"></rect><text x=\"242\" y=\"220 fill=\"black\" font-size=12 >24</text><rect x=\"240\" y=\"220\" width=\"20\" height=\"20\" fill = \"#fefffe\"></rect><text x=\"242\" y=\"240 fill=\"black\" font-size=12 >23</text><rect x=\"240\" y=\"240\" width=\"20\" height=\"20\" fill = \"#00ff00\"></rect><text x=\"242\" y=\"260 fill=\"black\" font-size=12 >22</text></svg>"
      ],
      "text/plain": [
       "<__main__.Range instance at 0x0C3BBF08>"
      ]
     },
     "metadata": {},
     "output_type": "display_data"
    },
    {
     "data": {
      "image/svg+xml": [
       "<svg xmlns=\"http://www.w3.org/2000/svg\" version = \"1.1\" width =\"260\" height = \"260\"><rect x=\"0\" y=\"0\" width=\"20\" height=\"20\" fill = \"#00ff00\"></rect><text x=\"2\" y=\"20 fill=\"black\" font-size=12 >AA</text><rect x=\"0\" y=\"20\" width=\"20\" height=\"20\" fill = \"#00ff00\"></rect><text x=\"2\" y=\"40 fill=\"black\" font-size=12 >AK</text><rect x=\"0\" y=\"40\" width=\"20\" height=\"20\" fill = \"#00ff00\"></rect><text x=\"2\" y=\"60 fill=\"black\" font-size=12 >AQ</text><rect x=\"0\" y=\"60\" width=\"20\" height=\"20\" fill = \"#00ff00\"></rect><text x=\"2\" y=\"80 fill=\"black\" font-size=12 >AJ</text><rect x=\"0\" y=\"80\" width=\"20\" height=\"20\" fill = \"#00ff00\"></rect><text x=\"2\" y=\"100 fill=\"black\" font-size=12 >AT</text><rect x=\"0\" y=\"100\" width=\"20\" height=\"20\" fill = \"#00ff00\"></rect><text x=\"2\" y=\"120 fill=\"black\" font-size=12 >A9</text><rect x=\"0\" y=\"120\" width=\"20\" height=\"20\" fill = \"#00ff00\"></rect><text x=\"2\" y=\"140 fill=\"black\" font-size=12 >A8</text><rect x=\"0\" y=\"140\" width=\"20\" height=\"20\" fill = \"#00ff00\"></rect><text x=\"2\" y=\"160 fill=\"black\" font-size=12 >A7</text><rect x=\"0\" y=\"160\" width=\"20\" height=\"20\" fill = \"#00ff00\"></rect><text x=\"2\" y=\"180 fill=\"black\" font-size=12 >A6</text><rect x=\"0\" y=\"180\" width=\"20\" height=\"20\" fill = \"#00ff00\"></rect><text x=\"2\" y=\"200 fill=\"black\" font-size=12 >A5</text><rect x=\"0\" y=\"200\" width=\"20\" height=\"20\" fill = \"#00ff00\"></rect><text x=\"2\" y=\"220 fill=\"black\" font-size=12 >A4</text><rect x=\"0\" y=\"220\" width=\"20\" height=\"20\" fill = \"#00ff00\"></rect><text x=\"2\" y=\"240 fill=\"black\" font-size=12 >A3</text><rect x=\"0\" y=\"240\" width=\"20\" height=\"20\" fill = \"#00ff00\"></rect><text x=\"2\" y=\"260 fill=\"black\" font-size=12 >A2</text><rect x=\"20\" y=\"0\" width=\"20\" height=\"20\" fill = \"#00ff00\"></rect><text x=\"22\" y=\"20 fill=\"black\" font-size=12 >KA</text><rect x=\"20\" y=\"20\" width=\"20\" height=\"20\" fill = \"#00ff00\"></rect><text x=\"22\" y=\"40 fill=\"black\" font-size=12 >KK</text><rect x=\"20\" y=\"40\" width=\"20\" height=\"20\" fill = \"#00ff00\"></rect><text x=\"22\" y=\"60 fill=\"black\" font-size=12 >KQ</text><rect x=\"20\" y=\"60\" width=\"20\" height=\"20\" fill = \"#00ff00\"></rect><text x=\"22\" y=\"80 fill=\"black\" font-size=12 >KJ</text><rect x=\"20\" y=\"80\" width=\"20\" height=\"20\" fill = \"#00ff00\"></rect><text x=\"22\" y=\"100 fill=\"black\" font-size=12 >KT</text><rect x=\"20\" y=\"100\" width=\"20\" height=\"20\" fill = \"#00ff00\"></rect><text x=\"22\" y=\"120 fill=\"black\" font-size=12 >K9</text><rect x=\"20\" y=\"120\" width=\"20\" height=\"20\" fill = \"#00ff00\"></rect><text x=\"22\" y=\"140 fill=\"black\" font-size=12 >K8</text><rect x=\"20\" y=\"140\" width=\"20\" height=\"20\" fill = \"#00ff00\"></rect><text x=\"22\" y=\"160 fill=\"black\" font-size=12 >K7</text><rect x=\"20\" y=\"160\" width=\"20\" height=\"20\" fill = \"#00ff00\"></rect><text x=\"22\" y=\"180 fill=\"black\" font-size=12 >K6</text><rect x=\"20\" y=\"180\" width=\"20\" height=\"20\" fill = \"#16ff16\"></rect><text x=\"22\" y=\"200 fill=\"black\" font-size=12 >K5</text><rect x=\"20\" y=\"200\" width=\"20\" height=\"20\" fill = \"#f2fff2\"></rect><text x=\"22\" y=\"220 fill=\"black\" font-size=12 >K4</text><rect x=\"20\" y=\"220\" width=\"20\" height=\"20\" fill = \"#f6fff6\"></rect><text x=\"22\" y=\"240 fill=\"black\" font-size=12 >K3</text><rect x=\"20\" y=\"240\" width=\"20\" height=\"20\" fill = \"#f8fff8\"></rect><text x=\"22\" y=\"260 fill=\"black\" font-size=12 >K2</text><rect x=\"40\" y=\"0\" width=\"20\" height=\"20\" fill = \"#00ff00\"></rect><text x=\"42\" y=\"20 fill=\"black\" font-size=12 >QA</text><rect x=\"40\" y=\"20\" width=\"20\" height=\"20\" fill = \"#00ff00\"></rect><text x=\"42\" y=\"40 fill=\"black\" font-size=12 >QK</text><rect x=\"40\" y=\"40\" width=\"20\" height=\"20\" fill = \"#00ff00\"></rect><text x=\"42\" y=\"60 fill=\"black\" font-size=12 >QQ</text><rect x=\"40\" y=\"60\" width=\"20\" height=\"20\" fill = \"#00ff00\"></rect><text x=\"42\" y=\"80 fill=\"black\" font-size=12 >QJ</text><rect x=\"40\" y=\"80\" width=\"20\" height=\"20\" fill = \"#00ff00\"></rect><text x=\"42\" y=\"100 fill=\"black\" font-size=12 >QT</text><rect x=\"40\" y=\"100\" width=\"20\" height=\"20\" fill = \"#00ff00\"></rect><text x=\"42\" y=\"120 fill=\"black\" font-size=12 >Q9</text><rect x=\"40\" y=\"120\" width=\"20\" height=\"20\" fill = \"#f1fff1\"></rect><text x=\"42\" y=\"140 fill=\"black\" font-size=12 >Q8</text><rect x=\"40\" y=\"140\" width=\"20\" height=\"20\" fill = \"#f9fff9\"></rect><text x=\"42\" y=\"160 fill=\"black\" font-size=12 >Q7</text><rect x=\"40\" y=\"160\" width=\"20\" height=\"20\" fill = \"#fafffa\"></rect><text x=\"42\" y=\"180 fill=\"black\" font-size=12 >Q6</text><rect x=\"40\" y=\"180\" width=\"20\" height=\"20\" fill = \"#fbfffb\"></rect><text x=\"42\" y=\"200 fill=\"black\" font-size=12 >Q5</text><rect x=\"40\" y=\"200\" width=\"20\" height=\"20\" fill = \"#fdfffd\"></rect><text x=\"42\" y=\"220 fill=\"black\" font-size=12 >Q4</text><rect x=\"40\" y=\"220\" width=\"20\" height=\"20\" fill = \"#fdfffd\"></rect><text x=\"42\" y=\"240 fill=\"black\" font-size=12 >Q3</text><rect x=\"40\" y=\"240\" width=\"20\" height=\"20\" fill = \"#fdfffd\"></rect><text x=\"42\" y=\"260 fill=\"black\" font-size=12 >Q2</text><rect x=\"60\" y=\"0\" width=\"20\" height=\"20\" fill = \"#00ff00\"></rect><text x=\"62\" y=\"20 fill=\"black\" font-size=12 >JA</text><rect x=\"60\" y=\"20\" width=\"20\" height=\"20\" fill = \"#00ff00\"></rect><text x=\"62\" y=\"40 fill=\"black\" font-size=12 >JK</text><rect x=\"60\" y=\"40\" width=\"20\" height=\"20\" fill = \"#00ff00\"></rect><text x=\"62\" y=\"60 fill=\"black\" font-size=12 >JQ</text><rect x=\"60\" y=\"60\" width=\"20\" height=\"20\" fill = \"#00ff00\"></rect><text x=\"62\" y=\"80 fill=\"black\" font-size=12 >JJ</text><rect x=\"60\" y=\"80\" width=\"20\" height=\"20\" fill = \"#00ff00\"></rect><text x=\"62\" y=\"100 fill=\"black\" font-size=12 >JT</text><rect x=\"60\" y=\"100\" width=\"20\" height=\"20\" fill = \"#f5fff5\"></rect><text x=\"62\" y=\"120 fill=\"black\" font-size=12 >J9</text><rect x=\"60\" y=\"120\" width=\"20\" height=\"20\" fill = \"#fafffa\"></rect><text x=\"62\" y=\"140 fill=\"black\" font-size=12 >J8</text><rect x=\"60\" y=\"140\" width=\"20\" height=\"20\" fill = \"#fbfffb\"></rect><text x=\"62\" y=\"160 fill=\"black\" font-size=12 >J7</text><rect x=\"60\" y=\"160\" width=\"20\" height=\"20\" fill = \"#fdfffd\"></rect><text x=\"62\" y=\"180 fill=\"black\" font-size=12 >J6</text><rect x=\"60\" y=\"180\" width=\"20\" height=\"20\" fill = \"#fefffe\"></rect><text x=\"62\" y=\"200 fill=\"black\" font-size=12 >J5</text><rect x=\"60\" y=\"200\" width=\"20\" height=\"20\" fill = \"#fefffe\"></rect><text x=\"62\" y=\"220 fill=\"black\" font-size=12 >J4</text><rect x=\"60\" y=\"220\" width=\"20\" height=\"20\" fill = \"#fefffe\"></rect><text x=\"62\" y=\"240 fill=\"black\" font-size=12 >J3</text><rect x=\"60\" y=\"240\" width=\"20\" height=\"20\" fill = \"#fefffe\"></rect><text x=\"62\" y=\"260 fill=\"black\" font-size=12 >J2</text><rect x=\"80\" y=\"0\" width=\"20\" height=\"20\" fill = \"#00ff00\"></rect><text x=\"82\" y=\"20 fill=\"black\" font-size=12 >TA</text><rect x=\"80\" y=\"20\" width=\"20\" height=\"20\" fill = \"#00ff00\"></rect><text x=\"82\" y=\"40 fill=\"black\" font-size=12 >TK</text><rect x=\"80\" y=\"40\" width=\"20\" height=\"20\" fill = \"#00ff00\"></rect><text x=\"82\" y=\"60 fill=\"black\" font-size=12 >TQ</text><rect x=\"80\" y=\"60\" width=\"20\" height=\"20\" fill = \"#00ff00\"></rect><text x=\"82\" y=\"80 fill=\"black\" font-size=12 >TJ</text><rect x=\"80\" y=\"80\" width=\"20\" height=\"20\" fill = \"#00ff00\"></rect><text x=\"82\" y=\"100 fill=\"black\" font-size=12 >TT</text><rect x=\"80\" y=\"100\" width=\"20\" height=\"20\" fill = \"#fafffa\"></rect><text x=\"82\" y=\"120 fill=\"black\" font-size=12 >T9</text><rect x=\"80\" y=\"120\" width=\"20\" height=\"20\" fill = \"#fbfffb\"></rect><text x=\"82\" y=\"140 fill=\"black\" font-size=12 >T8</text><rect x=\"80\" y=\"140\" width=\"20\" height=\"20\" fill = \"#fdfffd\"></rect><text x=\"82\" y=\"160 fill=\"black\" font-size=12 >T7</text><rect x=\"80\" y=\"160\" width=\"20\" height=\"20\" fill = \"#fefffe\"></rect><text x=\"82\" y=\"180 fill=\"black\" font-size=12 >T6</text><rect x=\"80\" y=\"180\" width=\"20\" height=\"20\" fill = \"#fefffe\"></rect><text x=\"82\" y=\"200 fill=\"black\" font-size=12 >T5</text><rect x=\"80\" y=\"200\" width=\"20\" height=\"20\" fill = \"#fefffe\"></rect><text x=\"82\" y=\"220 fill=\"black\" font-size=12 >T4</text><rect x=\"80\" y=\"220\" width=\"20\" height=\"20\" fill = \"#fefffe\"></rect><text x=\"82\" y=\"240 fill=\"black\" font-size=12 >T3</text><rect x=\"80\" y=\"240\" width=\"20\" height=\"20\" fill = \"#fefffe\"></rect><text x=\"82\" y=\"260 fill=\"black\" font-size=12 >T2</text><rect x=\"100\" y=\"0\" width=\"20\" height=\"20\" fill = \"#00ff00\"></rect><text x=\"102\" y=\"20 fill=\"black\" font-size=12 >9A</text><rect x=\"100\" y=\"20\" width=\"20\" height=\"20\" fill = \"#00ff00\"></rect><text x=\"102\" y=\"40 fill=\"black\" font-size=12 >9K</text><rect x=\"100\" y=\"40\" width=\"20\" height=\"20\" fill = \"#00ff00\"></rect><text x=\"102\" y=\"60 fill=\"black\" font-size=12 >9Q</text><rect x=\"100\" y=\"60\" width=\"20\" height=\"20\" fill = \"#00ff00\"></rect><text x=\"102\" y=\"80 fill=\"black\" font-size=12 >9J</text><rect x=\"100\" y=\"80\" width=\"20\" height=\"20\" fill = \"#00ff00\"></rect><text x=\"102\" y=\"100 fill=\"black\" font-size=12 >9T</text><rect x=\"100\" y=\"100\" width=\"20\" height=\"20\" fill = \"#00ff00\"></rect><text x=\"102\" y=\"120 fill=\"black\" font-size=12 >99</text><rect x=\"100\" y=\"120\" width=\"20\" height=\"20\" fill = \"#fdfffd\"></rect><text x=\"102\" y=\"140 fill=\"black\" font-size=12 >98</text><rect x=\"100\" y=\"140\" width=\"20\" height=\"20\" fill = \"#fefffe\"></rect><text x=\"102\" y=\"160 fill=\"black\" font-size=12 >97</text><rect x=\"100\" y=\"160\" width=\"20\" height=\"20\" fill = \"#fefffe\"></rect><text x=\"102\" y=\"180 fill=\"black\" font-size=12 >96</text><rect x=\"100\" y=\"180\" width=\"20\" height=\"20\" fill = \"#fefffe\"></rect><text x=\"102\" y=\"200 fill=\"black\" font-size=12 >95</text><rect x=\"100\" y=\"200\" width=\"20\" height=\"20\" fill = \"#fefffe\"></rect><text x=\"102\" y=\"220 fill=\"black\" font-size=12 >94</text><rect x=\"100\" y=\"220\" width=\"20\" height=\"20\" fill = \"#fefffe\"></rect><text x=\"102\" y=\"240 fill=\"black\" font-size=12 >93</text><rect x=\"100\" y=\"240\" width=\"20\" height=\"20\" fill = \"#fefffe\"></rect><text x=\"102\" y=\"260 fill=\"black\" font-size=12 >92</text><rect x=\"120\" y=\"0\" width=\"20\" height=\"20\" fill = \"#00ff00\"></rect><text x=\"122\" y=\"20 fill=\"black\" font-size=12 >8A</text><rect x=\"120\" y=\"20\" width=\"20\" height=\"20\" fill = \"#00ff00\"></rect><text x=\"122\" y=\"40 fill=\"black\" font-size=12 >8K</text><rect x=\"120\" y=\"40\" width=\"20\" height=\"20\" fill = \"#00ff00\"></rect><text x=\"122\" y=\"60 fill=\"black\" font-size=12 >8Q</text><rect x=\"120\" y=\"60\" width=\"20\" height=\"20\" fill = \"#43ff43\"></rect><text x=\"122\" y=\"80 fill=\"black\" font-size=12 >8J</text><rect x=\"120\" y=\"80\" width=\"20\" height=\"20\" fill = \"#f8fff8\"></rect><text x=\"122\" y=\"100 fill=\"black\" font-size=12 >8T</text><rect x=\"120\" y=\"100\" width=\"20\" height=\"20\" fill = \"#fafffa\"></rect><text x=\"122\" y=\"120 fill=\"black\" font-size=12 >89</text><rect x=\"120\" y=\"120\" width=\"20\" height=\"20\" fill = \"#00ff00\"></rect><text x=\"122\" y=\"140 fill=\"black\" font-size=12 >88</text><rect x=\"120\" y=\"140\" width=\"20\" height=\"20\" fill = \"#fefffe\"></rect><text x=\"122\" y=\"160 fill=\"black\" font-size=12 >87</text><rect x=\"120\" y=\"160\" width=\"20\" height=\"20\" fill = \"#fefffe\"></rect><text x=\"122\" y=\"180 fill=\"black\" font-size=12 >86</text><rect x=\"120\" y=\"180\" width=\"20\" height=\"20\" fill = \"#fefffe\"></rect><text x=\"122\" y=\"200 fill=\"black\" font-size=12 >85</text><rect x=\"120\" y=\"200\" width=\"20\" height=\"20\" fill = \"#fefffe\"></rect><text x=\"122\" y=\"220 fill=\"black\" font-size=12 >84</text><rect x=\"120\" y=\"220\" width=\"20\" height=\"20\" fill = \"#fefffe\"></rect><text x=\"122\" y=\"240 fill=\"black\" font-size=12 >83</text><rect x=\"120\" y=\"240\" width=\"20\" height=\"20\" fill = \"#fefffe\"></rect><text x=\"122\" y=\"260 fill=\"black\" font-size=12 >82</text><rect x=\"140\" y=\"0\" width=\"20\" height=\"20\" fill = \"#00ff00\"></rect><text x=\"142\" y=\"20 fill=\"black\" font-size=12 >7A</text><rect x=\"140\" y=\"20\" width=\"20\" height=\"20\" fill = \"#00ff00\"></rect><text x=\"142\" y=\"40 fill=\"black\" font-size=12 >7K</text><rect x=\"140\" y=\"40\" width=\"20\" height=\"20\" fill = \"#1fff1f\"></rect><text x=\"142\" y=\"60 fill=\"black\" font-size=12 >7Q</text><rect x=\"140\" y=\"60\" width=\"20\" height=\"20\" fill = \"#f9fff9\"></rect><text x=\"142\" y=\"80 fill=\"black\" font-size=12 >7J</text><rect x=\"140\" y=\"80\" width=\"20\" height=\"20\" fill = \"#fbfffb\"></rect><text x=\"142\" y=\"100 fill=\"black\" font-size=12 >7T</text><rect x=\"140\" y=\"100\" width=\"20\" height=\"20\" fill = \"#fdfffd\"></rect><text x=\"142\" y=\"120 fill=\"black\" font-size=12 >79</text><rect x=\"140\" y=\"120\" width=\"20\" height=\"20\" fill = \"#fdfffd\"></rect><text x=\"142\" y=\"140 fill=\"black\" font-size=12 >78</text><rect x=\"140\" y=\"140\" width=\"20\" height=\"20\" fill = \"#00ff00\"></rect><text x=\"142\" y=\"160 fill=\"black\" font-size=12 >77</text><rect x=\"140\" y=\"160\" width=\"20\" height=\"20\" fill = \"#fefffe\"></rect><text x=\"142\" y=\"180 fill=\"black\" font-size=12 >76</text><rect x=\"140\" y=\"180\" width=\"20\" height=\"20\" fill = \"#fefffe\"></rect><text x=\"142\" y=\"200 fill=\"black\" font-size=12 >75</text><rect x=\"140\" y=\"200\" width=\"20\" height=\"20\" fill = \"#fefffe\"></rect><text x=\"142\" y=\"220 fill=\"black\" font-size=12 >74</text><rect x=\"140\" y=\"220\" width=\"20\" height=\"20\" fill = \"#fefffe\"></rect><text x=\"142\" y=\"240 fill=\"black\" font-size=12 >73</text><rect x=\"140\" y=\"240\" width=\"20\" height=\"20\" fill = \"#fefffe\"></rect><text x=\"142\" y=\"260 fill=\"black\" font-size=12 >72</text><rect x=\"160\" y=\"0\" width=\"20\" height=\"20\" fill = \"#00ff00\"></rect><text x=\"162\" y=\"20 fill=\"black\" font-size=12 >6A</text><rect x=\"160\" y=\"20\" width=\"20\" height=\"20\" fill = \"#00ff00\"></rect><text x=\"162\" y=\"40 fill=\"black\" font-size=12 >6K</text><rect x=\"160\" y=\"40\" width=\"20\" height=\"20\" fill = \"#f1fff1\"></rect><text x=\"162\" y=\"60 fill=\"black\" font-size=12 >6Q</text><rect x=\"160\" y=\"60\" width=\"20\" height=\"20\" fill = \"#fbfffb\"></rect><text x=\"162\" y=\"80 fill=\"black\" font-size=12 >6J</text><rect x=\"160\" y=\"80\" width=\"20\" height=\"20\" fill = \"#fdfffd\"></rect><text x=\"162\" y=\"100 fill=\"black\" font-size=12 >6T</text><rect x=\"160\" y=\"100\" width=\"20\" height=\"20\" fill = \"#fefffe\"></rect><text x=\"162\" y=\"120 fill=\"black\" font-size=12 >69</text><rect x=\"160\" y=\"120\" width=\"20\" height=\"20\" fill = \"#fefffe\"></rect><text x=\"162\" y=\"140 fill=\"black\" font-size=12 >68</text><rect x=\"160\" y=\"140\" width=\"20\" height=\"20\" fill = \"#fefffe\"></rect><text x=\"162\" y=\"160 fill=\"black\" font-size=12 >67</text><rect x=\"160\" y=\"160\" width=\"20\" height=\"20\" fill = \"#00ff00\"></rect><text x=\"162\" y=\"180 fill=\"black\" font-size=12 >66</text><rect x=\"160\" y=\"180\" width=\"20\" height=\"20\" fill = \"#fefffe\"></rect><text x=\"162\" y=\"200 fill=\"black\" font-size=12 >65</text><rect x=\"160\" y=\"200\" width=\"20\" height=\"20\" fill = \"#fefffe\"></rect><text x=\"162\" y=\"220 fill=\"black\" font-size=12 >64</text><rect x=\"160\" y=\"220\" width=\"20\" height=\"20\" fill = \"#fefffe\"></rect><text x=\"162\" y=\"240 fill=\"black\" font-size=12 >63</text><rect x=\"160\" y=\"240\" width=\"20\" height=\"20\" fill = \"#fefffe\"></rect><text x=\"162\" y=\"260 fill=\"black\" font-size=12 >62</text><rect x=\"180\" y=\"0\" width=\"20\" height=\"20\" fill = \"#00ff00\"></rect><text x=\"182\" y=\"20 fill=\"black\" font-size=12 >5A</text><rect x=\"180\" y=\"20\" width=\"20\" height=\"20\" fill = \"#00ff00\"></rect><text x=\"182\" y=\"40 fill=\"black\" font-size=12 >5K</text><rect x=\"180\" y=\"40\" width=\"20\" height=\"20\" fill = \"#f6fff6\"></rect><text x=\"182\" y=\"60 fill=\"black\" font-size=12 >5Q</text><rect x=\"180\" y=\"60\" width=\"20\" height=\"20\" fill = \"#fbfffb\"></rect><text x=\"182\" y=\"80 fill=\"black\" font-size=12 >5J</text><rect x=\"180\" y=\"80\" width=\"20\" height=\"20\" fill = \"#fefffe\"></rect><text x=\"182\" y=\"100 fill=\"black\" font-size=12 >5T</text><rect x=\"180\" y=\"100\" width=\"20\" height=\"20\" fill = \"#fefffe\"></rect><text x=\"182\" y=\"120 fill=\"black\" font-size=12 >59</text><rect x=\"180\" y=\"120\" width=\"20\" height=\"20\" fill = \"#fefffe\"></rect><text x=\"182\" y=\"140 fill=\"black\" font-size=12 >58</text><rect x=\"180\" y=\"140\" width=\"20\" height=\"20\" fill = \"#fefffe\"></rect><text x=\"182\" y=\"160 fill=\"black\" font-size=12 >57</text><rect x=\"180\" y=\"160\" width=\"20\" height=\"20\" fill = \"#fefffe\"></rect><text x=\"182\" y=\"180 fill=\"black\" font-size=12 >56</text><rect x=\"180\" y=\"180\" width=\"20\" height=\"20\" fill = \"#00ff00\"></rect><text x=\"182\" y=\"200 fill=\"black\" font-size=12 >55</text><rect x=\"180\" y=\"200\" width=\"20\" height=\"20\" fill = \"#fefffe\"></rect><text x=\"182\" y=\"220 fill=\"black\" font-size=12 >54</text><rect x=\"180\" y=\"220\" width=\"20\" height=\"20\" fill = \"#fefffe\"></rect><text x=\"182\" y=\"240 fill=\"black\" font-size=12 >53</text><rect x=\"180\" y=\"240\" width=\"20\" height=\"20\" fill = \"#fefffe\"></rect><text x=\"182\" y=\"260 fill=\"black\" font-size=12 >52</text><rect x=\"200\" y=\"0\" width=\"20\" height=\"20\" fill = \"#00ff00\"></rect><text x=\"202\" y=\"20 fill=\"black\" font-size=12 >4A</text><rect x=\"200\" y=\"20\" width=\"20\" height=\"20\" fill = \"#00ff00\"></rect><text x=\"202\" y=\"40 fill=\"black\" font-size=12 >4K</text><rect x=\"200\" y=\"40\" width=\"20\" height=\"20\" fill = \"#f8fff8\"></rect><text x=\"202\" y=\"60 fill=\"black\" font-size=12 >4Q</text><rect x=\"200\" y=\"60\" width=\"20\" height=\"20\" fill = \"#fdfffd\"></rect><text x=\"202\" y=\"80 fill=\"black\" font-size=12 >4J</text><rect x=\"200\" y=\"80\" width=\"20\" height=\"20\" fill = \"#fefffe\"></rect><text x=\"202\" y=\"100 fill=\"black\" font-size=12 >4T</text><rect x=\"200\" y=\"100\" width=\"20\" height=\"20\" fill = \"#fefffe\"></rect><text x=\"202\" y=\"120 fill=\"black\" font-size=12 >49</text><rect x=\"200\" y=\"120\" width=\"20\" height=\"20\" fill = \"#fefffe\"></rect><text x=\"202\" y=\"140 fill=\"black\" font-size=12 >48</text><rect x=\"200\" y=\"140\" width=\"20\" height=\"20\" fill = \"#fefffe\"></rect><text x=\"202\" y=\"160 fill=\"black\" font-size=12 >47</text><rect x=\"200\" y=\"160\" width=\"20\" height=\"20\" fill = \"#fefffe\"></rect><text x=\"202\" y=\"180 fill=\"black\" font-size=12 >46</text><rect x=\"200\" y=\"180\" width=\"20\" height=\"20\" fill = \"#fefffe\"></rect><text x=\"202\" y=\"200 fill=\"black\" font-size=12 >45</text><rect x=\"200\" y=\"200\" width=\"20\" height=\"20\" fill = \"#00ff00\"></rect><text x=\"202\" y=\"220 fill=\"black\" font-size=12 >44</text><rect x=\"200\" y=\"220\" width=\"20\" height=\"20\" fill = \"#fefffe\"></rect><text x=\"202\" y=\"240 fill=\"black\" font-size=12 >43</text><rect x=\"200\" y=\"240\" width=\"20\" height=\"20\" fill = \"#fefffe\"></rect><text x=\"202\" y=\"260 fill=\"black\" font-size=12 >42</text><rect x=\"220\" y=\"0\" width=\"20\" height=\"20\" fill = \"#00ff00\"></rect><text x=\"222\" y=\"20 fill=\"black\" font-size=12 >3A</text><rect x=\"220\" y=\"20\" width=\"20\" height=\"20\" fill = \"#00ff00\"></rect><text x=\"222\" y=\"40 fill=\"black\" font-size=12 >3K</text><rect x=\"220\" y=\"40\" width=\"20\" height=\"20\" fill = \"#f9fff9\"></rect><text x=\"222\" y=\"60 fill=\"black\" font-size=12 >3Q</text><rect x=\"220\" y=\"60\" width=\"20\" height=\"20\" fill = \"#fdfffd\"></rect><text x=\"222\" y=\"80 fill=\"black\" font-size=12 >3J</text><rect x=\"220\" y=\"80\" width=\"20\" height=\"20\" fill = \"#fefffe\"></rect><text x=\"222\" y=\"100 fill=\"black\" font-size=12 >3T</text><rect x=\"220\" y=\"100\" width=\"20\" height=\"20\" fill = \"#fefffe\"></rect><text x=\"222\" y=\"120 fill=\"black\" font-size=12 >39</text><rect x=\"220\" y=\"120\" width=\"20\" height=\"20\" fill = \"#fefffe\"></rect><text x=\"222\" y=\"140 fill=\"black\" font-size=12 >38</text><rect x=\"220\" y=\"140\" width=\"20\" height=\"20\" fill = \"#fefffe\"></rect><text x=\"222\" y=\"160 fill=\"black\" font-size=12 >37</text><rect x=\"220\" y=\"160\" width=\"20\" height=\"20\" fill = \"#fefffe\"></rect><text x=\"222\" y=\"180 fill=\"black\" font-size=12 >36</text><rect x=\"220\" y=\"180\" width=\"20\" height=\"20\" fill = \"#fefffe\"></rect><text x=\"222\" y=\"200 fill=\"black\" font-size=12 >35</text><rect x=\"220\" y=\"200\" width=\"20\" height=\"20\" fill = \"#fefffe\"></rect><text x=\"222\" y=\"220 fill=\"black\" font-size=12 >34</text><rect x=\"220\" y=\"220\" width=\"20\" height=\"20\" fill = \"#00ff00\"></rect><text x=\"222\" y=\"240 fill=\"black\" font-size=12 >33</text><rect x=\"220\" y=\"240\" width=\"20\" height=\"20\" fill = \"#fefffe\"></rect><text x=\"222\" y=\"260 fill=\"black\" font-size=12 >32</text><rect x=\"240\" y=\"0\" width=\"20\" height=\"20\" fill = \"#00ff00\"></rect><text x=\"242\" y=\"20 fill=\"black\" font-size=12 >2A</text><rect x=\"240\" y=\"20\" width=\"20\" height=\"20\" fill = \"#00ff00\"></rect><text x=\"242\" y=\"40 fill=\"black\" font-size=12 >2K</text><rect x=\"240\" y=\"40\" width=\"20\" height=\"20\" fill = \"#fafffa\"></rect><text x=\"242\" y=\"60 fill=\"black\" font-size=12 >2Q</text><rect x=\"240\" y=\"60\" width=\"20\" height=\"20\" fill = \"#fdfffd\"></rect><text x=\"242\" y=\"80 fill=\"black\" font-size=12 >2J</text><rect x=\"240\" y=\"80\" width=\"20\" height=\"20\" fill = \"#fefffe\"></rect><text x=\"242\" y=\"100 fill=\"black\" font-size=12 >2T</text><rect x=\"240\" y=\"100\" width=\"20\" height=\"20\" fill = \"#fefffe\"></rect><text x=\"242\" y=\"120 fill=\"black\" font-size=12 >29</text><rect x=\"240\" y=\"120\" width=\"20\" height=\"20\" fill = \"#fefffe\"></rect><text x=\"242\" y=\"140 fill=\"black\" font-size=12 >28</text><rect x=\"240\" y=\"140\" width=\"20\" height=\"20\" fill = \"#fefffe\"></rect><text x=\"242\" y=\"160 fill=\"black\" font-size=12 >27</text><rect x=\"240\" y=\"160\" width=\"20\" height=\"20\" fill = \"#fefffe\"></rect><text x=\"242\" y=\"180 fill=\"black\" font-size=12 >26</text><rect x=\"240\" y=\"180\" width=\"20\" height=\"20\" fill = \"#fefffe\"></rect><text x=\"242\" y=\"200 fill=\"black\" font-size=12 >25</text><rect x=\"240\" y=\"200\" width=\"20\" height=\"20\" fill = \"#fefffe\"></rect><text x=\"242\" y=\"220 fill=\"black\" font-size=12 >24</text><rect x=\"240\" y=\"220\" width=\"20\" height=\"20\" fill = \"#fefffe\"></rect><text x=\"242\" y=\"240 fill=\"black\" font-size=12 >23</text><rect x=\"240\" y=\"240\" width=\"20\" height=\"20\" fill = \"#00ff00\"></rect><text x=\"242\" y=\"260 fill=\"black\" font-size=12 >22</text></svg>"
      ],
      "text/plain": [
       "<__main__.Range instance at 0x0C4A3350>"
      ]
     },
     "metadata": {},
     "output_type": "display_data"
    }
   ],
   "source": [
    "doShoveFoldGame()"
   ]
  },
  {
   "cell_type": "code",
   "execution_count": 36,
   "metadata": {
    "collapsed": true
   },
   "outputs": [],
   "source": [
    "# Future Work\n",
    "# - tell computer how to visualize and work with decision trees\n",
    "# - strategies for playing those decision trees (multiple ranges)\n",
    "# - maximally exploitative strategies\n",
    "# - use fictitious play to find approximate equilibria"
   ]
  },
  {
   "cell_type": "code",
   "execution_count": 37,
   "metadata": {
    "collapsed": true
   },
   "outputs": [],
   "source": [
    "# Decision Trees\n",
    "# Create decision point object:\n",
    "#    player - a string decribing whose decision point it is\n",
    "#             one of \"SB\", \"BB\", \"Nature\", or \"Leaf\n",
    "#    initial_sb_cip - small blind chips in pot before any decision is made\n",
    "#                     at this point\n",
    "#    initial_bb_cip - like above but for BB\n",
    "#    eArray - an EquitiesArray describing the current board\n",
    "#    parentAction - string describing the action that got us to this point\n",
    "#                   one of: \"bet\", \"fold\", \"check\", \"call\" or board cards\n",
    "#    newCardFreq - only used if parent action was new cards being dealt\n",
    "#                  we don't want all new cards to have equaly probability\n",
    "#                  of falling\n",
    "# COnnect those objects via tree (graph) structure"
   ]
  },
  {
   "cell_type": "code",
   "execution_count": 30,
   "metadata": {
    "collapsed": true
   },
   "outputs": [],
   "source": [
    "# DecPt - represents a decision point object:\n",
    "#    player - a string decribing whose decision point it is\n",
    "#             one of \"SB\", \"BB\", \"Nature\", or \"Leaf\n",
    "#    initial_sb_cip - small blind chips in pot before any decision is made\n",
    "#                     at this point\n",
    "#    initial_bb_cip - like above but for BB\n",
    "#    eArray - an EquitiesArray describing the current board\n",
    "#    parentAction - string describing the action that got us to this point\n",
    "#                   one of: \"bet\", \"fold\", \"check\", \"call\" or board cards\n",
    "#    newCardFreq - only used if parent action was new cards being dealt\n",
    "#                  we don't want all new cards to have equaly probability\n",
    "#                  of falling\n",
    "class DecPt:\n",
    "    def __init__(self, player, initial_sb_cip, initial_bb_cip, eArray, parent_action, newCardFreq = 1.0):\n",
    "        self.player = player\n",
    "        self.initial_sb_cip = initial_sb_cip\n",
    "        self.initial_bb_cip = initial_bb_cip\n",
    "        self.eArray = eArray\n",
    "        self.parentAction = parentAction\n",
    "        self.newCardFreq = newCardFreq\n",
    "    \n",
    "    # Input: player - a string that is either \"SB\" or \"BB\"\n",
    "    # Output: chips in pot of player at beginning of decision point\n",
    "    # Side-Effects: n/a\n",
    "    def getPlayerCIP(self, player):\n",
    "        if (player == \"SB\"):\n",
    "            return sb_initial_cip\n",
    "        elif (player == \"BB\"):\n",
    "            return bb_initial_cip\n",
    "        else:\n",
    "            print \"ERROR: DecPt.getPlayerCIP given invalid player: \" + player"
   ]
  },
  {
   "cell_type": "code",
   "execution_count": 31,
   "metadata": {
    "collapsed": false
   },
   "outputs": [],
   "source": [
    "# A simple approach to a tree structure:\n",
    "# Put all our decision points in a list (implicit numbering of them)\n",
    "# Then, we need to keep track of parent/child relationships using two more arrays.\n",
    "#    decPoints - name of this list\n",
    "#    parents - the ith element of this array will contain the number of the\n",
    "#              point which is the ith poin's parent. i.e. if we want to know\n",
    "#              the ith point's parent, we access parent[i]\n",
    "#    children - the ith element of this array will contain another array\n",
    "#               containing the numbers of points which are the ith point's\n",
    "#               children. i.e. if we want to know the ith point's children\n",
    "#               we access children[i].\n",
    "# Example:\n",
    "#                 0       1       2       3       4\n",
    "#     decPts: [pointA, pointB, pointC, pointD, pointE]\n",
    "# children: [[], [], [], [1, 2], [0, 3]]\n",
    "# parents: [4, 3, 3, 4, None]\n",
    "# Note: we only need one list to tell us about parent/child relationships\n",
    "#       because we can infer this relationship from one or the other\n",
    "#       Nevertheless, storing them is more convenient than searching the whole\n",
    "#       tree each time we need the other.\n",
    "\n",
    "# When we make a new tree, we'll just gie it an effective stack size S,\n",
    "# and a first decision point (called the root).\n",
    "# Later, we will add additional decision points.\n",
    "#\n",
    "class Tree:\n",
    "    def __init__(self, S, root):\n",
    "        self.effStack = S\n",
    "        self.decPts = [] # list of all decision pts in the tree\n",
    "        self.children = []\n",
    "        self.parents = []\n",
    "        self.addDecPt(root, None) # (node, parents)\n",
    "        \n",
    "        \n",
    "    # Inputs: n/a\n",
    "    # Outputs: the number of decision points in the tree\n",
    "    # Side-effects: n/a\n",
    "    def getNumPoints(self):\n",
    "        return len(self.decPts)\n",
    "    \n",
    "    # Inputs: n/a\n",
    "    # Outputs: Effective stack at the beginning of the decision tree\n",
    "    #          (corresponds to the beginning of the hand, i.e. neither player\n",
    "    #           has money in the pot. No blinds, no bets made.)\n",
    "    # Side-effects: n/a\n",
    "    def getEffectiveStack(self):\n",
    "        return self.effStack\n",
    "        \n",
    "    # Inputs:\n",
    "    #    point: the new point (not previously in the tree)\n",
    "    #    parent: a decision point already in the tree\n",
    "    # Outputs: n/a\n",
    "    # Side-effects: adds a new decision point to the tree\n",
    "    def addDecPt(self, point, parents):\n",
    "        self.decPts.append(point)\n",
    "        self.children.append([])\n",
    "        if (parent == None): # only true for the root node\n",
    "            self.parents.append(None)\n",
    "        else:\n",
    "            parentIndex = self.decPts.index(parent)\n",
    "            self.children[parentIndex].append(self.getNumPoints() - 1 )\n",
    "            self.parents.append(parentIndex)"
   ]
  },
  {
   "cell_type": "markdown",
   "metadata": {
    "collapsed": true
   },
   "source": [
    "to be continued...\n",
    "\n",
    "Future work\n",
    "- rewrite above to follow normal naming conventions\n",
    "- move bulk of comments into docstrings\n",
    "- develop graph visualization techniques\n",
    "- solve more complex games"
   ]
  }
 ],
 "metadata": {
  "anaconda-cloud": {},
  "kernelspec": {
   "display_name": "Python 2",
   "language": "python",
   "name": "python2"
  },
  "language_info": {
   "codemirror_mode": {
    "name": "ipython",
    "version": 2
   },
   "file_extension": ".py",
   "mimetype": "text/x-python",
   "name": "python",
   "nbconvert_exporter": "python",
   "pygments_lexer": "ipython2",
   "version": "2.7.13"
  }
 },
 "nbformat": 4,
 "nbformat_minor": 1
}
